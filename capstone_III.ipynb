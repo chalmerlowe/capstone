{
 "cells": [
  {
   "cell_type": "markdown",
   "metadata": {},
   "source": [
    "# Capstone Project: Network and Host Log Analysis #\n",
    "## Chalmer Lowe\n",
    "\n",
    "The analysis of computer behavior (both the behavior of individual hosts and the behavior of traffic crossing between hosts) is fundamental to performing cyber security analysis. This assessment evaluates a portion of the data from a Los Alamos National Labs (LANL) data set comprising 90 days of host-based data collection and 90 days of network traffic. Due to the extremely large data set, we opted to limit our analysis to a subset of the total data that was collected on Day 90. We attempted to include only data from the hosts and the network that fell within the same time slot (~370 seconds out of the day). This subset of data was chosen as a means of limiting the data to a size that could be uploaded to GitHub as part of the homework submission process.\n",
    "\n",
    "Our subset of the data is included for use with this notebook."
   ]
  },
  {
   "cell_type": "markdown",
   "metadata": {},
   "source": [
    "## Who and What on the network\n",
    "\n",
    "Who and What: an assessment of the behavior on and between hosts on a network, based on research collected at Los Alamos National Laboratory.\n",
    "\n",
    "In initiating this project, several questions immediately come to mind even before starting the exploratory data analysis (EDA):\n",
    "* Is there a relationship between specific hosts and the number of packets (or bytes) sent?\n",
    "* Is there a trend in when certain Events occur?\n",
    "\n",
    "As the assessment progressed it was quickly discovered that the data upload limits severely impacted the amount of analysis that could be effectively performed. Because the data provided by LANL covers such a large quantity of network and host traffic and logs (estimated at 145 GB of network data and 45 GB of host data), we greatly reduced the dataset to something manageable: a total of ~150 MB of combined data from a portion of Day 90. **For emphasis:** this equates to **SIX minutes** of data.\n",
    "\n",
    "** Data Source:** \n",
    "The original data for this project came from: [https://csr.lanl.gov/data/2017.html](https://csr.lanl.gov/data/2017.html). "
   ]
  },
  {
   "cell_type": "markdown",
   "metadata": {},
   "source": [
    "## Table of Contents\n",
    "\n",
    "* Load Packages\n",
    "* Load the Data\n",
    "* Describe the Data\n",
    "* Drop Unwanted Columns and Examine the Data\n",
    "* Clean Corrupted Columns\n",
    "* Check for Missing Observations\n",
    "* Make the Column Names More Descriptive\n",
    "* Plot Variables with Potential Outliers Using Boxplots\n",
    "* Other Relevant Examinations and Plots\n",
    "* Standardizing Variables\n",
    "* Correlation Matrices\n",
    "* Backup Code for Processing the Original Data"
   ]
  },
  {
   "cell_type": "markdown",
   "metadata": {},
   "source": [
    "### 0. Load packages\n",
    "For the project, we used the following packages"
   ]
  },
  {
   "cell_type": "code",
   "execution_count": 2,
   "metadata": {
    "collapsed": true
   },
   "outputs": [],
   "source": [
    "import numpy as np\n",
    "import scipy.stats as stats\n",
    "import seaborn as sns\n",
    "import matplotlib.pyplot as plt\n",
    "import pandas as pd\n",
    "from sklearn.preprocessing import StandardScaler\n",
    "%matplotlib inline"
   ]
  },
  {
   "cell_type": "markdown",
   "metadata": {},
   "source": [
    "<a id='load_data'></a>\n",
    "\n",
    "### 1. Load the data\n",
    "\n",
    "---\n",
    "\n",
    "Our data came in two formats, a `csv` file and a `json` file. Each of these were imported into `pandas DataFrames`.\n",
    "\n",
    "As noted in the introduction, above, there was significantly more data available than could be conveniently processed and shared as part of this project. For that reason, we did some fast and dirty preprocessing to reduce the number of records for both of the data files related to day 90. The netflow data was reduced to ~3 million records between two time stamps. The host data was reduced to ~1 million records between roughly the same time stamps.\n"
   ]
  },
  {
   "cell_type": "markdown",
   "metadata": {},
   "source": [
    "**Host Data** The first dataset we will look at is the host data. This JSON-based file provides column headers based on the keys in the JSON. The file contains multiple JSON objects, one per line."
   ]
  },
  {
   "cell_type": "code",
   "execution_count": 3,
   "metadata": {},
   "outputs": [],
   "source": [
    "HOSTDATA = 'wls_day-90_217K'\n",
    "\n",
    "dfhost = pd.read_json(HOSTDATA, lines=True)"
   ]
  },
  {
   "cell_type": "markdown",
   "metadata": {},
   "source": [
    "**Network Data** The second dataset we will look at is the network data. This CSV-based file does not have headers built-in, for this reason, we will provide our own header names."
   ]
  },
  {
   "cell_type": "code",
   "execution_count": 4,
   "metadata": {
    "collapsed": true
   },
   "outputs": [],
   "source": [
    "names = ['Time',\n",
    "         'Duration',\n",
    "         'SrcDevice',\n",
    "         'DstDevice',\n",
    "         'Protocol',\n",
    "         'SrcPort',\n",
    "         'DstPort',\n",
    "         'SrcPackets',\n",
    "         'DstPackets',\n",
    "         'SrcBytes',\n",
    "         'DstBytes',\n",
    "        ]\n",
    "\n",
    "NETDATA = 'netflow_day-90_680K'\n",
    "\n",
    "dfnet = pd.read_csv(NETDATA, names=names)"
   ]
  },
  {
   "cell_type": "markdown",
   "metadata": {},
   "source": [
    "### 2. Describe the Data\n",
    "\n",
    "---\n",
    "\n",
    "We started off by looking quickly at the first few rows, using `.head()` on each of our `DataFrames`."
   ]
  },
  {
   "cell_type": "code",
   "execution_count": 5,
   "metadata": {},
   "outputs": [
    {
     "data": {
      "text/html": [
       "<div>\n",
       "<style scoped>\n",
       "    .dataframe tbody tr th:only-of-type {\n",
       "        vertical-align: middle;\n",
       "    }\n",
       "\n",
       "    .dataframe tbody tr th {\n",
       "        vertical-align: top;\n",
       "    }\n",
       "\n",
       "    .dataframe thead th {\n",
       "        text-align: right;\n",
       "    }\n",
       "</style>\n",
       "<table border=\"1\" class=\"dataframe\">\n",
       "  <thead>\n",
       "    <tr style=\"text-align: right;\">\n",
       "      <th></th>\n",
       "      <th>AuthenticationPackage</th>\n",
       "      <th>Destination</th>\n",
       "      <th>DomainName</th>\n",
       "      <th>EventID</th>\n",
       "      <th>FailureReason</th>\n",
       "      <th>LogHost</th>\n",
       "      <th>LogonID</th>\n",
       "      <th>LogonType</th>\n",
       "      <th>LogonTypeDescription</th>\n",
       "      <th>ParentProcessID</th>\n",
       "      <th>...</th>\n",
       "      <th>ProcessID</th>\n",
       "      <th>ProcessName</th>\n",
       "      <th>ServiceName</th>\n",
       "      <th>Source</th>\n",
       "      <th>Status</th>\n",
       "      <th>SubjectDomainName</th>\n",
       "      <th>SubjectLogonID</th>\n",
       "      <th>SubjectUserName</th>\n",
       "      <th>Time</th>\n",
       "      <th>UserName</th>\n",
       "    </tr>\n",
       "  </thead>\n",
       "  <tbody>\n",
       "    <tr>\n",
       "      <th>0</th>\n",
       "      <td>None</td>\n",
       "      <td>None</td>\n",
       "      <td>Domain001</td>\n",
       "      <td>4688</td>\n",
       "      <td>None</td>\n",
       "      <td>Comp883506</td>\n",
       "      <td>0x3e7</td>\n",
       "      <td>NaN</td>\n",
       "      <td>None</td>\n",
       "      <td>0x4db8</td>\n",
       "      <td>...</td>\n",
       "      <td>0x4140</td>\n",
       "      <td>wermgr.exe</td>\n",
       "      <td>None</td>\n",
       "      <td>None</td>\n",
       "      <td>None</td>\n",
       "      <td>None</td>\n",
       "      <td>None</td>\n",
       "      <td>None</td>\n",
       "      <td>7689600</td>\n",
       "      <td>Comp883506$</td>\n",
       "    </tr>\n",
       "    <tr>\n",
       "      <th>1</th>\n",
       "      <td>None</td>\n",
       "      <td>None</td>\n",
       "      <td>Domain001</td>\n",
       "      <td>4688</td>\n",
       "      <td>None</td>\n",
       "      <td>Comp154941</td>\n",
       "      <td>0x3e7</td>\n",
       "      <td>NaN</td>\n",
       "      <td>None</td>\n",
       "      <td>0x3b60</td>\n",
       "      <td>...</td>\n",
       "      <td>0x36c4</td>\n",
       "      <td>Proc857443.exe</td>\n",
       "      <td>None</td>\n",
       "      <td>None</td>\n",
       "      <td>None</td>\n",
       "      <td>None</td>\n",
       "      <td>None</td>\n",
       "      <td>None</td>\n",
       "      <td>7689600</td>\n",
       "      <td>Comp154941$</td>\n",
       "    </tr>\n",
       "    <tr>\n",
       "      <th>2</th>\n",
       "      <td>None</td>\n",
       "      <td>None</td>\n",
       "      <td>Domain001</td>\n",
       "      <td>4688</td>\n",
       "      <td>None</td>\n",
       "      <td>Comp055724</td>\n",
       "      <td>0x3e7</td>\n",
       "      <td>NaN</td>\n",
       "      <td>None</td>\n",
       "      <td>0x3c8</td>\n",
       "      <td>...</td>\n",
       "      <td>0xbfc</td>\n",
       "      <td>taskeng.exe</td>\n",
       "      <td>None</td>\n",
       "      <td>None</td>\n",
       "      <td>None</td>\n",
       "      <td>None</td>\n",
       "      <td>None</td>\n",
       "      <td>None</td>\n",
       "      <td>7689600</td>\n",
       "      <td>Comp055724$</td>\n",
       "    </tr>\n",
       "    <tr>\n",
       "      <th>3</th>\n",
       "      <td>None</td>\n",
       "      <td>None</td>\n",
       "      <td>Domain001</td>\n",
       "      <td>4769</td>\n",
       "      <td>None</td>\n",
       "      <td>ActiveDirectory</td>\n",
       "      <td>None</td>\n",
       "      <td>NaN</td>\n",
       "      <td>None</td>\n",
       "      <td>None</td>\n",
       "      <td>...</td>\n",
       "      <td>None</td>\n",
       "      <td>None</td>\n",
       "      <td>ActiveDirectory$</td>\n",
       "      <td>Comp230907</td>\n",
       "      <td>0x0</td>\n",
       "      <td>None</td>\n",
       "      <td>None</td>\n",
       "      <td>None</td>\n",
       "      <td>7689600</td>\n",
       "      <td>Comp230907$</td>\n",
       "    </tr>\n",
       "    <tr>\n",
       "      <th>4</th>\n",
       "      <td>Kerberos</td>\n",
       "      <td>None</td>\n",
       "      <td>Domain001</td>\n",
       "      <td>4624</td>\n",
       "      <td>None</td>\n",
       "      <td>ActiveDirectory</td>\n",
       "      <td>0xf014029</td>\n",
       "      <td>3.0</td>\n",
       "      <td>Network</td>\n",
       "      <td>None</td>\n",
       "      <td>...</td>\n",
       "      <td>None</td>\n",
       "      <td>None</td>\n",
       "      <td>None</td>\n",
       "      <td>Comp230907</td>\n",
       "      <td>None</td>\n",
       "      <td>None</td>\n",
       "      <td>None</td>\n",
       "      <td>None</td>\n",
       "      <td>7689600</td>\n",
       "      <td>Comp230907$</td>\n",
       "    </tr>\n",
       "  </tbody>\n",
       "</table>\n",
       "<p>5 rows × 21 columns</p>\n",
       "</div>"
      ],
      "text/plain": [
       "  AuthenticationPackage Destination DomainName  EventID FailureReason  \\\n",
       "0                  None        None  Domain001     4688          None   \n",
       "1                  None        None  Domain001     4688          None   \n",
       "2                  None        None  Domain001     4688          None   \n",
       "3                  None        None  Domain001     4769          None   \n",
       "4              Kerberos        None  Domain001     4624          None   \n",
       "\n",
       "           LogHost    LogonID  LogonType LogonTypeDescription ParentProcessID  \\\n",
       "0       Comp883506      0x3e7        NaN                 None          0x4db8   \n",
       "1       Comp154941      0x3e7        NaN                 None          0x3b60   \n",
       "2       Comp055724      0x3e7        NaN                 None           0x3c8   \n",
       "3  ActiveDirectory       None        NaN                 None            None   \n",
       "4  ActiveDirectory  0xf014029        3.0              Network            None   \n",
       "\n",
       "      ...      ProcessID     ProcessName       ServiceName      Source Status  \\\n",
       "0     ...         0x4140      wermgr.exe              None        None   None   \n",
       "1     ...         0x36c4  Proc857443.exe              None        None   None   \n",
       "2     ...          0xbfc     taskeng.exe              None        None   None   \n",
       "3     ...           None            None  ActiveDirectory$  Comp230907    0x0   \n",
       "4     ...           None            None              None  Comp230907   None   \n",
       "\n",
       "  SubjectDomainName SubjectLogonID SubjectUserName     Time     UserName  \n",
       "0              None           None            None  7689600  Comp883506$  \n",
       "1              None           None            None  7689600  Comp154941$  \n",
       "2              None           None            None  7689600  Comp055724$  \n",
       "3              None           None            None  7689600  Comp230907$  \n",
       "4              None           None            None  7689600  Comp230907$  \n",
       "\n",
       "[5 rows x 21 columns]"
      ]
     },
     "execution_count": 5,
     "metadata": {},
     "output_type": "execute_result"
    }
   ],
   "source": [
    "dfhost.head()"
   ]
  },
  {
   "cell_type": "code",
   "execution_count": 6,
   "metadata": {
    "collapsed": true
   },
   "outputs": [
    {
     "data": {
      "text/html": [
       "<div>\n",
       "<style scoped>\n",
       "    .dataframe tbody tr th:only-of-type {\n",
       "        vertical-align: middle;\n",
       "    }\n",
       "\n",
       "    .dataframe tbody tr th {\n",
       "        vertical-align: top;\n",
       "    }\n",
       "\n",
       "    .dataframe thead th {\n",
       "        text-align: right;\n",
       "    }\n",
       "</style>\n",
       "<table border=\"1\" class=\"dataframe\">\n",
       "  <thead>\n",
       "    <tr style=\"text-align: right;\">\n",
       "      <th></th>\n",
       "      <th>Time</th>\n",
       "      <th>Duration</th>\n",
       "      <th>SrcDevice</th>\n",
       "      <th>DstDevice</th>\n",
       "      <th>Protocol</th>\n",
       "      <th>SrcPort</th>\n",
       "      <th>DstPort</th>\n",
       "      <th>SrcPackets</th>\n",
       "      <th>DstPackets</th>\n",
       "      <th>SrcBytes</th>\n",
       "      <th>DstBytes</th>\n",
       "    </tr>\n",
       "  </thead>\n",
       "  <tbody>\n",
       "    <tr>\n",
       "      <th>0</th>\n",
       "      <td>7689600</td>\n",
       "      <td>0</td>\n",
       "      <td>Comp580697</td>\n",
       "      <td>Comp275646</td>\n",
       "      <td>17</td>\n",
       "      <td>Port08290</td>\n",
       "      <td>53</td>\n",
       "      <td>1</td>\n",
       "      <td>0</td>\n",
       "      <td>75</td>\n",
       "      <td>0</td>\n",
       "    </tr>\n",
       "    <tr>\n",
       "      <th>1</th>\n",
       "      <td>7689600</td>\n",
       "      <td>0</td>\n",
       "      <td>Comp580697</td>\n",
       "      <td>Comp275646</td>\n",
       "      <td>17</td>\n",
       "      <td>Port81132</td>\n",
       "      <td>53</td>\n",
       "      <td>1</td>\n",
       "      <td>0</td>\n",
       "      <td>75</td>\n",
       "      <td>0</td>\n",
       "    </tr>\n",
       "    <tr>\n",
       "      <th>2</th>\n",
       "      <td>7689600</td>\n",
       "      <td>0</td>\n",
       "      <td>Comp580697</td>\n",
       "      <td>Comp275646</td>\n",
       "      <td>17</td>\n",
       "      <td>Port21353</td>\n",
       "      <td>53</td>\n",
       "      <td>1</td>\n",
       "      <td>0</td>\n",
       "      <td>75</td>\n",
       "      <td>0</td>\n",
       "    </tr>\n",
       "    <tr>\n",
       "      <th>3</th>\n",
       "      <td>7689600</td>\n",
       "      <td>0</td>\n",
       "      <td>Comp258829</td>\n",
       "      <td>Comp388094</td>\n",
       "      <td>6</td>\n",
       "      <td>Port81881</td>\n",
       "      <td>Port75515</td>\n",
       "      <td>0</td>\n",
       "      <td>3</td>\n",
       "      <td>0</td>\n",
       "      <td>144</td>\n",
       "    </tr>\n",
       "    <tr>\n",
       "      <th>4</th>\n",
       "      <td>7689600</td>\n",
       "      <td>0</td>\n",
       "      <td>Comp819564</td>\n",
       "      <td>Comp576031</td>\n",
       "      <td>17</td>\n",
       "      <td>Port10711</td>\n",
       "      <td>514</td>\n",
       "      <td>1</td>\n",
       "      <td>0</td>\n",
       "      <td>245</td>\n",
       "      <td>0</td>\n",
       "    </tr>\n",
       "  </tbody>\n",
       "</table>\n",
       "</div>"
      ],
      "text/plain": [
       "      Time  Duration   SrcDevice   DstDevice  Protocol    SrcPort    DstPort  \\\n",
       "0  7689600         0  Comp580697  Comp275646        17  Port08290         53   \n",
       "1  7689600         0  Comp580697  Comp275646        17  Port81132         53   \n",
       "2  7689600         0  Comp580697  Comp275646        17  Port21353         53   \n",
       "3  7689600         0  Comp258829  Comp388094         6  Port81881  Port75515   \n",
       "4  7689600         0  Comp819564  Comp576031        17  Port10711        514   \n",
       "\n",
       "   SrcPackets  DstPackets  SrcBytes  DstBytes  \n",
       "0           1           0        75         0  \n",
       "1           1           0        75         0  \n",
       "2           1           0        75         0  \n",
       "3           0           3         0       144  \n",
       "4           1           0       245         0  "
      ]
     },
     "execution_count": 6,
     "metadata": {},
     "output_type": "execute_result"
    }
   ],
   "source": [
    "dfnet.head()"
   ]
  },
  {
   "cell_type": "markdown",
   "metadata": {},
   "source": [
    "During our initial data triage, we broke out a chunk of data from each of the two files associated with Day 90. This process was rough. To confirm that we have captured data in roughly the same time slots, we examined the time stamps to determine, start, stop and total time slice. This revealed that we have ~370 seconds of data contained within each `DataFrame`."
   ]
  },
  {
   "cell_type": "code",
   "execution_count": 7,
   "metadata": {},
   "outputs": [
    {
     "name": "stdout",
     "output_type": "stream",
     "text": [
      "total time slice (Hosts): 368 seconds\n",
      "Start and stop times: 7689600 7689968\n",
      "\n",
      "total time slice (Network): 371 seconds\n",
      "Start and stop times: 7689600 7689971\n"
     ]
    }
   ],
   "source": [
    "host_start = dfhost.Time.min()\n",
    "host_stop = dfhost.Time.max()\n",
    "\n",
    "print('total time slice (Hosts):', host_stop - host_start, 'seconds')\n",
    "print('Start and stop times:', host_start, host_stop)\n",
    "print()\n",
    "net_start = dfnet.Time.min()\n",
    "net_stop = dfnet.Time.max()\n",
    "print('total time slice (Network):', net_stop - net_start, 'seconds')\n",
    "print('Start and stop times:', net_start, net_stop)"
   ]
  },
  {
   "cell_type": "markdown",
   "metadata": {},
   "source": [
    "---\n",
    "\n",
    "From there, we used the `.dtypes()` method to look at the types of data stored in each of the `DataFrame` columns. Partly to know what we have and partly to determine whether we need to override any auto-formatting that might have occurred during data ingest. Fortunately, everything appeared to be in order."
   ]
  },
  {
   "cell_type": "code",
   "execution_count": 8,
   "metadata": {},
   "outputs": [
    {
     "data": {
      "text/plain": [
       "AuthenticationPackage     object\n",
       "Destination               object\n",
       "DomainName                object\n",
       "EventID                    int64\n",
       "FailureReason             object\n",
       "LogHost                   object\n",
       "LogonID                   object\n",
       "LogonType                float64\n",
       "LogonTypeDescription      object\n",
       "ParentProcessID           object\n",
       "ParentProcessName         object\n",
       "ProcessID                 object\n",
       "ProcessName               object\n",
       "ServiceName               object\n",
       "Source                    object\n",
       "Status                    object\n",
       "SubjectDomainName         object\n",
       "SubjectLogonID            object\n",
       "SubjectUserName           object\n",
       "Time                       int64\n",
       "UserName                  object\n",
       "dtype: object"
      ]
     },
     "execution_count": 8,
     "metadata": {},
     "output_type": "execute_result"
    }
   ],
   "source": [
    "dfhost.dtypes"
   ]
  },
  {
   "cell_type": "code",
   "execution_count": 9,
   "metadata": {},
   "outputs": [
    {
     "data": {
      "text/plain": [
       "Time           int64\n",
       "Duration       int64\n",
       "SrcDevice     object\n",
       "DstDevice     object\n",
       "Protocol       int64\n",
       "SrcPort       object\n",
       "DstPort       object\n",
       "SrcPackets     int64\n",
       "DstPackets     int64\n",
       "SrcBytes       int64\n",
       "DstBytes       int64\n",
       "dtype: object"
      ]
     },
     "execution_count": 9,
     "metadata": {},
     "output_type": "execute_result"
    }
   ],
   "source": [
    "dfnet.dtypes"
   ]
  },
  {
   "cell_type": "markdown",
   "metadata": {},
   "source": [
    "---\n",
    "\n",
    "Similarly we used the `.info()` function look at how many rows of each type of data are included in our data sets. We noticed right away that:\n",
    "\n",
    "* The host info has predominantly string objects with several numeric datatypes. The record count for each of the columns differs. Some of the columns have very little data, while some columns have data in each record\n",
    "* The net info has predominantly numeric datatypes with several string datatypes. The record count for each of the columns is the same"
   ]
  },
  {
   "cell_type": "code",
   "execution_count": 10,
   "metadata": {
    "collapsed": false
   },
   "outputs": [
    {
     "name": "stdout",
     "output_type": "stream",
     "text": [
      "<class 'pandas.core.frame.DataFrame'>\n",
      "RangeIndex: 217000 entries, 0 to 216999\n",
      "Data columns (total 21 columns):\n",
      "AuthenticationPackage    66791 non-null object\n",
      "Destination              6478 non-null object\n",
      "DomainName               217000 non-null object\n",
      "EventID                  217000 non-null int64\n",
      "FailureReason            608 non-null object\n",
      "LogHost                  217000 non-null object\n",
      "LogonID                  191599 non-null object\n",
      "LogonType                103788 non-null float64\n",
      "LogonTypeDescription     103788 non-null object\n",
      "ParentProcessID          64386 non-null object\n",
      "ParentProcessName        64386 non-null object\n",
      "ProcessID                75216 non-null object\n",
      "ProcessName              75216 non-null object\n",
      "ServiceName              7644 non-null object\n",
      "Source                   66966 non-null object\n",
      "Status                   25090 non-null object\n",
      "SubjectDomainName        6333 non-null object\n",
      "SubjectLogonID           6481 non-null object\n",
      "SubjectUserName          6333 non-null object\n",
      "Time                     217000 non-null int64\n",
      "UserName                 217000 non-null object\n",
      "dtypes: float64(1), int64(2), object(18)\n",
      "memory usage: 34.8+ MB\n"
     ]
    }
   ],
   "source": [
    "dfhost.info()"
   ]
  },
  {
   "cell_type": "code",
   "execution_count": 11,
   "metadata": {},
   "outputs": [
    {
     "name": "stdout",
     "output_type": "stream",
     "text": [
      "<class 'pandas.core.frame.DataFrame'>\n",
      "Int64Index: 680000 entries, 0 to 679999\n",
      "Data columns (total 11 columns):\n",
      "Time          680000 non-null int64\n",
      "Duration      680000 non-null int64\n",
      "SrcDevice     680000 non-null object\n",
      "DstDevice     680000 non-null object\n",
      "Protocol      680000 non-null int64\n",
      "SrcPort       680000 non-null object\n",
      "DstPort       680000 non-null object\n",
      "SrcPackets    680000 non-null int64\n",
      "DstPackets    680000 non-null int64\n",
      "SrcBytes      680000 non-null int64\n",
      "DstBytes      680000 non-null int64\n",
      "dtypes: int64(7), object(4)\n",
      "memory usage: 62.3+ MB\n"
     ]
    }
   ],
   "source": [
    "dfnet.info()"
   ]
  },
  {
   "cell_type": "markdown",
   "metadata": {},
   "source": [
    "---\n",
    "\n",
    "In addition to using `.info()`, we opted to use .describe() to get a sense for the types of data stored in the records, as well as:\n",
    "* measures of central tendency and variance for numeric data\n",
    "* the most frequent appearing entries for string data\n",
    "\n",
    "We used two different arguments with `.describe()`:\n",
    "* `include=np.number` to ensure that only numeric values were included\n",
    "* `include=object` to ensure that only string values were included\n",
    "\n",
    "This allowed us to take advantage of the different displays that pandas offers for numeric vs string-based values."
   ]
  },
  {
   "cell_type": "code",
   "execution_count": 12,
   "metadata": {
    "collapsed": false
   },
   "outputs": [
    {
     "data": {
      "text/html": [
       "<div>\n",
       "<style scoped>\n",
       "    .dataframe tbody tr th:only-of-type {\n",
       "        vertical-align: middle;\n",
       "    }\n",
       "\n",
       "    .dataframe tbody tr th {\n",
       "        vertical-align: top;\n",
       "    }\n",
       "\n",
       "    .dataframe thead th {\n",
       "        text-align: right;\n",
       "    }\n",
       "</style>\n",
       "<table border=\"1\" class=\"dataframe\">\n",
       "  <thead>\n",
       "    <tr style=\"text-align: right;\">\n",
       "      <th></th>\n",
       "      <th>EventID</th>\n",
       "      <th>LogonType</th>\n",
       "      <th>Time</th>\n",
       "    </tr>\n",
       "  </thead>\n",
       "  <tbody>\n",
       "    <tr>\n",
       "      <th>count</th>\n",
       "      <td>217000.000000</td>\n",
       "      <td>103788.000000</td>\n",
       "      <td>2.170000e+05</td>\n",
       "    </tr>\n",
       "    <tr>\n",
       "      <th>mean</th>\n",
       "      <td>4667.053221</td>\n",
       "      <td>3.011022</td>\n",
       "      <td>7.689781e+06</td>\n",
       "    </tr>\n",
       "    <tr>\n",
       "      <th>std</th>\n",
       "      <td>46.297830</td>\n",
       "      <td>0.444144</td>\n",
       "      <td>1.123760e+02</td>\n",
       "    </tr>\n",
       "    <tr>\n",
       "      <th>min</th>\n",
       "      <td>4624.000000</td>\n",
       "      <td>2.000000</td>\n",
       "      <td>7.689600e+06</td>\n",
       "    </tr>\n",
       "    <tr>\n",
       "      <th>25%</th>\n",
       "      <td>4634.000000</td>\n",
       "      <td>3.000000</td>\n",
       "      <td>7.689679e+06</td>\n",
       "    </tr>\n",
       "    <tr>\n",
       "      <th>50%</th>\n",
       "      <td>4648.000000</td>\n",
       "      <td>3.000000</td>\n",
       "      <td>7.689784e+06</td>\n",
       "    </tr>\n",
       "    <tr>\n",
       "      <th>75%</th>\n",
       "      <td>4688.000000</td>\n",
       "      <td>3.000000</td>\n",
       "      <td>7.689882e+06</td>\n",
       "    </tr>\n",
       "    <tr>\n",
       "      <th>max</th>\n",
       "      <td>4803.000000</td>\n",
       "      <td>9.000000</td>\n",
       "      <td>7.689968e+06</td>\n",
       "    </tr>\n",
       "  </tbody>\n",
       "</table>\n",
       "</div>"
      ],
      "text/plain": [
       "             EventID      LogonType          Time\n",
       "count  217000.000000  103788.000000  2.170000e+05\n",
       "mean     4667.053221       3.011022  7.689781e+06\n",
       "std        46.297830       0.444144  1.123760e+02\n",
       "min      4624.000000       2.000000  7.689600e+06\n",
       "25%      4634.000000       3.000000  7.689679e+06\n",
       "50%      4648.000000       3.000000  7.689784e+06\n",
       "75%      4688.000000       3.000000  7.689882e+06\n",
       "max      4803.000000       9.000000  7.689968e+06"
      ]
     },
     "execution_count": 12,
     "metadata": {},
     "output_type": "execute_result"
    }
   ],
   "source": [
    "dfhost.describe(include=np.number)"
   ]
  },
  {
   "cell_type": "code",
   "execution_count": 13,
   "metadata": {},
   "outputs": [
    {
     "data": {
      "text/html": [
       "<div>\n",
       "<style scoped>\n",
       "    .dataframe tbody tr th:only-of-type {\n",
       "        vertical-align: middle;\n",
       "    }\n",
       "\n",
       "    .dataframe tbody tr th {\n",
       "        vertical-align: top;\n",
       "    }\n",
       "\n",
       "    .dataframe thead th {\n",
       "        text-align: right;\n",
       "    }\n",
       "</style>\n",
       "<table border=\"1\" class=\"dataframe\">\n",
       "  <thead>\n",
       "    <tr style=\"text-align: right;\">\n",
       "      <th></th>\n",
       "      <th>AuthenticationPackage</th>\n",
       "      <th>Destination</th>\n",
       "      <th>DomainName</th>\n",
       "      <th>FailureReason</th>\n",
       "      <th>LogHost</th>\n",
       "      <th>LogonID</th>\n",
       "      <th>LogonTypeDescription</th>\n",
       "      <th>ParentProcessID</th>\n",
       "      <th>ParentProcessName</th>\n",
       "      <th>ProcessID</th>\n",
       "      <th>ProcessName</th>\n",
       "      <th>ServiceName</th>\n",
       "      <th>Source</th>\n",
       "      <th>Status</th>\n",
       "      <th>SubjectDomainName</th>\n",
       "      <th>SubjectLogonID</th>\n",
       "      <th>SubjectUserName</th>\n",
       "      <th>UserName</th>\n",
       "    </tr>\n",
       "  </thead>\n",
       "  <tbody>\n",
       "    <tr>\n",
       "      <th>count</th>\n",
       "      <td>66791</td>\n",
       "      <td>6478</td>\n",
       "      <td>217000</td>\n",
       "      <td>608</td>\n",
       "      <td>217000</td>\n",
       "      <td>191599</td>\n",
       "      <td>103788</td>\n",
       "      <td>64386</td>\n",
       "      <td>64386</td>\n",
       "      <td>75216</td>\n",
       "      <td>75216</td>\n",
       "      <td>7644</td>\n",
       "      <td>66966</td>\n",
       "      <td>25090</td>\n",
       "      <td>6333</td>\n",
       "      <td>6481</td>\n",
       "      <td>6333</td>\n",
       "      <td>217000</td>\n",
       "    </tr>\n",
       "    <tr>\n",
       "      <th>unique</th>\n",
       "      <td>4</td>\n",
       "      <td>97</td>\n",
       "      <td>32</td>\n",
       "      <td>4</td>\n",
       "      <td>7511</td>\n",
       "      <td>59805</td>\n",
       "      <td>7</td>\n",
       "      <td>5040</td>\n",
       "      <td>182</td>\n",
       "      <td>7916</td>\n",
       "      <td>381</td>\n",
       "      <td>512</td>\n",
       "      <td>5466</td>\n",
       "      <td>6</td>\n",
       "      <td>10</td>\n",
       "      <td>121</td>\n",
       "      <td>223</td>\n",
       "      <td>10452</td>\n",
       "    </tr>\n",
       "    <tr>\n",
       "      <th>top</th>\n",
       "      <td>Kerberos</td>\n",
       "      <td>Comp457365</td>\n",
       "      <td>Domain001</td>\n",
       "      <td>An Error occured during Logon.</td>\n",
       "      <td>ActiveDirectory</td>\n",
       "      <td>0x3e7</td>\n",
       "      <td>Network</td>\n",
       "      <td>0x12f4</td>\n",
       "      <td>svchost</td>\n",
       "      <td>0x2860</td>\n",
       "      <td>cmd.exe</td>\n",
       "      <td>Comp916004$</td>\n",
       "      <td>Comp916004</td>\n",
       "      <td>0x0</td>\n",
       "      <td>Domain001</td>\n",
       "      <td>0x3e7</td>\n",
       "      <td>Administrator</td>\n",
       "      <td>AppService</td>\n",
       "    </tr>\n",
       "    <tr>\n",
       "      <th>freq</th>\n",
       "      <td>38898</td>\n",
       "      <td>3297</td>\n",
       "      <td>208661</td>\n",
       "      <td>266</td>\n",
       "      <td>78863</td>\n",
       "      <td>61607</td>\n",
       "      <td>98856</td>\n",
       "      <td>2062</td>\n",
       "      <td>19221</td>\n",
       "      <td>3234</td>\n",
       "      <td>9239</td>\n",
       "      <td>2190</td>\n",
       "      <td>10386</td>\n",
       "      <td>24413</td>\n",
       "      <td>6094</td>\n",
       "      <td>2580</td>\n",
       "      <td>2480</td>\n",
       "      <td>34603</td>\n",
       "    </tr>\n",
       "  </tbody>\n",
       "</table>\n",
       "</div>"
      ],
      "text/plain": [
       "       AuthenticationPackage Destination DomainName  \\\n",
       "count                  66791        6478     217000   \n",
       "unique                     4          97         32   \n",
       "top                 Kerberos  Comp457365  Domain001   \n",
       "freq                   38898        3297     208661   \n",
       "\n",
       "                         FailureReason          LogHost LogonID  \\\n",
       "count                              608           217000  191599   \n",
       "unique                               4             7511   59805   \n",
       "top     An Error occured during Logon.  ActiveDirectory   0x3e7   \n",
       "freq                               266            78863   61607   \n",
       "\n",
       "       LogonTypeDescription ParentProcessID ParentProcessName ProcessID  \\\n",
       "count                103788           64386             64386     75216   \n",
       "unique                    7            5040               182      7916   \n",
       "top                 Network          0x12f4           svchost    0x2860   \n",
       "freq                  98856            2062             19221      3234   \n",
       "\n",
       "       ProcessName  ServiceName      Source Status SubjectDomainName  \\\n",
       "count        75216         7644       66966  25090              6333   \n",
       "unique         381          512        5466      6                10   \n",
       "top        cmd.exe  Comp916004$  Comp916004    0x0         Domain001   \n",
       "freq          9239         2190       10386  24413              6094   \n",
       "\n",
       "       SubjectLogonID SubjectUserName    UserName  \n",
       "count            6481            6333      217000  \n",
       "unique            121             223       10452  \n",
       "top             0x3e7   Administrator  AppService  \n",
       "freq             2580            2480       34603  "
      ]
     },
     "execution_count": 13,
     "metadata": {},
     "output_type": "execute_result"
    }
   ],
   "source": [
    "dfhost.describe(include=object)"
   ]
  },
  {
   "cell_type": "code",
   "execution_count": 14,
   "metadata": {},
   "outputs": [
    {
     "data": {
      "text/html": [
       "<div>\n",
       "<style scoped>\n",
       "    .dataframe tbody tr th:only-of-type {\n",
       "        vertical-align: middle;\n",
       "    }\n",
       "\n",
       "    .dataframe tbody tr th {\n",
       "        vertical-align: top;\n",
       "    }\n",
       "\n",
       "    .dataframe thead th {\n",
       "        text-align: right;\n",
       "    }\n",
       "</style>\n",
       "<table border=\"1\" class=\"dataframe\">\n",
       "  <thead>\n",
       "    <tr style=\"text-align: right;\">\n",
       "      <th></th>\n",
       "      <th>Time</th>\n",
       "      <th>Duration</th>\n",
       "      <th>Protocol</th>\n",
       "      <th>SrcPackets</th>\n",
       "      <th>DstPackets</th>\n",
       "      <th>SrcBytes</th>\n",
       "      <th>DstBytes</th>\n",
       "    </tr>\n",
       "  </thead>\n",
       "  <tbody>\n",
       "    <tr>\n",
       "      <th>count</th>\n",
       "      <td>6.800000e+05</td>\n",
       "      <td>680000.000000</td>\n",
       "      <td>680000.000000</td>\n",
       "      <td>6.800000e+05</td>\n",
       "      <td>6.800000e+05</td>\n",
       "      <td>6.800000e+05</td>\n",
       "      <td>6.800000e+05</td>\n",
       "    </tr>\n",
       "    <tr>\n",
       "      <th>mean</th>\n",
       "      <td>7.689771e+06</td>\n",
       "      <td>286.727428</td>\n",
       "      <td>9.391049</td>\n",
       "      <td>1.892920e+02</td>\n",
       "      <td>2.647250e+02</td>\n",
       "      <td>3.424752e+04</td>\n",
       "      <td>1.901783e+05</td>\n",
       "    </tr>\n",
       "    <tr>\n",
       "      <th>std</th>\n",
       "      <td>1.101649e+02</td>\n",
       "      <td>2911.013155</td>\n",
       "      <td>5.081883</td>\n",
       "      <td>4.170094e+04</td>\n",
       "      <td>7.691827e+04</td>\n",
       "      <td>5.917214e+06</td>\n",
       "      <td>5.497951e+07</td>\n",
       "    </tr>\n",
       "    <tr>\n",
       "      <th>min</th>\n",
       "      <td>7.689600e+06</td>\n",
       "      <td>0.000000</td>\n",
       "      <td>1.000000</td>\n",
       "      <td>0.000000e+00</td>\n",
       "      <td>0.000000e+00</td>\n",
       "      <td>0.000000e+00</td>\n",
       "      <td>0.000000e+00</td>\n",
       "    </tr>\n",
       "    <tr>\n",
       "      <th>25%</th>\n",
       "      <td>7.689672e+06</td>\n",
       "      <td>0.000000</td>\n",
       "      <td>6.000000</td>\n",
       "      <td>1.000000e+00</td>\n",
       "      <td>0.000000e+00</td>\n",
       "      <td>7.400000e+01</td>\n",
       "      <td>0.000000e+00</td>\n",
       "    </tr>\n",
       "    <tr>\n",
       "      <th>50%</th>\n",
       "      <td>7.689761e+06</td>\n",
       "      <td>1.000000</td>\n",
       "      <td>6.000000</td>\n",
       "      <td>4.000000e+00</td>\n",
       "      <td>1.000000e+00</td>\n",
       "      <td>2.810000e+02</td>\n",
       "      <td>6.000000e+01</td>\n",
       "    </tr>\n",
       "    <tr>\n",
       "      <th>75%</th>\n",
       "      <td>7.689869e+06</td>\n",
       "      <td>6.000000</td>\n",
       "      <td>17.000000</td>\n",
       "      <td>6.000000e+00</td>\n",
       "      <td>5.000000e+00</td>\n",
       "      <td>1.082000e+03</td>\n",
       "      <td>7.720000e+02</td>\n",
       "    </tr>\n",
       "    <tr>\n",
       "      <th>max</th>\n",
       "      <td>7.689971e+06</td>\n",
       "      <td>85892.000000</td>\n",
       "      <td>17.000000</td>\n",
       "      <td>1.709551e+07</td>\n",
       "      <td>3.618671e+07</td>\n",
       "      <td>2.579655e+09</td>\n",
       "      <td>2.766917e+10</td>\n",
       "    </tr>\n",
       "  </tbody>\n",
       "</table>\n",
       "</div>"
      ],
      "text/plain": [
       "               Time       Duration       Protocol    SrcPackets    DstPackets  \\\n",
       "count  6.800000e+05  680000.000000  680000.000000  6.800000e+05  6.800000e+05   \n",
       "mean   7.689771e+06     286.727428       9.391049  1.892920e+02  2.647250e+02   \n",
       "std    1.101649e+02    2911.013155       5.081883  4.170094e+04  7.691827e+04   \n",
       "min    7.689600e+06       0.000000       1.000000  0.000000e+00  0.000000e+00   \n",
       "25%    7.689672e+06       0.000000       6.000000  1.000000e+00  0.000000e+00   \n",
       "50%    7.689761e+06       1.000000       6.000000  4.000000e+00  1.000000e+00   \n",
       "75%    7.689869e+06       6.000000      17.000000  6.000000e+00  5.000000e+00   \n",
       "max    7.689971e+06   85892.000000      17.000000  1.709551e+07  3.618671e+07   \n",
       "\n",
       "           SrcBytes      DstBytes  \n",
       "count  6.800000e+05  6.800000e+05  \n",
       "mean   3.424752e+04  1.901783e+05  \n",
       "std    5.917214e+06  5.497951e+07  \n",
       "min    0.000000e+00  0.000000e+00  \n",
       "25%    7.400000e+01  0.000000e+00  \n",
       "50%    2.810000e+02  6.000000e+01  \n",
       "75%    1.082000e+03  7.720000e+02  \n",
       "max    2.579655e+09  2.766917e+10  "
      ]
     },
     "execution_count": 14,
     "metadata": {},
     "output_type": "execute_result"
    }
   ],
   "source": [
    "dfnet.describe(include=np.number)"
   ]
  },
  {
   "cell_type": "code",
   "execution_count": 15,
   "metadata": {},
   "outputs": [
    {
     "data": {
      "text/html": [
       "<div>\n",
       "<style scoped>\n",
       "    .dataframe tbody tr th:only-of-type {\n",
       "        vertical-align: middle;\n",
       "    }\n",
       "\n",
       "    .dataframe tbody tr th {\n",
       "        vertical-align: top;\n",
       "    }\n",
       "\n",
       "    .dataframe thead th {\n",
       "        text-align: right;\n",
       "    }\n",
       "</style>\n",
       "<table border=\"1\" class=\"dataframe\">\n",
       "  <thead>\n",
       "    <tr style=\"text-align: right;\">\n",
       "      <th></th>\n",
       "      <th>SrcDevice</th>\n",
       "      <th>DstDevice</th>\n",
       "      <th>SrcPort</th>\n",
       "      <th>DstPort</th>\n",
       "    </tr>\n",
       "  </thead>\n",
       "  <tbody>\n",
       "    <tr>\n",
       "      <th>count</th>\n",
       "      <td>680000</td>\n",
       "      <td>680000</td>\n",
       "      <td>680000</td>\n",
       "      <td>680000</td>\n",
       "    </tr>\n",
       "    <tr>\n",
       "      <th>unique</th>\n",
       "      <td>11692</td>\n",
       "      <td>6911</td>\n",
       "      <td>63359</td>\n",
       "      <td>10513</td>\n",
       "    </tr>\n",
       "    <tr>\n",
       "      <th>top</th>\n",
       "      <td>Comp030334</td>\n",
       "      <td>Comp275646</td>\n",
       "      <td>Port13777</td>\n",
       "      <td>80</td>\n",
       "    </tr>\n",
       "    <tr>\n",
       "      <th>freq</th>\n",
       "      <td>52527</td>\n",
       "      <td>97682</td>\n",
       "      <td>2836</td>\n",
       "      <td>106734</td>\n",
       "    </tr>\n",
       "  </tbody>\n",
       "</table>\n",
       "</div>"
      ],
      "text/plain": [
       "         SrcDevice   DstDevice    SrcPort DstPort\n",
       "count       680000      680000     680000  680000\n",
       "unique       11692        6911      63359   10513\n",
       "top     Comp030334  Comp275646  Port13777      80\n",
       "freq         52527       97682       2836  106734"
      ]
     },
     "execution_count": 15,
     "metadata": {},
     "output_type": "execute_result"
    }
   ],
   "source": [
    "dfnet.describe(include=object)"
   ]
  },
  {
   "cell_type": "markdown",
   "metadata": {},
   "source": [
    "<a id='drop'></a>\n",
    "\n",
    "### 2. Drop unwanted columns and examine the data\n",
    "\n",
    "---\n",
    "\n",
    "For various parts of my analysis, we experimented with selecting only certain columns for further analysis. We were very curious to see the relationships between the **LogonType** and the **LogonTypeDescription**, so we filtered the **dflogons** `DataFrame` to only two columns and then cleaned up the data by:\n",
    "* dropping duplicates\n",
    "* dropping Null values\n",
    "* sorting by the LogonType"
   ]
  },
  {
   "cell_type": "code",
   "execution_count": 16,
   "metadata": {},
   "outputs": [
    {
     "data": {
      "text/html": [
       "<div>\n",
       "<style scoped>\n",
       "    .dataframe tbody tr th:only-of-type {\n",
       "        vertical-align: middle;\n",
       "    }\n",
       "\n",
       "    .dataframe tbody tr th {\n",
       "        vertical-align: top;\n",
       "    }\n",
       "\n",
       "    .dataframe thead th {\n",
       "        text-align: right;\n",
       "    }\n",
       "</style>\n",
       "<table border=\"1\" class=\"dataframe\">\n",
       "  <thead>\n",
       "    <tr style=\"text-align: right;\">\n",
       "      <th></th>\n",
       "      <th>LogonType</th>\n",
       "      <th>LogonTypeDescription</th>\n",
       "    </tr>\n",
       "  </thead>\n",
       "  <tbody>\n",
       "    <tr>\n",
       "      <th>105</th>\n",
       "      <td>2.0</td>\n",
       "      <td>Interactive</td>\n",
       "    </tr>\n",
       "    <tr>\n",
       "      <th>4</th>\n",
       "      <td>3.0</td>\n",
       "      <td>Network</td>\n",
       "    </tr>\n",
       "    <tr>\n",
       "      <th>72</th>\n",
       "      <td>4.0</td>\n",
       "      <td>Batch</td>\n",
       "    </tr>\n",
       "    <tr>\n",
       "      <th>43</th>\n",
       "      <td>5.0</td>\n",
       "      <td>Service</td>\n",
       "    </tr>\n",
       "    <tr>\n",
       "      <th>163008</th>\n",
       "      <td>7.0</td>\n",
       "      <td>Unlock</td>\n",
       "    </tr>\n",
       "    <tr>\n",
       "      <th>1049</th>\n",
       "      <td>8.0</td>\n",
       "      <td>NetworkClearText</td>\n",
       "    </tr>\n",
       "    <tr>\n",
       "      <th>57793</th>\n",
       "      <td>9.0</td>\n",
       "      <td>NewCredentials</td>\n",
       "    </tr>\n",
       "  </tbody>\n",
       "</table>\n",
       "</div>"
      ],
      "text/plain": [
       "        LogonType LogonTypeDescription\n",
       "105           2.0          Interactive\n",
       "4             3.0              Network\n",
       "72            4.0                Batch\n",
       "43            5.0              Service\n",
       "163008        7.0               Unlock\n",
       "1049          8.0     NetworkClearText\n",
       "57793         9.0       NewCredentials"
      ]
     },
     "execution_count": 16,
     "metadata": {},
     "output_type": "execute_result"
    }
   ],
   "source": [
    "dflogons = dfhost[['LogonType', 'LogonTypeDescription']]\n",
    "dflogons.drop_duplicates().dropna().sort_values(by='LogonType')"
   ]
  },
  {
   "cell_type": "markdown",
   "metadata": {},
   "source": [
    "This led me to explore the frequency of each **LogonType**:"
   ]
  },
  {
   "cell_type": "code",
   "execution_count": 17,
   "metadata": {},
   "outputs": [
    {
     "data": {
      "text/plain": [
       "Network             98856\n",
       "Interactive          3385\n",
       "Service               783\n",
       "NetworkClearText      535\n",
       "Batch                 214\n",
       "Unlock                  8\n",
       "NewCredentials          7\n",
       "Name: LogonTypeDescription, dtype: int64"
      ]
     },
     "execution_count": 17,
     "metadata": {},
     "output_type": "execute_result"
    }
   ],
   "source": [
    "dfhost.LogonTypeDescription.value_counts()"
   ]
  },
  {
   "cell_type": "markdown",
   "metadata": {},
   "source": [
    "During the initial evaluation of the columns, we discovered that there were reasons associated with failed logons, so we displayed a frequency count of the reasons to see what types of reasons were recorded."
   ]
  },
  {
   "cell_type": "code",
   "execution_count": 18,
   "metadata": {},
   "outputs": [
    {
     "data": {
      "text/plain": [
       "An Error occured during Logon.                                             266\n",
       "Unknown user name or bad password.                                         235\n",
       "The user has not been granted the requested logon type at this machine.    103\n",
       "Account currently disabled.                                                  4\n",
       "Name: FailureReason, dtype: int64"
      ]
     },
     "execution_count": 18,
     "metadata": {},
     "output_type": "execute_result"
    }
   ],
   "source": [
    "dfhost.FailureReason.value_counts()"
   ]
  },
  {
   "cell_type": "markdown",
   "metadata": {},
   "source": [
    "Similarly, we were curious how many different entries were present in the **DomainName** column. This time we opted to sort by the items in the index to put the resultant `Series` into ASCII-betical order."
   ]
  },
  {
   "cell_type": "code",
   "execution_count": 19,
   "metadata": {},
   "outputs": [
    {
     "data": {
      "text/plain": [
       "Comp032135                 72\n",
       "Comp125736                329\n",
       "Comp146253                  1\n",
       "Comp307946                  8\n",
       "Comp308413                 17\n",
       "Comp349403                  2\n",
       "Comp350644                  8\n",
       "Comp399620                  3\n",
       "Comp455286                  3\n",
       "Comp567356                  1\n",
       "Comp585184                  8\n",
       "Comp586392                  1\n",
       "Comp601512                  4\n",
       "Comp721756                  1\n",
       "Comp735514                  5\n",
       "Comp743141                  8\n",
       "Comp862246                  8\n",
       "Comp882724                  1\n",
       "Comp896931                  1\n",
       "Comp902403                  1\n",
       "Comp907587                 20\n",
       "Comp923957                 10\n",
       "Comp966901                  1\n",
       "Comp981237                  1\n",
       "Domain001              208661\n",
       "Domain002                1112\n",
       "Domain003                  10\n",
       "Domain005                  35\n",
       "EnterpriseAppServer      2838\n",
       "nt authority             3804\n",
       "nt service                 24\n",
       "workgroup                   2\n",
       "Name: DomainName, dtype: int64"
      ]
     },
     "execution_count": 19,
     "metadata": {},
     "output_type": "execute_result"
    }
   ],
   "source": [
    "dfhost.DomainName.value_counts().sort_index()"
   ]
  },
  {
   "cell_type": "markdown",
   "metadata": {},
   "source": [
    "Based on these results, we felt like we wanted to focus some further investigation on the Domains with what appear to be \"official-sounding\" domain names, such as: Domain001, Domain002.\n",
    "\n",
    "To do this, we used the `str.contains()` method to search for any entries in the **DomainName** column that contain the string `Domain`."
   ]
  },
  {
   "cell_type": "code",
   "execution_count": 20,
   "metadata": {},
   "outputs": [
    {
     "data": {
      "text/plain": [
       "Domain001    208661\n",
       "Domain002      1112\n",
       "Domain005        35\n",
       "Domain003        10\n",
       "Name: DomainName, dtype: int64"
      ]
     },
     "execution_count": 20,
     "metadata": {},
     "output_type": "execute_result"
    }
   ],
   "source": [
    "dfdomains = dfhost[dfhost['DomainName'].str.contains('Domain')]\n",
    "dfdomains.DomainName.value_counts()"
   ]
  },
  {
   "cell_type": "markdown",
   "metadata": {},
   "source": [
    "Switching gears a bit... we took a look at some of the data related to the Hosts.\n",
    "\n",
    "To evaluate a possible relationship between the number of packets sent and the number of bytes sent, we chose to drop all the unrelated columns."
   ]
  },
  {
   "cell_type": "code",
   "execution_count": 21,
   "metadata": {
    "collapsed": true
   },
   "outputs": [
    {
     "data": {
      "text/html": [
       "<div>\n",
       "<style scoped>\n",
       "    .dataframe tbody tr th:only-of-type {\n",
       "        vertical-align: middle;\n",
       "    }\n",
       "\n",
       "    .dataframe tbody tr th {\n",
       "        vertical-align: top;\n",
       "    }\n",
       "\n",
       "    .dataframe thead th {\n",
       "        text-align: right;\n",
       "    }\n",
       "</style>\n",
       "<table border=\"1\" class=\"dataframe\">\n",
       "  <thead>\n",
       "    <tr style=\"text-align: right;\">\n",
       "      <th></th>\n",
       "      <th>Time</th>\n",
       "      <th>SrcDevice</th>\n",
       "      <th>DstDevice</th>\n",
       "      <th>SrcPackets</th>\n",
       "      <th>DstPackets</th>\n",
       "      <th>SrcBytes</th>\n",
       "      <th>DstBytes</th>\n",
       "    </tr>\n",
       "  </thead>\n",
       "  <tbody>\n",
       "    <tr>\n",
       "      <th>0</th>\n",
       "      <td>7689600</td>\n",
       "      <td>Comp580697</td>\n",
       "      <td>Comp275646</td>\n",
       "      <td>1</td>\n",
       "      <td>0</td>\n",
       "      <td>75</td>\n",
       "      <td>0</td>\n",
       "    </tr>\n",
       "    <tr>\n",
       "      <th>1</th>\n",
       "      <td>7689600</td>\n",
       "      <td>Comp580697</td>\n",
       "      <td>Comp275646</td>\n",
       "      <td>1</td>\n",
       "      <td>0</td>\n",
       "      <td>75</td>\n",
       "      <td>0</td>\n",
       "    </tr>\n",
       "    <tr>\n",
       "      <th>2</th>\n",
       "      <td>7689600</td>\n",
       "      <td>Comp580697</td>\n",
       "      <td>Comp275646</td>\n",
       "      <td>1</td>\n",
       "      <td>0</td>\n",
       "      <td>75</td>\n",
       "      <td>0</td>\n",
       "    </tr>\n",
       "    <tr>\n",
       "      <th>3</th>\n",
       "      <td>7689600</td>\n",
       "      <td>Comp258829</td>\n",
       "      <td>Comp388094</td>\n",
       "      <td>0</td>\n",
       "      <td>3</td>\n",
       "      <td>0</td>\n",
       "      <td>144</td>\n",
       "    </tr>\n",
       "    <tr>\n",
       "      <th>4</th>\n",
       "      <td>7689600</td>\n",
       "      <td>Comp819564</td>\n",
       "      <td>Comp576031</td>\n",
       "      <td>1</td>\n",
       "      <td>0</td>\n",
       "      <td>245</td>\n",
       "      <td>0</td>\n",
       "    </tr>\n",
       "  </tbody>\n",
       "</table>\n",
       "</div>"
      ],
      "text/plain": [
       "      Time   SrcDevice   DstDevice  SrcPackets  DstPackets  SrcBytes  DstBytes\n",
       "0  7689600  Comp580697  Comp275646           1           0        75         0\n",
       "1  7689600  Comp580697  Comp275646           1           0        75         0\n",
       "2  7689600  Comp580697  Comp275646           1           0        75         0\n",
       "3  7689600  Comp258829  Comp388094           0           3         0       144\n",
       "4  7689600  Comp819564  Comp576031           1           0       245         0"
      ]
     },
     "execution_count": 21,
     "metadata": {},
     "output_type": "execute_result"
    }
   ],
   "source": [
    "dfpnb = dfnet.drop(columns=['Duration', 'Protocol', 'SrcPort', 'DstPort'])\n",
    "dfpnb.head()"
   ]
  },
  {
   "cell_type": "markdown",
   "metadata": {},
   "source": [
    "### 3. Clean corrupted columns\n",
    "\n",
    "---\n",
    "\n",
    "No special cleansing of the data appeared to be necessary... by and large the data was auto-formatted as needed. "
   ]
  },
  {
   "cell_type": "markdown",
   "metadata": {},
   "source": [
    "\n",
    "### 4. Check for missing observations\n",
    "\n",
    "---\n",
    "\n",
    "We revisited the number of null records found in our datasets using an alternate methodology. By and large this data is similar to the data available in the results of the `.info()` method.\n",
    "\n",
    "We first confirmed how many total records were in the **dfdomains** `DataFrame` by using the `len()` function.\n",
    "\n",
    "Then we counted how many rows seemed to have missing data. Generally, what this tells me is that Host event records may vary widely and that certain details may not be required OR available in some records.\n",
    "\n",
    "We opted to leave all rows intact for the time being (i.e. opted against dropping records with Null values)."
   ]
  },
  {
   "cell_type": "code",
   "execution_count": 22,
   "metadata": {},
   "outputs": [
    {
     "name": "stdout",
     "output_type": "stream",
     "text": [
      "Total number of records: 209818\n"
     ]
    }
   ],
   "source": [
    "print('Total number of records:', len(dfdomains))"
   ]
  },
  {
   "cell_type": "code",
   "execution_count": 23,
   "metadata": {},
   "outputs": [
    {
     "data": {
      "text/plain": [
       "AuthenticationPackage    145692\n",
       "Destination              203647\n",
       "DomainName                    0\n",
       "EventID                       0\n",
       "FailureReason            209293\n",
       "LogHost                       0\n",
       "LogonID                   25319\n",
       "LogonType                110484\n",
       "LogonTypeDescription     110484\n",
       "ParentProcessID          146224\n",
       "ParentProcessName        146224\n",
       "ProcessID                136792\n",
       "ProcessName              136792\n",
       "ServiceName              202174\n",
       "Source                   144731\n",
       "Status                   184728\n",
       "SubjectDomainName        203795\n",
       "SubjectLogonID           203647\n",
       "SubjectUserName          203795\n",
       "Time                          0\n",
       "UserName                      0\n",
       "dtype: int64"
      ]
     },
     "execution_count": 23,
     "metadata": {},
     "output_type": "execute_result"
    }
   ],
   "source": [
    "dfdomains.isnull().sum()"
   ]
  },
  {
   "cell_type": "markdown",
   "metadata": {},
   "source": [
    "Using the same technique, we see by contrast, in looking at our packets and bytes DataFrame: there are no null values in the **dfpnb** `DataFrame` and these records are much more uniform, regular and consistent."
   ]
  },
  {
   "cell_type": "code",
   "execution_count": 24,
   "metadata": {},
   "outputs": [
    {
     "data": {
      "text/plain": [
       "Time          0\n",
       "SrcDevice     0\n",
       "DstDevice     0\n",
       "SrcPackets    0\n",
       "DstPackets    0\n",
       "SrcBytes      0\n",
       "DstBytes      0\n",
       "dtype: int64"
      ]
     },
     "execution_count": 24,
     "metadata": {},
     "output_type": "execute_result"
    }
   ],
   "source": [
    "dfpnb.isnull().sum()"
   ]
  },
  {
   "cell_type": "markdown",
   "metadata": {},
   "source": [
    "### 5. Make the column names more descriptive\n",
    "\n",
    "---\n",
    "\n",
    "We took a look at the column names for both our data and decided that the column names were adequate and didn't need to be changed."
   ]
  },
  {
   "cell_type": "code",
   "execution_count": 25,
   "metadata": {},
   "outputs": [
    {
     "data": {
      "text/plain": [
       "Index(['AuthenticationPackage', 'Destination', 'DomainName', 'EventID',\n",
       "       'FailureReason', 'LogHost', 'LogonID', 'LogonType',\n",
       "       'LogonTypeDescription', 'ParentProcessID', 'ParentProcessName',\n",
       "       'ProcessID', 'ProcessName', 'ServiceName', 'Source', 'Status',\n",
       "       'SubjectDomainName', 'SubjectLogonID', 'SubjectUserName', 'Time',\n",
       "       'UserName'],\n",
       "      dtype='object')"
      ]
     },
     "execution_count": 25,
     "metadata": {},
     "output_type": "execute_result"
    }
   ],
   "source": [
    "dfdomains.columns"
   ]
  },
  {
   "cell_type": "code",
   "execution_count": 26,
   "metadata": {
    "collapsed": false
   },
   "outputs": [
    {
     "data": {
      "text/plain": [
       "Index(['Time', 'SrcDevice', 'DstDevice', 'SrcPackets', 'DstPackets',\n",
       "       'SrcBytes', 'DstBytes'],\n",
       "      dtype='object')"
      ]
     },
     "execution_count": 26,
     "metadata": {},
     "output_type": "execute_result"
    }
   ],
   "source": [
    "dfpnb.columns"
   ]
  },
  {
   "cell_type": "markdown",
   "metadata": {},
   "source": [
    "### 6. Plot variables with potential outliers using boxplots.\n",
    "\n",
    "---\n",
    "As an experiment, I applied the `.boxplot()` method from the `seaborn` package to look at one of the columns for outliers.\n",
    "\n",
    "For the column **SrcPackets**, that we chose to evaluate via boxplot, we soon found that due to the scale and the variety of values, the results were not overwhelmingly useful for looking at the number of SrcPackets.\n",
    "\n",
    "Upon review we felt that the other columns were likely to have similar problems. This not unexpected, based on the minimum, maximum, mean and standard deviations that we saw for the various variables.\n",
    "\n",
    "The Default figure size was a bit small and the fonts a bit small, so we opted to increase the size a bit using `plt.figure(figsize)` and alter the fonts sizes using some default settings in `seaborn` using `sns.set_context()`."
   ]
  },
  {
   "cell_type": "code",
   "execution_count": 28,
   "metadata": {},
   "outputs": [
    {
     "data": {
      "image/png": "[encoded data removed]",
      "text/plain": [
       "<Figure size 720x504 with 1 Axes>"
      ]
     },
     "metadata": {},
     "output_type": "display_data"
    }
   ],
   "source": [
    "from matplotlib import pyplot as plt\n",
    "plt.figure(figsize=(10,7))\n",
    "sns.set_context('talk')\n",
    "ax = sns.boxplot(x='SrcPackets', data=dfpnb)\n",
    "plt.savefig('boxplot.png')"
   ]
  },
  {
   "cell_type": "markdown",
   "metadata": {},
   "source": [
    "### 7. Other relevant examinations and plots \n",
    "\n",
    "---\n"
   ]
  },
  {
   "cell_type": "markdown",
   "metadata": {},
   "source": [
    "In considering possible plots, a visual representation of the number of **LogonTypes** seemed like a good place to experiment, but as the results show... the disparity in values renders the plot mostly useless, since three of the columns disappear into the bottom of the graph. For comparison, we include the actual values in a frequency table.\n",
    "\n",
    "A better visualization would probably be a log-based histogram to show the disparities in values both at the bottom end of the range AND at the high end of the range, but that suffers somewhat from potentially being visually misleading."
   ]
  },
  {
   "cell_type": "code",
   "execution_count": 29,
   "metadata": {},
   "outputs": [
    {
     "name": "stdout",
     "output_type": "stream",
     "text": [
      "Value counts: 2.0     2972\n",
      "3.0    95795\n",
      "4.0       23\n",
      "7.0        8\n",
      "8.0      535\n",
      "9.0        1\n",
      "Name: LogonType, dtype: int64 \n",
      "\n"
     ]
    },
    {
     "data": {
      "image/png": "[encoded data removed]",
      "text/plain": [
       "<Figure size 720x504 with 1 Axes>"
      ]
     },
     "metadata": {},
     "output_type": "display_data"
    }
   ],
   "source": [
    "x = sorted(dfdomains.LogonType.dropna().unique())\n",
    "y = dfdomains.LogonType.value_counts().sort_index()\n",
    "\n",
    "print('Value counts:', y, '\\n')\n",
    "\n",
    "plt.figure(figsize=(10,7))\n",
    "sns.set_context('talk')\n",
    "sns.barplot(x=x, y=y, data=dfdomains, orient='v')\n",
    "plt.savefig('barplot.png')"
   ]
  },
  {
   "cell_type": "markdown",
   "metadata": {},
   "source": [
    "\n",
    "<a id='standardization'></a>\n",
    "\n",
    "### 8. Standardizing variables\n",
    "\n",
    "---\n",
    "\n",
    "As an experiment, we rescaled some of the columns. In this case, we chose to rescale these columns:\n",
    "\n",
    "* SrcPackets\n",
    "* DstPackets\n",
    "* SrcBytes\n",
    "* DstBytes"
   ]
  },
  {
   "cell_type": "code",
   "execution_count": 30,
   "metadata": {
    "collapsed": false
   },
   "outputs": [
    {
     "name": "stdout",
     "output_type": "stream",
     "text": [
      "SrcPackets       189.291954\n",
      "DstPackets       264.725031\n",
      "SrcBytes       34247.516318\n",
      "DstBytes      190178.331859\n",
      "dtype: float64\n",
      "SrcPackets    4.170094e+04\n",
      "DstPackets    7.691827e+04\n",
      "SrcBytes      5.917214e+06\n",
      "DstBytes      5.497951e+07\n",
      "dtype: float64\n"
     ]
    }
   ],
   "source": [
    "X = dfpnb[['SrcPackets', 'DstPackets', 'SrcBytes', 'DstBytes']]\n",
    "print(X.mean())\n",
    "print(X.std())"
   ]
  },
  {
   "cell_type": "markdown",
   "metadata": {},
   "source": [
    "As expected, after rescaling using the `StandardScaler()` method, the mean and standard deviation were reduced to 0 and 1, respectively."
   ]
  },
  {
   "cell_type": "code",
   "execution_count": 31,
   "metadata": {
    "collapsed": false
   },
   "outputs": [
    {
     "name": "stdout",
     "output_type": "stream",
     "text": [
      "-1.72615190115e-19\n",
      "1.0\n"
     ]
    }
   ],
   "source": [
    "scaler = StandardScaler()\n",
    "X_standardized = scaler.fit_transform(X)\n",
    "\n",
    "print(X_standardized.mean())\n",
    "print(X_standardized.std())"
   ]
  },
  {
   "cell_type": "markdown",
   "metadata": {},
   "source": [
    "Out of curiousity, I took a look at the results of the `scaler.fit_transform()` method to see what it looked like, but it was a `numpy` array which did not display well in Jupyter, so to simplify the display of the data, I fed the output into the `pandas DataFrame()` method and displayed the top five rows."
   ]
  },
  {
   "cell_type": "code",
   "execution_count": 32,
   "metadata": {},
   "outputs": [
    {
     "data": {
      "text/html": [
       "<div>\n",
       "<style scoped>\n",
       "    .dataframe tbody tr th:only-of-type {\n",
       "        vertical-align: middle;\n",
       "    }\n",
       "\n",
       "    .dataframe tbody tr th {\n",
       "        vertical-align: top;\n",
       "    }\n",
       "\n",
       "    .dataframe thead th {\n",
       "        text-align: right;\n",
       "    }\n",
       "</style>\n",
       "<table border=\"1\" class=\"dataframe\">\n",
       "  <thead>\n",
       "    <tr style=\"text-align: right;\">\n",
       "      <th></th>\n",
       "      <th>0</th>\n",
       "      <th>1</th>\n",
       "      <th>2</th>\n",
       "      <th>3</th>\n",
       "    </tr>\n",
       "  </thead>\n",
       "  <tbody>\n",
       "    <tr>\n",
       "      <th>0</th>\n",
       "      <td>-0.004515</td>\n",
       "      <td>-0.003442</td>\n",
       "      <td>-0.005775</td>\n",
       "      <td>-0.003459</td>\n",
       "    </tr>\n",
       "    <tr>\n",
       "      <th>1</th>\n",
       "      <td>-0.004515</td>\n",
       "      <td>-0.003442</td>\n",
       "      <td>-0.005775</td>\n",
       "      <td>-0.003459</td>\n",
       "    </tr>\n",
       "    <tr>\n",
       "      <th>2</th>\n",
       "      <td>-0.004515</td>\n",
       "      <td>-0.003442</td>\n",
       "      <td>-0.005775</td>\n",
       "      <td>-0.003459</td>\n",
       "    </tr>\n",
       "    <tr>\n",
       "      <th>3</th>\n",
       "      <td>-0.004539</td>\n",
       "      <td>-0.003403</td>\n",
       "      <td>-0.005788</td>\n",
       "      <td>-0.003456</td>\n",
       "    </tr>\n",
       "    <tr>\n",
       "      <th>4</th>\n",
       "      <td>-0.004515</td>\n",
       "      <td>-0.003442</td>\n",
       "      <td>-0.005746</td>\n",
       "      <td>-0.003459</td>\n",
       "    </tr>\n",
       "  </tbody>\n",
       "</table>\n",
       "</div>"
      ],
      "text/plain": [
       "          0         1         2         3\n",
       "0 -0.004515 -0.003442 -0.005775 -0.003459\n",
       "1 -0.004515 -0.003442 -0.005775 -0.003459\n",
       "2 -0.004515 -0.003442 -0.005775 -0.003459\n",
       "3 -0.004539 -0.003403 -0.005788 -0.003456\n",
       "4 -0.004515 -0.003442 -0.005746 -0.003459"
      ]
     },
     "execution_count": 32,
     "metadata": {},
     "output_type": "execute_result"
    }
   ],
   "source": [
    "pd.DataFrame(X_standardized).head()"
   ]
  },
  {
   "cell_type": "markdown",
   "metadata": {},
   "source": [
    "### 9. Correlation matrices\n",
    "\n",
    "---\n",
    "\n",
    "Next, we took a look at some correlation matrices as an experiment to see how they work and whether there were any relationships lurking in the data."
   ]
  },
  {
   "cell_type": "markdown",
   "metadata": {},
   "source": [
    "The strongest correlations in this output are between the number of **SrcPackets** and the number of **SrcBytes** OR between the number of **DstPackets** and the number of **DstBytes**.\n",
    "\n",
    "This relationship makes sense: one might logically conclude that the more packets you send, the more bytes will be sent. \n",
    "\n",
    "**NOTE**: This not a hard fast rule. Theoretically, it is possible to send small numbers of very large packets (and vice versa) and thus throw off the curve, that does not appear to be the case here."
   ]
  },
  {
   "cell_type": "code",
   "execution_count": 33,
   "metadata": {
    "collapsed": true
   },
   "outputs": [
    {
     "data": {
      "text/html": [
       "<div>\n",
       "<style scoped>\n",
       "    .dataframe tbody tr th:only-of-type {\n",
       "        vertical-align: middle;\n",
       "    }\n",
       "\n",
       "    .dataframe tbody tr th {\n",
       "        vertical-align: top;\n",
       "    }\n",
       "\n",
       "    .dataframe thead th {\n",
       "        text-align: right;\n",
       "    }\n",
       "</style>\n",
       "<table border=\"1\" class=\"dataframe\">\n",
       "  <thead>\n",
       "    <tr style=\"text-align: right;\">\n",
       "      <th></th>\n",
       "      <th>Time</th>\n",
       "      <th>SrcPackets</th>\n",
       "      <th>DstPackets</th>\n",
       "      <th>SrcBytes</th>\n",
       "      <th>DstBytes</th>\n",
       "    </tr>\n",
       "  </thead>\n",
       "  <tbody>\n",
       "    <tr>\n",
       "      <th>Time</th>\n",
       "      <td>1.000000</td>\n",
       "      <td>0.001082</td>\n",
       "      <td>0.001079</td>\n",
       "      <td>-0.000462</td>\n",
       "      <td>0.001643</td>\n",
       "    </tr>\n",
       "    <tr>\n",
       "      <th>SrcPackets</th>\n",
       "      <td>0.001082</td>\n",
       "      <td>1.000000</td>\n",
       "      <td>0.741773</td>\n",
       "      <td>0.617330</td>\n",
       "      <td>0.797988</td>\n",
       "    </tr>\n",
       "    <tr>\n",
       "      <th>DstPackets</th>\n",
       "      <td>0.001079</td>\n",
       "      <td>0.741773</td>\n",
       "      <td>1.000000</td>\n",
       "      <td>0.273738</td>\n",
       "      <td>0.936867</td>\n",
       "    </tr>\n",
       "    <tr>\n",
       "      <th>SrcBytes</th>\n",
       "      <td>-0.000462</td>\n",
       "      <td>0.617330</td>\n",
       "      <td>0.273738</td>\n",
       "      <td>1.000000</td>\n",
       "      <td>0.293648</td>\n",
       "    </tr>\n",
       "    <tr>\n",
       "      <th>DstBytes</th>\n",
       "      <td>0.001643</td>\n",
       "      <td>0.797988</td>\n",
       "      <td>0.936867</td>\n",
       "      <td>0.293648</td>\n",
       "      <td>1.000000</td>\n",
       "    </tr>\n",
       "  </tbody>\n",
       "</table>\n",
       "</div>"
      ],
      "text/plain": [
       "                Time  SrcPackets  DstPackets  SrcBytes  DstBytes\n",
       "Time        1.000000    0.001082    0.001079 -0.000462  0.001643\n",
       "SrcPackets  0.001082    1.000000    0.741773  0.617330  0.797988\n",
       "DstPackets  0.001079    0.741773    1.000000  0.273738  0.936867\n",
       "SrcBytes   -0.000462    0.617330    0.273738  1.000000  0.293648\n",
       "DstBytes    0.001643    0.797988    0.936867  0.293648  1.000000"
      ]
     },
     "execution_count": 33,
     "metadata": {},
     "output_type": "execute_result"
    }
   ],
   "source": [
    "dfpnb.corr()"
   ]
  },
  {
   "cell_type": "markdown",
   "metadata": {},
   "source": [
    "The `corr()` method is useful, but seeing the correlations as a heatmap is often easier to parse than the numerical values."
   ]
  },
  {
   "cell_type": "markdown",
   "metadata": {},
   "source": [
    "Using the Seaborn `.heatmap()` to visualize the correlation did reveal an interesting relationship between the SrcBytes and the DstBytes:\n",
    "* the heatmap implies that there is very little correlation between the SrcBytes and the DstBytes ... i.e. \"talkative\" source computers may OR may not be paired with talkative destination computers.\n"
   ]
  },
  {
   "cell_type": "code",
   "execution_count": 34,
   "metadata": {
    "collapsed": false
   },
   "outputs": [
    {
     "data": {
      "text/plain": [
       "<matplotlib.axes._subplots.AxesSubplot at 0x119128588>"
      ]
     },
     "execution_count": 34,
     "metadata": {},
     "output_type": "execute_result"
    },
    {
     "data": {
      "image/png": "[encoded data removed]",
      "text/plain": [
       "<Figure size 432x288 with 2 Axes>"
      ]
     },
     "metadata": {},
     "output_type": "display_data"
    }
   ],
   "source": [
    "sns.heatmap(dfpnb.corr())"
   ]
  },
  {
   "cell_type": "markdown",
   "metadata": {},
   "source": [
    "We were very curious about possible correlations between specific devices and the amount of traffic sent.\n",
    "\n",
    "To try to identify these relationships, we needed to convert the computer names from strings to numerical values. We did this by identifying all the unique string values in the **SrcDevice** and **DstDevice** fields and pairing those with unique integers.\n",
    "\n",
    "We started with a simple `DataFrame` with limited columns."
   ]
  },
  {
   "cell_type": "code",
   "execution_count": 35,
   "metadata": {
    "collapsed": true
   },
   "outputs": [],
   "source": [
    "dftraffic = dfnet[['SrcDevice', 'DstDevice', 'SrcPackets', 'SrcBytes', 'DstPackets', 'DstBytes']]"
   ]
  },
  {
   "cell_type": "markdown",
   "metadata": {},
   "source": [
    "We parsed down to the unique devices using the `.unique()` method. And created a dictionary that paired computer names with integers."
   ]
  },
  {
   "cell_type": "code",
   "execution_count": 36,
   "metadata": {},
   "outputs": [],
   "source": [
    "comps_src = dftraffic.SrcDevice.unique()\n",
    "comps_src_dict = dict(zip(comps_src, range(len(comps_src))))\n",
    "\n",
    "comps_dst = dftraffic.DstDevice.unique()\n",
    "comps_dst_dict = dict(zip(comps_dst, range(len(comps_dst))))"
   ]
  },
  {
   "cell_type": "markdown",
   "metadata": {},
   "source": [
    "We then mapped the dictionary key-value pairs against the **SrcDevice** and **DstDevice** columns, creating two new columns of unique integer identifiers for each column."
   ]
  },
  {
   "cell_type": "code",
   "execution_count": 37,
   "metadata": {},
   "outputs": [
    {
     "name": "stderr",
     "output_type": "stream",
     "text": [
      "/Users/chalmerlowe/miniconda3/envs/ds5kpy36/lib/python3.6/site-packages/ipykernel_launcher.py:1: SettingWithCopyWarning: \n",
      "A value is trying to be set on a copy of a slice from a DataFrame.\n",
      "Try using .loc[row_indexer,col_indexer] = value instead\n",
      "\n",
      "See the caveats in the documentation: http://pandas.pydata.org/pandas-docs/stable/indexing.html#indexing-view-versus-copy\n",
      "  \"\"\"Entry point for launching an IPython kernel.\n",
      "/Users/chalmerlowe/miniconda3/envs/ds5kpy36/lib/python3.6/site-packages/ipykernel_launcher.py:2: SettingWithCopyWarning: \n",
      "A value is trying to be set on a copy of a slice from a DataFrame.\n",
      "Try using .loc[row_indexer,col_indexer] = value instead\n",
      "\n",
      "See the caveats in the documentation: http://pandas.pydata.org/pandas-docs/stable/indexing.html#indexing-view-versus-copy\n",
      "  \n"
     ]
    }
   ],
   "source": [
    "dftraffic['Comp_SRC'] = dftraffic.SrcDevice.map(comps_src_dict)\n",
    "dftraffic['Comp_DST'] = dftraffic.DstDevice.map(comps_dst_dict)"
   ]
  },
  {
   "cell_type": "markdown",
   "metadata": {},
   "source": [
    "We took a look using `.head()` to confirm that our efforts were successful."
   ]
  },
  {
   "cell_type": "code",
   "execution_count": 38,
   "metadata": {},
   "outputs": [
    {
     "data": {
      "text/html": [
       "<div>\n",
       "<style scoped>\n",
       "    .dataframe tbody tr th:only-of-type {\n",
       "        vertical-align: middle;\n",
       "    }\n",
       "\n",
       "    .dataframe tbody tr th {\n",
       "        vertical-align: top;\n",
       "    }\n",
       "\n",
       "    .dataframe thead th {\n",
       "        text-align: right;\n",
       "    }\n",
       "</style>\n",
       "<table border=\"1\" class=\"dataframe\">\n",
       "  <thead>\n",
       "    <tr style=\"text-align: right;\">\n",
       "      <th></th>\n",
       "      <th>SrcDevice</th>\n",
       "      <th>DstDevice</th>\n",
       "      <th>SrcPackets</th>\n",
       "      <th>SrcBytes</th>\n",
       "      <th>DstPackets</th>\n",
       "      <th>DstBytes</th>\n",
       "      <th>Comp_SRC</th>\n",
       "      <th>Comp_DST</th>\n",
       "    </tr>\n",
       "  </thead>\n",
       "  <tbody>\n",
       "    <tr>\n",
       "      <th>0</th>\n",
       "      <td>Comp580697</td>\n",
       "      <td>Comp275646</td>\n",
       "      <td>1</td>\n",
       "      <td>75</td>\n",
       "      <td>0</td>\n",
       "      <td>0</td>\n",
       "      <td>0</td>\n",
       "      <td>0</td>\n",
       "    </tr>\n",
       "    <tr>\n",
       "      <th>1</th>\n",
       "      <td>Comp580697</td>\n",
       "      <td>Comp275646</td>\n",
       "      <td>1</td>\n",
       "      <td>75</td>\n",
       "      <td>0</td>\n",
       "      <td>0</td>\n",
       "      <td>0</td>\n",
       "      <td>0</td>\n",
       "    </tr>\n",
       "    <tr>\n",
       "      <th>2</th>\n",
       "      <td>Comp580697</td>\n",
       "      <td>Comp275646</td>\n",
       "      <td>1</td>\n",
       "      <td>75</td>\n",
       "      <td>0</td>\n",
       "      <td>0</td>\n",
       "      <td>0</td>\n",
       "      <td>0</td>\n",
       "    </tr>\n",
       "    <tr>\n",
       "      <th>3</th>\n",
       "      <td>Comp258829</td>\n",
       "      <td>Comp388094</td>\n",
       "      <td>0</td>\n",
       "      <td>0</td>\n",
       "      <td>3</td>\n",
       "      <td>144</td>\n",
       "      <td>1</td>\n",
       "      <td>1</td>\n",
       "    </tr>\n",
       "    <tr>\n",
       "      <th>4</th>\n",
       "      <td>Comp819564</td>\n",
       "      <td>Comp576031</td>\n",
       "      <td>1</td>\n",
       "      <td>245</td>\n",
       "      <td>0</td>\n",
       "      <td>0</td>\n",
       "      <td>2</td>\n",
       "      <td>2</td>\n",
       "    </tr>\n",
       "    <tr>\n",
       "      <th>5</th>\n",
       "      <td>Comp518262</td>\n",
       "      <td>Comp576843</td>\n",
       "      <td>5</td>\n",
       "      <td>400</td>\n",
       "      <td>0</td>\n",
       "      <td>0</td>\n",
       "      <td>3</td>\n",
       "      <td>3</td>\n",
       "    </tr>\n",
       "    <tr>\n",
       "      <th>6</th>\n",
       "      <td>Comp030371</td>\n",
       "      <td>Comp576843</td>\n",
       "      <td>5</td>\n",
       "      <td>398</td>\n",
       "      <td>0</td>\n",
       "      <td>0</td>\n",
       "      <td>4</td>\n",
       "      <td>3</td>\n",
       "    </tr>\n",
       "  </tbody>\n",
       "</table>\n",
       "</div>"
      ],
      "text/plain": [
       "    SrcDevice   DstDevice  SrcPackets  SrcBytes  DstPackets  DstBytes  \\\n",
       "0  Comp580697  Comp275646           1        75           0         0   \n",
       "1  Comp580697  Comp275646           1        75           0         0   \n",
       "2  Comp580697  Comp275646           1        75           0         0   \n",
       "3  Comp258829  Comp388094           0         0           3       144   \n",
       "4  Comp819564  Comp576031           1       245           0         0   \n",
       "5  Comp518262  Comp576843           5       400           0         0   \n",
       "6  Comp030371  Comp576843           5       398           0         0   \n",
       "\n",
       "   Comp_SRC  Comp_DST  \n",
       "0         0         0  \n",
       "1         0         0  \n",
       "2         0         0  \n",
       "3         1         1  \n",
       "4         2         2  \n",
       "5         3         3  \n",
       "6         4         3  "
      ]
     },
     "execution_count": 38,
     "metadata": {},
     "output_type": "execute_result"
    }
   ],
   "source": [
    "dftraffic.head(7)"
   ]
  },
  {
   "cell_type": "markdown",
   "metadata": {},
   "source": [
    "In looking over the heatmap of the correlation results... we see that there is no discernable relationship between the computers and the amount of traffic sent/received. It would be useful to revisit this with a complete data set over the 90 days to see if any correlations arise."
   ]
  },
  {
   "cell_type": "code",
   "execution_count": 39,
   "metadata": {},
   "outputs": [
    {
     "data": {
      "text/html": [
       "<div>\n",
       "<style scoped>\n",
       "    .dataframe tbody tr th:only-of-type {\n",
       "        vertical-align: middle;\n",
       "    }\n",
       "\n",
       "    .dataframe tbody tr th {\n",
       "        vertical-align: top;\n",
       "    }\n",
       "\n",
       "    .dataframe thead th {\n",
       "        text-align: right;\n",
       "    }\n",
       "</style>\n",
       "<table border=\"1\" class=\"dataframe\">\n",
       "  <thead>\n",
       "    <tr style=\"text-align: right;\">\n",
       "      <th></th>\n",
       "      <th>SrcPackets</th>\n",
       "      <th>SrcBytes</th>\n",
       "      <th>DstPackets</th>\n",
       "      <th>DstBytes</th>\n",
       "      <th>Comp_SRC</th>\n",
       "      <th>Comp_DST</th>\n",
       "    </tr>\n",
       "  </thead>\n",
       "  <tbody>\n",
       "    <tr>\n",
       "      <th>SrcPackets</th>\n",
       "      <td>1.000000</td>\n",
       "      <td>0.617330</td>\n",
       "      <td>0.741773</td>\n",
       "      <td>0.797988</td>\n",
       "      <td>0.007410</td>\n",
       "      <td>0.019335</td>\n",
       "    </tr>\n",
       "    <tr>\n",
       "      <th>SrcBytes</th>\n",
       "      <td>0.617330</td>\n",
       "      <td>1.000000</td>\n",
       "      <td>0.273738</td>\n",
       "      <td>0.293648</td>\n",
       "      <td>0.004969</td>\n",
       "      <td>0.013414</td>\n",
       "    </tr>\n",
       "    <tr>\n",
       "      <th>DstPackets</th>\n",
       "      <td>0.741773</td>\n",
       "      <td>0.273738</td>\n",
       "      <td>1.000000</td>\n",
       "      <td>0.936867</td>\n",
       "      <td>0.008491</td>\n",
       "      <td>0.016195</td>\n",
       "    </tr>\n",
       "    <tr>\n",
       "      <th>DstBytes</th>\n",
       "      <td>0.797988</td>\n",
       "      <td>0.293648</td>\n",
       "      <td>0.936867</td>\n",
       "      <td>1.000000</td>\n",
       "      <td>0.008775</td>\n",
       "      <td>0.017457</td>\n",
       "    </tr>\n",
       "    <tr>\n",
       "      <th>Comp_SRC</th>\n",
       "      <td>0.007410</td>\n",
       "      <td>0.004969</td>\n",
       "      <td>0.008491</td>\n",
       "      <td>0.008775</td>\n",
       "      <td>1.000000</td>\n",
       "      <td>0.075276</td>\n",
       "    </tr>\n",
       "    <tr>\n",
       "      <th>Comp_DST</th>\n",
       "      <td>0.019335</td>\n",
       "      <td>0.013414</td>\n",
       "      <td>0.016195</td>\n",
       "      <td>0.017457</td>\n",
       "      <td>0.075276</td>\n",
       "      <td>1.000000</td>\n",
       "    </tr>\n",
       "  </tbody>\n",
       "</table>\n",
       "</div>"
      ],
      "text/plain": [
       "            SrcPackets  SrcBytes  DstPackets  DstBytes  Comp_SRC  Comp_DST\n",
       "SrcPackets    1.000000  0.617330    0.741773  0.797988  0.007410  0.019335\n",
       "SrcBytes      0.617330  1.000000    0.273738  0.293648  0.004969  0.013414\n",
       "DstPackets    0.741773  0.273738    1.000000  0.936867  0.008491  0.016195\n",
       "DstBytes      0.797988  0.293648    0.936867  1.000000  0.008775  0.017457\n",
       "Comp_SRC      0.007410  0.004969    0.008491  0.008775  1.000000  0.075276\n",
       "Comp_DST      0.019335  0.013414    0.016195  0.017457  0.075276  1.000000"
      ]
     },
     "execution_count": 39,
     "metadata": {},
     "output_type": "execute_result"
    }
   ],
   "source": [
    "dftraffic.corr()"
   ]
  },
  {
   "cell_type": "code",
   "execution_count": 40,
   "metadata": {},
   "outputs": [
    {
     "data": {
      "text/plain": [
       "<matplotlib.axes._subplots.AxesSubplot at 0x1190f54e0>"
      ]
     },
     "execution_count": 40,
     "metadata": {},
     "output_type": "execute_result"
    },
    {
     "data": {
      "image/png": "[encoded data removed]",
      "text/plain": [
       "<Figure size 432x288 with 2 Axes>"
      ]
     },
     "metadata": {},
     "output_type": "display_data"
    }
   ],
   "source": [
    "sns.heatmap(dftraffic.corr())"
   ]
  },
  {
   "cell_type": "markdown",
   "metadata": {},
   "source": [
    "Another question that we considered was: \"Is there a broad correlation between a process running and specific computers.\"\n",
    "Based on the heatmap, the six-second data sample didn't reveal a relationship."
   ]
  },
  {
   "cell_type": "code",
   "execution_count": 41,
   "metadata": {},
   "outputs": [
    {
     "data": {
      "text/html": [
       "<div>\n",
       "<style scoped>\n",
       "    .dataframe tbody tr th:only-of-type {\n",
       "        vertical-align: middle;\n",
       "    }\n",
       "\n",
       "    .dataframe tbody tr th {\n",
       "        vertical-align: top;\n",
       "    }\n",
       "\n",
       "    .dataframe thead th {\n",
       "        text-align: right;\n",
       "    }\n",
       "</style>\n",
       "<table border=\"1\" class=\"dataframe\">\n",
       "  <thead>\n",
       "    <tr style=\"text-align: right;\">\n",
       "      <th></th>\n",
       "      <th>AuthenticationPackage</th>\n",
       "      <th>Destination</th>\n",
       "      <th>DomainName</th>\n",
       "      <th>EventID</th>\n",
       "      <th>FailureReason</th>\n",
       "      <th>LogHost</th>\n",
       "      <th>LogonID</th>\n",
       "      <th>LogonType</th>\n",
       "      <th>LogonTypeDescription</th>\n",
       "      <th>ParentProcessID</th>\n",
       "      <th>...</th>\n",
       "      <th>ServiceName</th>\n",
       "      <th>Source</th>\n",
       "      <th>Status</th>\n",
       "      <th>SubjectDomainName</th>\n",
       "      <th>SubjectLogonID</th>\n",
       "      <th>SubjectUserName</th>\n",
       "      <th>Time</th>\n",
       "      <th>UserName</th>\n",
       "      <th>proc</th>\n",
       "      <th>compname</th>\n",
       "    </tr>\n",
       "  </thead>\n",
       "  <tbody>\n",
       "    <tr>\n",
       "      <th>0</th>\n",
       "      <td>None</td>\n",
       "      <td>None</td>\n",
       "      <td>Domain001</td>\n",
       "      <td>4688</td>\n",
       "      <td>None</td>\n",
       "      <td>Comp883506</td>\n",
       "      <td>0x3e7</td>\n",
       "      <td>NaN</td>\n",
       "      <td>None</td>\n",
       "      <td>0x4db8</td>\n",
       "      <td>...</td>\n",
       "      <td>None</td>\n",
       "      <td>None</td>\n",
       "      <td>None</td>\n",
       "      <td>None</td>\n",
       "      <td>None</td>\n",
       "      <td>None</td>\n",
       "      <td>7689600</td>\n",
       "      <td>Comp883506$</td>\n",
       "      <td>0</td>\n",
       "      <td>0</td>\n",
       "    </tr>\n",
       "    <tr>\n",
       "      <th>1</th>\n",
       "      <td>None</td>\n",
       "      <td>None</td>\n",
       "      <td>Domain001</td>\n",
       "      <td>4688</td>\n",
       "      <td>None</td>\n",
       "      <td>Comp154941</td>\n",
       "      <td>0x3e7</td>\n",
       "      <td>NaN</td>\n",
       "      <td>None</td>\n",
       "      <td>0x3b60</td>\n",
       "      <td>...</td>\n",
       "      <td>None</td>\n",
       "      <td>None</td>\n",
       "      <td>None</td>\n",
       "      <td>None</td>\n",
       "      <td>None</td>\n",
       "      <td>None</td>\n",
       "      <td>7689600</td>\n",
       "      <td>Comp154941$</td>\n",
       "      <td>1</td>\n",
       "      <td>1</td>\n",
       "    </tr>\n",
       "    <tr>\n",
       "      <th>2</th>\n",
       "      <td>None</td>\n",
       "      <td>None</td>\n",
       "      <td>Domain001</td>\n",
       "      <td>4688</td>\n",
       "      <td>None</td>\n",
       "      <td>Comp055724</td>\n",
       "      <td>0x3e7</td>\n",
       "      <td>NaN</td>\n",
       "      <td>None</td>\n",
       "      <td>0x3c8</td>\n",
       "      <td>...</td>\n",
       "      <td>None</td>\n",
       "      <td>None</td>\n",
       "      <td>None</td>\n",
       "      <td>None</td>\n",
       "      <td>None</td>\n",
       "      <td>None</td>\n",
       "      <td>7689600</td>\n",
       "      <td>Comp055724$</td>\n",
       "      <td>2</td>\n",
       "      <td>2</td>\n",
       "    </tr>\n",
       "    <tr>\n",
       "      <th>3</th>\n",
       "      <td>None</td>\n",
       "      <td>None</td>\n",
       "      <td>Domain001</td>\n",
       "      <td>4769</td>\n",
       "      <td>None</td>\n",
       "      <td>ActiveDirectory</td>\n",
       "      <td>None</td>\n",
       "      <td>NaN</td>\n",
       "      <td>None</td>\n",
       "      <td>None</td>\n",
       "      <td>...</td>\n",
       "      <td>ActiveDirectory$</td>\n",
       "      <td>Comp230907</td>\n",
       "      <td>0x0</td>\n",
       "      <td>None</td>\n",
       "      <td>None</td>\n",
       "      <td>None</td>\n",
       "      <td>7689600</td>\n",
       "      <td>Comp230907$</td>\n",
       "      <td>3</td>\n",
       "      <td>3</td>\n",
       "    </tr>\n",
       "    <tr>\n",
       "      <th>4</th>\n",
       "      <td>Kerberos</td>\n",
       "      <td>None</td>\n",
       "      <td>Domain001</td>\n",
       "      <td>4624</td>\n",
       "      <td>None</td>\n",
       "      <td>ActiveDirectory</td>\n",
       "      <td>0xf014029</td>\n",
       "      <td>3.0</td>\n",
       "      <td>Network</td>\n",
       "      <td>None</td>\n",
       "      <td>...</td>\n",
       "      <td>None</td>\n",
       "      <td>Comp230907</td>\n",
       "      <td>None</td>\n",
       "      <td>None</td>\n",
       "      <td>None</td>\n",
       "      <td>None</td>\n",
       "      <td>7689600</td>\n",
       "      <td>Comp230907$</td>\n",
       "      <td>3</td>\n",
       "      <td>3</td>\n",
       "    </tr>\n",
       "  </tbody>\n",
       "</table>\n",
       "<p>5 rows × 23 columns</p>\n",
       "</div>"
      ],
      "text/plain": [
       "  AuthenticationPackage Destination DomainName  EventID FailureReason  \\\n",
       "0                  None        None  Domain001     4688          None   \n",
       "1                  None        None  Domain001     4688          None   \n",
       "2                  None        None  Domain001     4688          None   \n",
       "3                  None        None  Domain001     4769          None   \n",
       "4              Kerberos        None  Domain001     4624          None   \n",
       "\n",
       "           LogHost    LogonID  LogonType LogonTypeDescription ParentProcessID  \\\n",
       "0       Comp883506      0x3e7        NaN                 None          0x4db8   \n",
       "1       Comp154941      0x3e7        NaN                 None          0x3b60   \n",
       "2       Comp055724      0x3e7        NaN                 None           0x3c8   \n",
       "3  ActiveDirectory       None        NaN                 None            None   \n",
       "4  ActiveDirectory  0xf014029        3.0              Network            None   \n",
       "\n",
       "     ...          ServiceName      Source Status SubjectDomainName  \\\n",
       "0    ...                 None        None   None              None   \n",
       "1    ...                 None        None   None              None   \n",
       "2    ...                 None        None   None              None   \n",
       "3    ...     ActiveDirectory$  Comp230907    0x0              None   \n",
       "4    ...                 None  Comp230907   None              None   \n",
       "\n",
       "  SubjectLogonID SubjectUserName     Time     UserName proc  compname  \n",
       "0           None            None  7689600  Comp883506$    0         0  \n",
       "1           None            None  7689600  Comp154941$    1         1  \n",
       "2           None            None  7689600  Comp055724$    2         2  \n",
       "3           None            None  7689600  Comp230907$    3         3  \n",
       "4           None            None  7689600  Comp230907$    3         3  \n",
       "\n",
       "[5 rows x 23 columns]"
      ]
     },
     "execution_count": 41,
     "metadata": {},
     "output_type": "execute_result"
    }
   ],
   "source": [
    "proc = dfhost.ProcessName.unique()\n",
    "proc_mapping = dict(zip(proc, range(len(proc))))\n",
    "dfhost['proc'] = dfhost.ProcessName.map(proc_mapping)\n",
    "\n",
    "compname = dfhost.LogHost.unique()\n",
    "compname_mapping = dict(zip(compname, range(len(compname))))\n",
    "dfhost['compname'] = dfhost.LogHost.map(compname_mapping)\n",
    "\n",
    "dfhost.head()"
   ]
  },
  {
   "cell_type": "code",
   "execution_count": 42,
   "metadata": {},
   "outputs": [
    {
     "data": {
      "text/plain": [
       "<matplotlib.axes._subplots.AxesSubplot at 0x119191cf8>"
      ]
     },
     "execution_count": 42,
     "metadata": {},
     "output_type": "execute_result"
    },
    {
     "data": {
      "image/png": "[encoded data removed]",
      "text/plain": [
       "<Figure size 432x288 with 2 Axes>"
      ]
     },
     "metadata": {},
     "output_type": "display_data"
    }
   ],
   "source": [
    "sns.heatmap(dfhost.corr())"
   ]
  },
  {
   "cell_type": "markdown",
   "metadata": {},
   "source": [
    "We asked ourselves another question:\n",
    "\"Is there evidence of traffic on computer ports commonly associated with known malware?\"\n",
    "\n",
    "To answer this question, we started off by looking for a list of ports associated with malware. Such a list was found here: https://isc.sans.org/services.html. This data is published under a CC-SA license:\n",
    "\n",
    "* (c) SANS Inst. / DShield. some rights reserved.\n",
    "* Creative Commons ShareAlike License 2.5\n",
    "* http://creativecommons.org/licenses/by-nc-sa/2.5/\n",
    "\n",
    "This data is available as the file: ports.txt in our datafiles.\n"
   ]
  },
  {
   "cell_type": "markdown",
   "metadata": {},
   "source": [
    "In looking at the port data provided by LANL, we detected several things...\n",
    "\n",
    "The port numbers come in two categories that we refer to as:\n",
    "* strictly numeric: 53, 514, 110, etc.\n",
    "* labeled ports: numbers that are preceeded by the term 'Port': Port75515, Port39409, etc\n",
    "\n",
    "Computer ports are generally used for two types of protocols: Transmission Control Protocol (TCP) and User Datagram Protocol (UDP). For each type, there are 65,536 (2^16) ports. In looking at the labeled port numbers, we noted that the numbers shown exceeded the expected upper bound of 65,536. One specific example is Port75515. The data dictionary did not explain the rationale behind this NOR did it explain why a subset of ports were strictly numeric. We presumed that the folks who created the dataset:\n",
    "\n",
    "* had specific ports that they wanted to be readily identifiable and left those 'as is'\n",
    "* masked the true values for all other ports by using coded designators (preceeded by 'Port')\n",
    "* in masking the remaining values, it appears that they simply combined UDP and TCP ports and then tagged them with the unique identifiers\n",
    "\n",
    "We did a bit of exploration to find only the ports with the string 'Port' in the name and then sorted them and examined the last ten samples present in our six-minute snippet:\n"
   ]
  },
  {
   "cell_type": "code",
   "execution_count": 43,
   "metadata": {},
   "outputs": [
    {
     "data": {
      "text/plain": [
       "['Port99861',\n",
       " 'Port99864',\n",
       " 'Port99895',\n",
       " 'Port99905',\n",
       " 'Port99912',\n",
       " 'Port99920',\n",
       " 'Port99921',\n",
       " 'Port99924',\n",
       " 'Port99930',\n",
       " 'Port99976']"
      ]
     },
     "execution_count": 43,
     "metadata": {},
     "output_type": "execute_result"
    }
   ],
   "source": [
    "gen_ports = dfnet.DstPort[dfnet.DstPort.str.contains('Port')].unique()\n",
    "sorted(gen_ports)[-10:]"
   ]
  },
  {
   "cell_type": "markdown",
   "metadata": {},
   "source": [
    "Because we couldn't use these port values directly, we opted to filter them out. In doing so, we learned about the **`~` (tilda)** operator and its use in `pandas` to reverse a filter. Once we filtered our data down to just the numeric ports, we counted them using the `len()` function."
   ]
  },
  {
   "cell_type": "code",
   "execution_count": 44,
   "metadata": {},
   "outputs": [
    {
     "data": {
      "text/plain": [
       "116"
      ]
     },
     "execution_count": 44,
     "metadata": {},
     "output_type": "execute_result"
    }
   ],
   "source": [
    "uniq_dst_ports = dfnet.DstPort[~ dfnet.DstPort.str.contains('Port')].unique()\n",
    "len(uniq_dst_ports)\n"
   ]
  },
  {
   "cell_type": "code",
   "execution_count": 45,
   "metadata": {},
   "outputs": [
    {
     "data": {
      "text/plain": [
       "115"
      ]
     },
     "execution_count": 45,
     "metadata": {},
     "output_type": "execute_result"
    }
   ],
   "source": [
    "uniq_src_ports = dfnet.SrcPort[~ dfnet.SrcPort.str.contains('Port')].unique()\n",
    "len(uniq_src_ports)"
   ]
  },
  {
   "cell_type": "markdown",
   "metadata": {},
   "source": [
    "With two collections of unique ports, we then prepared a list of all the port numbers in the ports.txt file that appeared to be associated with malware. If you open the file and read it, you find that potentially malicious ports are labeled with one of three terms:\n",
    "\n",
    "* [trojan]\n",
    "* [backdoor]\n",
    "* [unauthorized use]\n",
    "\n",
    "The following snippet of code finds all lines in the file with any one of these three terms and then splits the line into fields to extract just the port number. This port number is then added to the set of malicious ports. \n",
    "\n",
    "All told, we had 482 ports identified by SANS as potentially related to malicious software."
   ]
  },
  {
   "cell_type": "code",
   "execution_count": 47,
   "metadata": {},
   "outputs": [
    {
     "name": "stdout",
     "output_type": "stream",
     "text": [
      "482\n"
     ]
    }
   ],
   "source": [
    "with open('ports.txt') as fin:\n",
    "    mal_ports = set()\n",
    "    for line in fin:\n",
    "        if '[' in line:\n",
    "            for term in ['trojan', 'backdoor', 'unauthorized use']:\n",
    "                if term in line:\n",
    "                    fields = line.split()\n",
    "                    mal_ports.add(fields[1])\n",
    "    print(len(mal_ports))"
   ]
  },
  {
   "cell_type": "markdown",
   "metadata": {},
   "source": [
    "From here, we checked for the intersection of destination ports and malicious ports AND for the intersection of source ports and malicious ports."
   ]
  },
  {
   "cell_type": "code",
   "execution_count": 48,
   "metadata": {},
   "outputs": [],
   "source": [
    "mal_dst_ports = mal_ports.intersection(uniq_dst_ports)\n",
    "mal_src_ports = mal_ports.intersection(uniq_src_ports)"
   ]
  },
  {
   "cell_type": "markdown",
   "metadata": {},
   "source": [
    "These sets were then applied to the the **dfnet** `DataFrame` using the `.isin()` method to detect whether content of a **\\*Port** column contained any of the noted ports."
   ]
  },
  {
   "cell_type": "code",
   "execution_count": 49,
   "metadata": {},
   "outputs": [
    {
     "data": {
      "text/plain": [
       "514     48187\n",
       "88      14845\n",
       "7001     2606\n",
       "123      1026\n",
       "69         14\n",
       "110        10\n",
       "2000       10\n",
       "2583        4\n",
       "7000        3\n",
       "5556        3\n",
       "5002        2\n",
       "6006        2\n",
       "Name: DstPort, dtype: int64"
      ]
     },
     "execution_count": 49,
     "metadata": {},
     "output_type": "execute_result"
    }
   ],
   "source": [
    "df_dstports = dfnet.DstPort[~ dfnet.DstPort.str.contains('Port')]\n",
    "df_dstports[df_dstports.isin(mal_dst_ports)].value_counts()"
   ]
  },
  {
   "cell_type": "code",
   "execution_count": 50,
   "metadata": {},
   "outputs": [
    {
     "data": {
      "text/plain": [
       "123      557\n",
       "7001     234\n",
       "6006       4\n",
       "2583       4\n",
       "1524       3\n",
       "5002       2\n",
       "514        2\n",
       "5556       1\n",
       "7000       1\n",
       "2000       1\n",
       "17500      1\n",
       "Name: SrcPort, dtype: int64"
      ]
     },
     "execution_count": 50,
     "metadata": {},
     "output_type": "execute_result"
    }
   ],
   "source": [
    "df_srcports = dfnet.SrcPort[~ dfnet.SrcPort.str.contains('Port')]\n",
    "df_srcports[df_srcports.isin(mal_src_ports)].value_counts()"
   ]
  },
  {
   "cell_type": "markdown",
   "metadata": {},
   "source": [
    "We opted to display this data on horizontal bar charts using the builtin capabilities of the `pandas .plot()` method for both source and destination ports."
   ]
  },
  {
   "cell_type": "code",
   "execution_count": 51,
   "metadata": {},
   "outputs": [
    {
     "data": {
      "image/png": "[encoded data removed]",
      "text/plain": [
       "<Figure size 720x504 with 1 Axes>"
      ]
     },
     "metadata": {},
     "output_type": "display_data"
    }
   ],
   "source": [
    "plt.figure(figsize=(10,7))\n",
    "df_dstports[df_dstports.isin(mal_dst_ports)].value_counts(ascending=True).plot(kind='barh')\n",
    "plt.savefig('enemy_of_the_state.png')"
   ]
  },
  {
   "cell_type": "code",
   "execution_count": 52,
   "metadata": {},
   "outputs": [
    {
     "data": {
      "image/png": "[encoded data removed]",
      "text/plain": [
       "<Figure size 720x504 with 1 Axes>"
      ]
     },
     "metadata": {},
     "output_type": "display_data"
    }
   ],
   "source": [
    "plt.figure(figsize=(10,7))\n",
    "df_srcports[df_srcports.isin(mal_src_ports)].value_counts(ascending=True).plot(kind='barh')\n",
    "plt.savefig('enemy_of_the_state_2.png')"
   ]
  },
  {
   "cell_type": "markdown",
   "metadata": {},
   "source": [
    "Belatedly, we discovered that hidden away in the **Protocol** column were codes that defined whether the traffic was UDP, TCP OR an alternate protocol called Internet Control Message Protocol (ICMP). We were curious to see how this broke out in terms of numbers of messages sent using each protocol, so we did a simple value count against the **Protocol** column:"
   ]
  },
  {
   "cell_type": "code",
   "execution_count": 53,
   "metadata": {},
   "outputs": [
    {
     "data": {
      "text/plain": [
       "6     470085\n",
       "17    209718\n",
       "1        197\n",
       "Name: Protocol, dtype: int64"
      ]
     },
     "execution_count": 53,
     "metadata": {},
     "output_type": "execute_result"
    }
   ],
   "source": [
    "dfnet.Protocol.value_counts()\n",
    "# 6 = tcp\n",
    "# 17 = udp\n",
    "# 1 = icmp"
   ]
  },
  {
   "cell_type": "markdown",
   "metadata": {},
   "source": [
    "We weren't certain we would need it OR not, but felt it might be useful to translate the numeric values to terms, so we created a mapping of each integer to a string and used the `.map()` method to create a new column labeled **ProtocolName** and displayed the result using `.head()`."
   ]
  },
  {
   "cell_type": "code",
   "execution_count": 54,
   "metadata": {},
   "outputs": [
    {
     "data": {
      "text/html": [
       "<div>\n",
       "<style scoped>\n",
       "    .dataframe tbody tr th:only-of-type {\n",
       "        vertical-align: middle;\n",
       "    }\n",
       "\n",
       "    .dataframe tbody tr th {\n",
       "        vertical-align: top;\n",
       "    }\n",
       "\n",
       "    .dataframe thead th {\n",
       "        text-align: right;\n",
       "    }\n",
       "</style>\n",
       "<table border=\"1\" class=\"dataframe\">\n",
       "  <thead>\n",
       "    <tr style=\"text-align: right;\">\n",
       "      <th></th>\n",
       "      <th>Time</th>\n",
       "      <th>Duration</th>\n",
       "      <th>SrcDevice</th>\n",
       "      <th>DstDevice</th>\n",
       "      <th>Protocol</th>\n",
       "      <th>SrcPort</th>\n",
       "      <th>DstPort</th>\n",
       "      <th>SrcPackets</th>\n",
       "      <th>DstPackets</th>\n",
       "      <th>SrcBytes</th>\n",
       "      <th>DstBytes</th>\n",
       "      <th>ProtocolName</th>\n",
       "    </tr>\n",
       "  </thead>\n",
       "  <tbody>\n",
       "    <tr>\n",
       "      <th>0</th>\n",
       "      <td>7689600</td>\n",
       "      <td>0</td>\n",
       "      <td>Comp580697</td>\n",
       "      <td>Comp275646</td>\n",
       "      <td>17</td>\n",
       "      <td>Port08290</td>\n",
       "      <td>53</td>\n",
       "      <td>1</td>\n",
       "      <td>0</td>\n",
       "      <td>75</td>\n",
       "      <td>0</td>\n",
       "      <td>UDP</td>\n",
       "    </tr>\n",
       "    <tr>\n",
       "      <th>1</th>\n",
       "      <td>7689600</td>\n",
       "      <td>0</td>\n",
       "      <td>Comp580697</td>\n",
       "      <td>Comp275646</td>\n",
       "      <td>17</td>\n",
       "      <td>Port81132</td>\n",
       "      <td>53</td>\n",
       "      <td>1</td>\n",
       "      <td>0</td>\n",
       "      <td>75</td>\n",
       "      <td>0</td>\n",
       "      <td>UDP</td>\n",
       "    </tr>\n",
       "    <tr>\n",
       "      <th>2</th>\n",
       "      <td>7689600</td>\n",
       "      <td>0</td>\n",
       "      <td>Comp580697</td>\n",
       "      <td>Comp275646</td>\n",
       "      <td>17</td>\n",
       "      <td>Port21353</td>\n",
       "      <td>53</td>\n",
       "      <td>1</td>\n",
       "      <td>0</td>\n",
       "      <td>75</td>\n",
       "      <td>0</td>\n",
       "      <td>UDP</td>\n",
       "    </tr>\n",
       "    <tr>\n",
       "      <th>3</th>\n",
       "      <td>7689600</td>\n",
       "      <td>0</td>\n",
       "      <td>Comp258829</td>\n",
       "      <td>Comp388094</td>\n",
       "      <td>6</td>\n",
       "      <td>Port81881</td>\n",
       "      <td>Port75515</td>\n",
       "      <td>0</td>\n",
       "      <td>3</td>\n",
       "      <td>0</td>\n",
       "      <td>144</td>\n",
       "      <td>TCP</td>\n",
       "    </tr>\n",
       "    <tr>\n",
       "      <th>4</th>\n",
       "      <td>7689600</td>\n",
       "      <td>0</td>\n",
       "      <td>Comp819564</td>\n",
       "      <td>Comp576031</td>\n",
       "      <td>17</td>\n",
       "      <td>Port10711</td>\n",
       "      <td>514</td>\n",
       "      <td>1</td>\n",
       "      <td>0</td>\n",
       "      <td>245</td>\n",
       "      <td>0</td>\n",
       "      <td>UDP</td>\n",
       "    </tr>\n",
       "  </tbody>\n",
       "</table>\n",
       "</div>"
      ],
      "text/plain": [
       "      Time  Duration   SrcDevice   DstDevice  Protocol    SrcPort    DstPort  \\\n",
       "0  7689600         0  Comp580697  Comp275646        17  Port08290         53   \n",
       "1  7689600         0  Comp580697  Comp275646        17  Port81132         53   \n",
       "2  7689600         0  Comp580697  Comp275646        17  Port21353         53   \n",
       "3  7689600         0  Comp258829  Comp388094         6  Port81881  Port75515   \n",
       "4  7689600         0  Comp819564  Comp576031        17  Port10711        514   \n",
       "\n",
       "   SrcPackets  DstPackets  SrcBytes  DstBytes ProtocolName  \n",
       "0           1           0        75         0          UDP  \n",
       "1           1           0        75         0          UDP  \n",
       "2           1           0        75         0          UDP  \n",
       "3           0           3         0       144          TCP  \n",
       "4           1           0       245         0          UDP  "
      ]
     },
     "execution_count": 54,
     "metadata": {},
     "output_type": "execute_result"
    }
   ],
   "source": [
    "mapping = {6: 'TCP',\n",
    "           17: 'UDP',\n",
    "           1: 'ICMP',\n",
    "          }\n",
    "\n",
    "dfnet['ProtocolName'] = dfnet.Protocol.map(mapping)\n",
    "dfnet.head()"
   ]
  },
  {
   "cell_type": "markdown",
   "metadata": {},
   "source": [
    "Our next major curiousity was around how long transmissions lasted. This data is found in the **Duration** column, so we called the `.value_counts()` method. But this wasn't very effective since there were so many unique values..."
   ]
  },
  {
   "cell_type": "code",
   "execution_count": 55,
   "metadata": {},
   "outputs": [
    {
     "data": {
      "text/plain": [
       "0        258648\n",
       "1        226146\n",
       "287       30042\n",
       "288       12387\n",
       "2         11594\n",
       "9          9506\n",
       "3          6026\n",
       "301        4238\n",
       "14         3932\n",
       "5          3802\n",
       "7          3661\n",
       "15         3286\n",
       "11         2819\n",
       "4          2805\n",
       "12         2654\n",
       "10         2499\n",
       "13         2419\n",
       "6          1765\n",
       "323        1570\n",
       "36         1315\n",
       "17         1274\n",
       "16         1241\n",
       "32         1170\n",
       "31         1154\n",
       "666        1001\n",
       "33          962\n",
       "330         947\n",
       "603         921\n",
       "286         887\n",
       "315         879\n",
       "          ...  \n",
       "35202         1\n",
       "11425         1\n",
       "3237          1\n",
       "53948         1\n",
       "6461          1\n",
       "7950          1\n",
       "32670         1\n",
       "8866          1\n",
       "70276         1\n",
       "32950         1\n",
       "77748         1\n",
       "43852         1\n",
       "6309          1\n",
       "6925          1\n",
       "1701          1\n",
       "3748          1\n",
       "5287          1\n",
       "5286          1\n",
       "8598          1\n",
       "52107         1\n",
       "53951         1\n",
       "51991         1\n",
       "2724          1\n",
       "7057          1\n",
       "2963          1\n",
       "24239         1\n",
       "3749          1\n",
       "84923         1\n",
       "11937         1\n",
       "19628         1\n",
       "Name: Duration, Length: 7894, dtype: int64"
      ]
     },
     "execution_count": 55,
     "metadata": {},
     "output_type": "execute_result"
    }
   ],
   "source": [
    "dfnet.Duration.value_counts()"
   ]
  },
  {
   "cell_type": "markdown",
   "metadata": {},
   "source": [
    "So we tackled the problem using the `bins` argument to break the data into a number of bins OR groups. The `.value_counts()` method automagically calculated the starting and enbpoints for bins... which led to some unexpected behavior."
   ]
  },
  {
   "cell_type": "code",
   "execution_count": 56,
   "metadata": {},
   "outputs": [
    {
     "data": {
      "text/plain": [
       "(-85.893, 5726.133]       676036\n",
       "(5726.133, 11452.267]       1697\n",
       "(17178.4, 22904.533]         479\n",
       "(28630.667, 34356.8]         365\n",
       "(51535.2, 57261.333]         254\n",
       "(80165.867, 85892.0]         231\n",
       "(11452.267, 17178.4]         195\n",
       "(40082.933, 45809.067]       193\n",
       "(62987.467, 68713.6]         151\n",
       "(74439.733, 80165.867]       135\n",
       "(34356.8, 40082.933]         127\n",
       "(68713.6, 74439.733]          98\n",
       "(45809.067, 51535.2]          18\n",
       "(22904.533, 28630.667]        17\n",
       "(57261.333, 62987.467]         4\n",
       "Name: Duration, dtype: int64"
      ]
     },
     "execution_count": 56,
     "metadata": {},
     "output_type": "execute_result"
    }
   ],
   "source": [
    "dfnet.Duration.value_counts(bins=15)"
   ]
  },
  {
   "cell_type": "markdown",
   "metadata": {},
   "source": [
    "As noted above, the first bin label starts at a **negative duration!** What? So we explored the data to find all rows that had a negative duration. And there were none. The output was an empty `Series`."
   ]
  },
  {
   "cell_type": "code",
   "execution_count": 57,
   "metadata": {},
   "outputs": [
    {
     "data": {
      "text/plain": [
       "Series([], Name: Duration, dtype: int64)"
      ]
     },
     "execution_count": 57,
     "metadata": {},
     "output_type": "execute_result"
    }
   ],
   "source": [
    "dfnet.Duration[dfnet.Duration < 0]"
   ]
  },
  {
   "cell_type": "markdown",
   "metadata": {},
   "source": [
    "We tried using alternate bin counts... to no avail."
   ]
  },
  {
   "cell_type": "code",
   "execution_count": 58,
   "metadata": {},
   "outputs": [
    {
     "data": {
      "text/plain": [
       "(-85.893, 14315.333]      677840\n",
       "(14315.333, 28630.667]       584\n",
       "(28630.667, 42946.0]         508\n",
       "(42946.0, 57261.333]         449\n",
       "(71576.667, 85892.0]         378\n",
       "(57261.333, 71576.667]       241\n",
       "Name: Duration, dtype: int64"
      ]
     },
     "execution_count": 58,
     "metadata": {},
     "output_type": "execute_result"
    }
   ],
   "source": [
    "dfnet.Duration.value_counts(bins=6)"
   ]
  },
  {
   "cell_type": "markdown",
   "metadata": {},
   "source": [
    "After a bit of digging, we opted to use the slightly more powerful `pandas` tool `pd.cut()` to create the bins, because the `pd.cut()` method also allows you to create your own labels instead of relying upon the autogenerated labels from `.value_counts()`."
   ]
  },
  {
   "cell_type": "markdown",
   "metadata": {},
   "source": [
    "We started off by identifying the highest and lowest values for the first and last bins. And set our desired bin number. In this case we ultimately decided to go with 50."
   ]
  },
  {
   "cell_type": "code",
   "execution_count": 59,
   "metadata": {},
   "outputs": [
    {
     "name": "stdout",
     "output_type": "stream",
     "text": [
      "0 85892\n"
     ]
    }
   ],
   "source": [
    "lower, higher = int(dfnet.Duration.min()), int(dfnet.Duration.max())\n",
    "print(lower, higher)\n",
    "n_bins = 50"
   ]
  },
  {
   "cell_type": "markdown",
   "metadata": {},
   "source": [
    "We manually created edges using the upper and lower bounds, the number of bins and the step argument in the `range()` function."
   ]
  },
  {
   "cell_type": "code",
   "execution_count": 60,
   "metadata": {},
   "outputs": [
    {
     "data": {
      "text/plain": [
       "range(0, 85892, 1717)"
      ]
     },
     "execution_count": 60,
     "metadata": {},
     "output_type": "execute_result"
    }
   ],
   "source": [
    "edges = range(lower, higher, int((higher - lower)/n_bins)) \n",
    "\n",
    "edges"
   ]
  },
  {
   "cell_type": "markdown",
   "metadata": {},
   "source": [
    "We created a list comprehension to generate a series of strings to be used as labels for each bin...\n",
    "* We needed to produce one less label than we have edges (i.e. two edges needs one label, three edges needs two labels, etc)\n",
    "* We chose to calculate the edges in terms of minutes versus seconds (thus divided each edge value by 60).\n",
    "* We fed each edge value into the strings using the `.format()` method"
   ]
  },
  {
   "cell_type": "code",
   "execution_count": 61,
   "metadata": {},
   "outputs": [
    {
     "data": {
      "text/plain": [
       "['(0, 28]',\n",
       " '(28, 57]',\n",
       " '(57, 85]',\n",
       " '(85, 114]',\n",
       " '(114, 143]',\n",
       " '(143, 171]',\n",
       " '(171, 200]',\n",
       " '(200, 228]',\n",
       " '(228, 257]',\n",
       " '(257, 286]',\n",
       " '(286, 314]',\n",
       " '(314, 343]',\n",
       " '(343, 372]',\n",
       " '(372, 400]',\n",
       " '(400, 429]',\n",
       " '(429, 457]',\n",
       " '(457, 486]',\n",
       " '(486, 515]',\n",
       " '(515, 543]',\n",
       " '(543, 572]',\n",
       " '(572, 600]',\n",
       " '(600, 629]',\n",
       " '(629, 658]',\n",
       " '(658, 686]',\n",
       " '(686, 715]',\n",
       " '(715, 744]',\n",
       " '(744, 772]',\n",
       " '(772, 801]',\n",
       " '(801, 829]',\n",
       " '(829, 858]',\n",
       " '(858, 887]',\n",
       " '(887, 915]',\n",
       " '(915, 944]',\n",
       " '(944, 972]',\n",
       " '(972, 1001]',\n",
       " '(1001, 1030]',\n",
       " '(1030, 1058]',\n",
       " '(1058, 1087]',\n",
       " '(1087, 1116]',\n",
       " '(1116, 1144]',\n",
       " '(1144, 1173]',\n",
       " '(1173, 1201]',\n",
       " '(1201, 1230]',\n",
       " '(1230, 1259]',\n",
       " '(1259, 1287]',\n",
       " '(1287, 1316]',\n",
       " '(1316, 1344]',\n",
       " '(1344, 1373]',\n",
       " '(1373, 1402]',\n",
       " '(1402, 1430]']"
      ]
     },
     "execution_count": 61,
     "metadata": {},
     "output_type": "execute_result"
    }
   ],
   "source": [
    "labels = ['({}, {}]'.format(int(edges[i]/60), int(edges[i+1]/60)) for i in range(len(edges)-1)]\n",
    "labels"
   ]
  },
  {
   "cell_type": "markdown",
   "metadata": {},
   "source": [
    "From there, we used `pd.cut()` to create the bins, which we then counted using `.value_counts()` and plotted to a horizontal bar chart.\n",
    "\n",
    "We purposely filtered out the four lowest bins to better enable us to focus on the smaller counts at the higher end of the spectrum."
   ]
  },
  {
   "cell_type": "code",
   "execution_count": 62,
   "metadata": {},
   "outputs": [
    {
     "data": {
      "image/png": "[encoded data removed]",
      "text/plain": [
       "<Figure size 720x504 with 1 Axes>"
      ]
     },
     "metadata": {},
     "output_type": "display_data"
    }
   ],
   "source": [
    "plt.figure(figsize=(10,7))\n",
    "\n",
    "pd.cut(dfnet.Duration, bins=n_bins, labels=labels, include_lowest=True).value_counts(sort=False)[4:].plot('barh')\n",
    "plt.savefig('rainbow_of_the_oracles.png')"
   ]
  },
  {
   "cell_type": "markdown",
   "metadata": {},
   "source": [
    "Our next stage of discovery was around the types of and frequency of events as categorized by **EventID**. Of particular interest was the reasons for Logon Failure associated with **EventID** 4625."
   ]
  },
  {
   "cell_type": "code",
   "execution_count": 63,
   "metadata": {},
   "outputs": [
    {
     "data": {
      "text/plain": [
       "4688    64386\n",
       "4624    52551\n",
       "4634    50629\n",
       "4672    17247\n",
       "4776    13632\n",
       "4769     7644\n",
       "4648     6478\n",
       "4768     3814\n",
       "4625      608\n",
       "4803        5\n",
       "4802        3\n",
       "4801        2\n",
       "4800        1\n",
       "Name: EventID, dtype: int64"
      ]
     },
     "execution_count": 63,
     "metadata": {},
     "output_type": "execute_result"
    }
   ],
   "source": [
    "dfhost.EventID.value_counts()"
   ]
  },
  {
   "cell_type": "markdown",
   "metadata": {},
   "source": [
    "We filtered down to just the 4625 values in the **EventID** column and looked at the `.value_counts()` for the **FailureReason**."
   ]
  },
  {
   "cell_type": "code",
   "execution_count": 64,
   "metadata": {},
   "outputs": [
    {
     "data": {
      "text/plain": [
       "An Error occured during Logon.                                             266\n",
       "Unknown user name or bad password.                                         235\n",
       "The user has not been granted the requested logon type at this machine.    103\n",
       "Account currently disabled.                                                  4\n",
       "Name: FailureReason, dtype: int64"
      ]
     },
     "execution_count": 64,
     "metadata": {},
     "output_type": "execute_result"
    }
   ],
   "source": [
    "dfhost[dfhost.EventID == 4625].FailureReason.value_counts()"
   ]
  },
  {
   "cell_type": "markdown",
   "metadata": {},
   "source": [
    "This led us to ask... is there a way to discern whether specific users are tied to particular failure types. Our first attempt at this 'worked' but it wasn't grouped nicely, as we wanted."
   ]
  },
  {
   "cell_type": "code",
   "execution_count": 65,
   "metadata": {},
   "outputs": [
    {
     "data": {
      "text/html": [
       "<div>\n",
       "<style scoped>\n",
       "    .dataframe tbody tr th:only-of-type {\n",
       "        vertical-align: middle;\n",
       "    }\n",
       "\n",
       "    .dataframe tbody tr th {\n",
       "        vertical-align: top;\n",
       "    }\n",
       "\n",
       "    .dataframe thead th {\n",
       "        text-align: right;\n",
       "    }\n",
       "</style>\n",
       "<table border=\"1\" class=\"dataframe\">\n",
       "  <thead>\n",
       "    <tr style=\"text-align: right;\">\n",
       "      <th></th>\n",
       "      <th>FailureReason</th>\n",
       "      <th>UserName</th>\n",
       "    </tr>\n",
       "  </thead>\n",
       "  <tbody>\n",
       "    <tr>\n",
       "      <th>332</th>\n",
       "      <td>Unknown user name or bad password.</td>\n",
       "      <td>User260318</td>\n",
       "    </tr>\n",
       "    <tr>\n",
       "      <th>1067</th>\n",
       "      <td>The user has not been granted the requested lo...</td>\n",
       "      <td>AppService</td>\n",
       "    </tr>\n",
       "    <tr>\n",
       "      <th>1140</th>\n",
       "      <td>Unknown user name or bad password.</td>\n",
       "      <td>User234408</td>\n",
       "    </tr>\n",
       "    <tr>\n",
       "      <th>1164</th>\n",
       "      <td>Unknown user name or bad password.</td>\n",
       "      <td>User234408</td>\n",
       "    </tr>\n",
       "    <tr>\n",
       "      <th>1238</th>\n",
       "      <td>Unknown user name or bad password.</td>\n",
       "      <td>User031784</td>\n",
       "    </tr>\n",
       "    <tr>\n",
       "      <th>2246</th>\n",
       "      <td>Unknown user name or bad password.</td>\n",
       "      <td>User641794</td>\n",
       "    </tr>\n",
       "    <tr>\n",
       "      <th>2414</th>\n",
       "      <td>The user has not been granted the requested lo...</td>\n",
       "      <td>Comp289117$</td>\n",
       "    </tr>\n",
       "    <tr>\n",
       "      <th>3508</th>\n",
       "      <td>An Error occured during Logon.</td>\n",
       "      <td>Comp207493$</td>\n",
       "    </tr>\n",
       "    <tr>\n",
       "      <th>3509</th>\n",
       "      <td>An Error occured during Logon.</td>\n",
       "      <td>Comp207493$</td>\n",
       "    </tr>\n",
       "    <tr>\n",
       "      <th>3699</th>\n",
       "      <td>Unknown user name or bad password.</td>\n",
       "      <td>Comp881074$</td>\n",
       "    </tr>\n",
       "    <tr>\n",
       "      <th>4306</th>\n",
       "      <td>Unknown user name or bad password.</td>\n",
       "      <td>User641794</td>\n",
       "    </tr>\n",
       "    <tr>\n",
       "      <th>4433</th>\n",
       "      <td>Account currently disabled.</td>\n",
       "      <td>User760076</td>\n",
       "    </tr>\n",
       "    <tr>\n",
       "      <th>5857</th>\n",
       "      <td>Unknown user name or bad password.</td>\n",
       "      <td>User593880</td>\n",
       "    </tr>\n",
       "    <tr>\n",
       "      <th>6626</th>\n",
       "      <td>An Error occured during Logon.</td>\n",
       "      <td>Comp207493$</td>\n",
       "    </tr>\n",
       "    <tr>\n",
       "      <th>6634</th>\n",
       "      <td>An Error occured during Logon.</td>\n",
       "      <td>Comp207493$</td>\n",
       "    </tr>\n",
       "    <tr>\n",
       "      <th>8235</th>\n",
       "      <td>Unknown user name or bad password.</td>\n",
       "      <td>User031784</td>\n",
       "    </tr>\n",
       "    <tr>\n",
       "      <th>8345</th>\n",
       "      <td>The user has not been granted the requested lo...</td>\n",
       "      <td>Comp289117$</td>\n",
       "    </tr>\n",
       "    <tr>\n",
       "      <th>9807</th>\n",
       "      <td>An Error occured during Logon.</td>\n",
       "      <td>Comp207493$</td>\n",
       "    </tr>\n",
       "    <tr>\n",
       "      <th>9808</th>\n",
       "      <td>An Error occured during Logon.</td>\n",
       "      <td>Comp207493$</td>\n",
       "    </tr>\n",
       "    <tr>\n",
       "      <th>9871</th>\n",
       "      <td>The user has not been granted the requested lo...</td>\n",
       "      <td>Comp289117$</td>\n",
       "    </tr>\n",
       "    <tr>\n",
       "      <th>10043</th>\n",
       "      <td>Unknown user name or bad password.</td>\n",
       "      <td>Comp881074$</td>\n",
       "    </tr>\n",
       "    <tr>\n",
       "      <th>10913</th>\n",
       "      <td>An Error occured during Logon.</td>\n",
       "      <td>Comp207493$</td>\n",
       "    </tr>\n",
       "    <tr>\n",
       "      <th>10914</th>\n",
       "      <td>An Error occured during Logon.</td>\n",
       "      <td>Comp207493$</td>\n",
       "    </tr>\n",
       "    <tr>\n",
       "      <th>11072</th>\n",
       "      <td>Unknown user name or bad password.</td>\n",
       "      <td>User031784</td>\n",
       "    </tr>\n",
       "    <tr>\n",
       "      <th>12070</th>\n",
       "      <td>The user has not been granted the requested lo...</td>\n",
       "      <td>Comp289117$</td>\n",
       "    </tr>\n",
       "    <tr>\n",
       "      <th>12208</th>\n",
       "      <td>Unknown user name or bad password.</td>\n",
       "      <td>User515356</td>\n",
       "    </tr>\n",
       "    <tr>\n",
       "      <th>12211</th>\n",
       "      <td>Unknown user name or bad password.</td>\n",
       "      <td>User515356</td>\n",
       "    </tr>\n",
       "    <tr>\n",
       "      <th>12213</th>\n",
       "      <td>Unknown user name or bad password.</td>\n",
       "      <td>User515356</td>\n",
       "    </tr>\n",
       "    <tr>\n",
       "      <th>12215</th>\n",
       "      <td>Unknown user name or bad password.</td>\n",
       "      <td>User515356</td>\n",
       "    </tr>\n",
       "    <tr>\n",
       "      <th>12217</th>\n",
       "      <td>Unknown user name or bad password.</td>\n",
       "      <td>User515356</td>\n",
       "    </tr>\n",
       "    <tr>\n",
       "      <th>...</th>\n",
       "      <td>...</td>\n",
       "      <td>...</td>\n",
       "    </tr>\n",
       "    <tr>\n",
       "      <th>206142</th>\n",
       "      <td>The user has not been granted the requested lo...</td>\n",
       "      <td>Comp289117$</td>\n",
       "    </tr>\n",
       "    <tr>\n",
       "      <th>207737</th>\n",
       "      <td>Unknown user name or bad password.</td>\n",
       "      <td>User031784</td>\n",
       "    </tr>\n",
       "    <tr>\n",
       "      <th>207772</th>\n",
       "      <td>Unknown user name or bad password.</td>\n",
       "      <td>AppService</td>\n",
       "    </tr>\n",
       "    <tr>\n",
       "      <th>207856</th>\n",
       "      <td>The user has not been granted the requested lo...</td>\n",
       "      <td>Comp289117$</td>\n",
       "    </tr>\n",
       "    <tr>\n",
       "      <th>208053</th>\n",
       "      <td>An Error occured during Logon.</td>\n",
       "      <td>Comp207493$</td>\n",
       "    </tr>\n",
       "    <tr>\n",
       "      <th>208054</th>\n",
       "      <td>An Error occured during Logon.</td>\n",
       "      <td>Comp207493$</td>\n",
       "    </tr>\n",
       "    <tr>\n",
       "      <th>208690</th>\n",
       "      <td>Unknown user name or bad password.</td>\n",
       "      <td>User656951</td>\n",
       "    </tr>\n",
       "    <tr>\n",
       "      <th>208691</th>\n",
       "      <td>Unknown user name or bad password.</td>\n",
       "      <td>User656951</td>\n",
       "    </tr>\n",
       "    <tr>\n",
       "      <th>208693</th>\n",
       "      <td>Unknown user name or bad password.</td>\n",
       "      <td>User876234</td>\n",
       "    </tr>\n",
       "    <tr>\n",
       "      <th>209108</th>\n",
       "      <td>An Error occured during Logon.</td>\n",
       "      <td>Comp207493$</td>\n",
       "    </tr>\n",
       "    <tr>\n",
       "      <th>209109</th>\n",
       "      <td>An Error occured during Logon.</td>\n",
       "      <td>Comp207493$</td>\n",
       "    </tr>\n",
       "    <tr>\n",
       "      <th>209933</th>\n",
       "      <td>Unknown user name or bad password.</td>\n",
       "      <td>User031784</td>\n",
       "    </tr>\n",
       "    <tr>\n",
       "      <th>210016</th>\n",
       "      <td>The user has not been granted the requested lo...</td>\n",
       "      <td>Comp289117$</td>\n",
       "    </tr>\n",
       "    <tr>\n",
       "      <th>210132</th>\n",
       "      <td>An Error occured during Logon.</td>\n",
       "      <td>Comp207493$</td>\n",
       "    </tr>\n",
       "    <tr>\n",
       "      <th>210133</th>\n",
       "      <td>An Error occured during Logon.</td>\n",
       "      <td>Comp207493$</td>\n",
       "    </tr>\n",
       "    <tr>\n",
       "      <th>210792</th>\n",
       "      <td>Unknown user name or bad password.</td>\n",
       "      <td>User656951</td>\n",
       "    </tr>\n",
       "    <tr>\n",
       "      <th>210925</th>\n",
       "      <td>Unknown user name or bad password.</td>\n",
       "      <td>User656951</td>\n",
       "    </tr>\n",
       "    <tr>\n",
       "      <th>211015</th>\n",
       "      <td>An Error occured during Logon.</td>\n",
       "      <td>Comp207493$</td>\n",
       "    </tr>\n",
       "    <tr>\n",
       "      <th>211016</th>\n",
       "      <td>An Error occured during Logon.</td>\n",
       "      <td>Comp207493$</td>\n",
       "    </tr>\n",
       "    <tr>\n",
       "      <th>211702</th>\n",
       "      <td>Unknown user name or bad password.</td>\n",
       "      <td>User234408</td>\n",
       "    </tr>\n",
       "    <tr>\n",
       "      <th>211704</th>\n",
       "      <td>Unknown user name or bad password.</td>\n",
       "      <td>User234408</td>\n",
       "    </tr>\n",
       "    <tr>\n",
       "      <th>214093</th>\n",
       "      <td>The user has not been granted the requested lo...</td>\n",
       "      <td>Comp289117$</td>\n",
       "    </tr>\n",
       "    <tr>\n",
       "      <th>214329</th>\n",
       "      <td>An Error occured during Logon.</td>\n",
       "      <td>Comp207493$</td>\n",
       "    </tr>\n",
       "    <tr>\n",
       "      <th>214330</th>\n",
       "      <td>An Error occured during Logon.</td>\n",
       "      <td>Comp207493$</td>\n",
       "    </tr>\n",
       "    <tr>\n",
       "      <th>215341</th>\n",
       "      <td>The user has not been granted the requested lo...</td>\n",
       "      <td>Comp289117$</td>\n",
       "    </tr>\n",
       "    <tr>\n",
       "      <th>215505</th>\n",
       "      <td>An Error occured during Logon.</td>\n",
       "      <td>Comp207493$</td>\n",
       "    </tr>\n",
       "    <tr>\n",
       "      <th>215506</th>\n",
       "      <td>An Error occured during Logon.</td>\n",
       "      <td>Comp207493$</td>\n",
       "    </tr>\n",
       "    <tr>\n",
       "      <th>216391</th>\n",
       "      <td>The user has not been granted the requested lo...</td>\n",
       "      <td>Comp289117$</td>\n",
       "    </tr>\n",
       "    <tr>\n",
       "      <th>216574</th>\n",
       "      <td>An Error occured during Logon.</td>\n",
       "      <td>Comp207493$</td>\n",
       "    </tr>\n",
       "    <tr>\n",
       "      <th>216575</th>\n",
       "      <td>An Error occured during Logon.</td>\n",
       "      <td>Comp207493$</td>\n",
       "    </tr>\n",
       "  </tbody>\n",
       "</table>\n",
       "<p>608 rows × 2 columns</p>\n",
       "</div>"
      ],
      "text/plain": [
       "                                            FailureReason     UserName\n",
       "332                    Unknown user name or bad password.   User260318\n",
       "1067    The user has not been granted the requested lo...   AppService\n",
       "1140                   Unknown user name or bad password.   User234408\n",
       "1164                   Unknown user name or bad password.   User234408\n",
       "1238                   Unknown user name or bad password.   User031784\n",
       "2246                   Unknown user name or bad password.   User641794\n",
       "2414    The user has not been granted the requested lo...  Comp289117$\n",
       "3508                       An Error occured during Logon.  Comp207493$\n",
       "3509                       An Error occured during Logon.  Comp207493$\n",
       "3699                   Unknown user name or bad password.  Comp881074$\n",
       "4306                   Unknown user name or bad password.   User641794\n",
       "4433                          Account currently disabled.   User760076\n",
       "5857                   Unknown user name or bad password.   User593880\n",
       "6626                       An Error occured during Logon.  Comp207493$\n",
       "6634                       An Error occured during Logon.  Comp207493$\n",
       "8235                   Unknown user name or bad password.   User031784\n",
       "8345    The user has not been granted the requested lo...  Comp289117$\n",
       "9807                       An Error occured during Logon.  Comp207493$\n",
       "9808                       An Error occured during Logon.  Comp207493$\n",
       "9871    The user has not been granted the requested lo...  Comp289117$\n",
       "10043                  Unknown user name or bad password.  Comp881074$\n",
       "10913                      An Error occured during Logon.  Comp207493$\n",
       "10914                      An Error occured during Logon.  Comp207493$\n",
       "11072                  Unknown user name or bad password.   User031784\n",
       "12070   The user has not been granted the requested lo...  Comp289117$\n",
       "12208                  Unknown user name or bad password.   User515356\n",
       "12211                  Unknown user name or bad password.   User515356\n",
       "12213                  Unknown user name or bad password.   User515356\n",
       "12215                  Unknown user name or bad password.   User515356\n",
       "12217                  Unknown user name or bad password.   User515356\n",
       "...                                                   ...          ...\n",
       "206142  The user has not been granted the requested lo...  Comp289117$\n",
       "207737                 Unknown user name or bad password.   User031784\n",
       "207772                 Unknown user name or bad password.   AppService\n",
       "207856  The user has not been granted the requested lo...  Comp289117$\n",
       "208053                     An Error occured during Logon.  Comp207493$\n",
       "208054                     An Error occured during Logon.  Comp207493$\n",
       "208690                 Unknown user name or bad password.   User656951\n",
       "208691                 Unknown user name or bad password.   User656951\n",
       "208693                 Unknown user name or bad password.   User876234\n",
       "209108                     An Error occured during Logon.  Comp207493$\n",
       "209109                     An Error occured during Logon.  Comp207493$\n",
       "209933                 Unknown user name or bad password.   User031784\n",
       "210016  The user has not been granted the requested lo...  Comp289117$\n",
       "210132                     An Error occured during Logon.  Comp207493$\n",
       "210133                     An Error occured during Logon.  Comp207493$\n",
       "210792                 Unknown user name or bad password.   User656951\n",
       "210925                 Unknown user name or bad password.   User656951\n",
       "211015                     An Error occured during Logon.  Comp207493$\n",
       "211016                     An Error occured during Logon.  Comp207493$\n",
       "211702                 Unknown user name or bad password.   User234408\n",
       "211704                 Unknown user name or bad password.   User234408\n",
       "214093  The user has not been granted the requested lo...  Comp289117$\n",
       "214329                     An Error occured during Logon.  Comp207493$\n",
       "214330                     An Error occured during Logon.  Comp207493$\n",
       "215341  The user has not been granted the requested lo...  Comp289117$\n",
       "215505                     An Error occured during Logon.  Comp207493$\n",
       "215506                     An Error occured during Logon.  Comp207493$\n",
       "216391  The user has not been granted the requested lo...  Comp289117$\n",
       "216574                     An Error occured during Logon.  Comp207493$\n",
       "216575                     An Error occured during Logon.  Comp207493$\n",
       "\n",
       "[608 rows x 2 columns]"
      ]
     },
     "execution_count": 65,
     "metadata": {},
     "output_type": "execute_result"
    }
   ],
   "source": [
    "dffails = dfhost[dfhost.EventID == 4625][['FailureReason', 'UserName']]\n",
    "dffails"
   ]
  },
  {
   "cell_type": "markdown",
   "metadata": {},
   "source": [
    "So we grouped by the **FailureReason** and then performed a value count against the **UserName** column and noticed that particular user accounts had potentially inordinate numbers of failed logons (especially since we were only looking at a six minute span). This may be due some sort of automated process running. Ultimately, this did generate some fun questions:\n",
    "\n",
    "* Who are these folks? \n",
    "* Are these services, are they automated logons?\n",
    "* Do some users just suck at logging on?\n"
   ]
  },
  {
   "cell_type": "code",
   "execution_count": 66,
   "metadata": {},
   "outputs": [
    {
     "data": {
      "text/plain": [
       "FailureReason                                                            UserName            \n",
       "Account currently disabled.                                              Comp079298$               2\n",
       "                                                                         Comp800752$               1\n",
       "                                                                         User760076                1\n",
       "An Error occured during Logon.                                           Comp207493$             266\n",
       "The user has not been granted the requested logon type at this machine.  Comp289117$              99\n",
       "                                                                         AppService                2\n",
       "                                                                         User494973                2\n",
       "Unknown user name or bad password.                                       User515356               72\n",
       "                                                                         User031784               52\n",
       "                                                                         Comp881074$              36\n",
       "                                                                         User656951               27\n",
       "                                                                         AppService               24\n",
       "                                                                         User234408                8\n",
       "                                                                         EnterpriseAppServer$      5\n",
       "                                                                         Comp992677$               2\n",
       "                                                                         User641794                2\n",
       "                                                                         User876234                2\n",
       "                                                                         Comp885296$               1\n",
       "                                                                         Comp999028$               1\n",
       "                                                                         User260318                1\n",
       "                                                                         User531504                1\n",
       "                                                                         User593880                1\n",
       "Name: UserName, dtype: int64"
      ]
     },
     "execution_count": 66,
     "metadata": {},
     "output_type": "execute_result"
    }
   ],
   "source": [
    "dffails.groupby(by='FailureReason')['UserName'].value_counts()"
   ]
  },
  {
   "cell_type": "markdown",
   "metadata": {},
   "source": [
    "Our last major question was to identify users who might show up on more than one domain. To assess this, we:\n",
    "\n",
    "* created a smaller, simpler `DataFrame`\n",
    "* created a groupby using **UserName**\n",
    "* created a filter, by filtering for only **UserName** groups that had more than ONE entry\n",
    "* extracted just the usernames associated with the filter\n",
    "* applied the usernames as a filter against the larger `DataFrame` and then displayed just those results, grouped by UserName and DomainName and showing the group size (frequency count)."
   ]
  },
  {
   "cell_type": "code",
   "execution_count": 67,
   "metadata": {},
   "outputs": [
    {
     "data": {
      "text/plain": [
       "UserName              DomainName         \n",
       "Administrator         Comp349403                 2\n",
       "                      Comp735514                 5\n",
       "                      Comp981237                 1\n",
       "                      Domain001               4576\n",
       "AppService            Domain001              30764\n",
       "                      Domain002                966\n",
       "                      Domain005                 35\n",
       "                      EnterpriseAppServer     2838\n",
       "EnterpriseAppServer$  Domain001               6104\n",
       "                      Domain003                  1\n",
       "User031784            Domain001                 52\n",
       "                      Domain002                 52\n",
       "User032516            Comp308413                17\n",
       "                      Comp585184                 8\n",
       "                      Comp601512                 4\n",
       "                      Comp743141                 8\n",
       "                      Comp923957                10\n",
       "                      Domain002                 11\n",
       "User234408            Comp907587                20\n",
       "                      Domain001                  8\n",
       "User313678            Comp567356                 1\n",
       "                      Domain001                129\n",
       "User439828            Comp125736               329\n",
       "                      Domain001                 82\n",
       "User515356            Comp032135                72\n",
       "                      Domain002                 72\n",
       "User564015            Domain001                 13\n",
       "                      Domain002                  3\n",
       "User641794            Comp350644                 8\n",
       "                      Comp862246                 8\n",
       "                      Domain001                  2\n",
       "                      Domain002                  2\n",
       "User706736            Comp307946                 8\n",
       "                      Domain001                  2\n",
       "                      Domain002                  2\n",
       "dtype: int64"
      ]
     },
     "execution_count": 67,
     "metadata": {},
     "output_type": "execute_result"
    }
   ],
   "source": [
    "tmp = dfhost[['UserName', 'DomainName']]\n",
    "fltr = tmp.drop_duplicates().groupby('UserName').size()\n",
    "usernames = fltr[fltr > 1].index\n",
    "dfhost[dfhost['UserName'].isin(usernames)].groupby(['UserName', 'DomainName']).size()"
   ]
  },
  {
   "cell_type": "markdown",
   "metadata": {},
   "source": [
    "# Backup code for processing the original data:"
   ]
  },
  {
   "cell_type": "raw",
   "metadata": {},
   "source": [
    "# Read in data from the original file and save it to a new, smaller file.\n",
    "# NOTE: these cells are saved in RAW format to prevent execution.\n",
    "\n",
    "import time\n",
    "\n",
    "max_records = 1000\n",
    "HOSTDATA = 'wls_day-90'\n",
    "\n",
    "df = pd.read_json(HOSTDATA, lines=True, chunksize=max_records)\n",
    "filtered_data = pd.DataFrame() # Initialize the dataframe\n",
    "\n",
    "start = time.time()\n",
    "try:\n",
    "    for index, df_chunk in enumerate(df):\n",
    "        filtered_data = pd.concat([filtered_data, df_chunk])\n",
    "        # print('success')\n",
    "        if index > 215:\n",
    "            break\n",
    "        \n",
    "except OSError:\n",
    "    print ('\\nEPIC FAIL')\n",
    "    print(index)\n",
    "\n",
    "filtered_data.to_json('wls_day-90_250K', lines=True, orient='records')\n",
    "\n",
    "print('Total processing time:', (time.time() - start)/60)  "
   ]
  },
  {
   "cell_type": "raw",
   "metadata": {},
   "source": [
    "len(filtered_data)"
   ]
  },
  {
   "cell_type": "raw",
   "metadata": {},
   "source": [
    "filtered_data.head(2)"
   ]
  },
  {
   "cell_type": "raw",
   "metadata": {},
   "source": [
    "print('total time slice:', filtered_data.Time.max() - filtered_data.Time.min(), 'seconds')\n",
    "print(filtered_data.Time.max(), filtered_data.Time.min())"
   ]
  },
  {
   "cell_type": "raw",
   "metadata": {},
   "source": [
    "names = ['time',\n",
    "         'duration',\n",
    "         'srcdevice',\n",
    "         'dstdevice',\n",
    "         'protocol',\n",
    "         'srcport',\n",
    "         'dstport',\n",
    "         'srcpackets',\n",
    "         'dstpackets',\n",
    "         'srcbytes',\n",
    "         'dstbytes',\n",
    "        ]\n",
    "\n",
    "dfnet = pd.read_csv('netflow_day-90', names=names, nrows=680000)\n",
    "dfnet.to_csv('netflow_day-90_x')"
   ]
  },
  {
   "cell_type": "raw",
   "metadata": {},
   "source": [
    "print('total time slice:', dfnet.time.max() - dfnet.time.min(), 'seconds')\n",
    "print(dfnet.time.max(), dfnet.time.min())"
   ]
  },
  {
   "cell_type": "raw",
   "metadata": {},
   "source": [
    "len(dfnet)"
   ]
  },
  {
   "cell_type": "code",
   "execution_count": null,
   "metadata": {},
   "outputs": [],
   "source": []
  }
 ],
 "metadata": {
  "anaconda-cloud": {},
  "kernelspec": {
   "display_name": "Python 3",
   "language": "python",
   "name": "python3"
  },
  "language_info": {
   "codemirror_mode": {
    "name": "ipython",
    "version": 3
   },
   "file_extension": ".py",
   "mimetype": "text/x-python",
   "name": "python",
   "nbconvert_exporter": "python",
   "pygments_lexer": "ipython3",
   "version": "3.6.5"
  }
 },
 "nbformat": 4,
 "nbformat_minor": 2
}
