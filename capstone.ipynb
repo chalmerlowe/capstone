{
 "cells": [
  {
   "cell_type": "markdown",
   "metadata": {},
   "source": [
    "# Capstone Project part 2: EDA  #\n",
    "## Chalmer Lowe\n",
    "\n",
    "** README ** \n",
    "\n",
    "The analysis of computer behavior (both the behavior of individual hosts and the behavior of traffic crossing between hosts) is fundamental to performing cyber security analysis. This EDA session evaluates a portion of the data from a Los Alamos National Labs data set comprising 90 days of host-based data collection and 90 days of network traffic. Due to the extremely large data set, we opted to limit our analysis to a subset of the total data that was collected on day 90. We attempted to include only data from the hosts and the network that fell within the same time slot (from xx:xx to xx:xx). This subset of data was chosen as a means of decreasing the overall data processing time needed.\n",
    "\n",
    "Our subset of the data is included for use with this notebook.\n",
    "\n",
    "** EDA comment by instructor**\n"
   ]
  },
  {
   "cell_type": "markdown",
   "metadata": {},
   "source": [
    "## Step 0: What are you working on\n",
    "** Your project title: Who and What: an assessment of the behavior on and between hosts on a network**  \n",
    "\n",
    "Several questions have come to mind as part of this EDA:\n",
    "* Is there a relationship between specific hosts and the number of packets sent?\n",
    "* Is there a relationship between specific hosts and the number of bytes sent?\n",
    "\n",
    "** What are the outcomes of your project: **  \n",
    "** Data Source:(provide a link to dataset if available)** \n",
    "The original data for this project came from XXX:"
   ]
  },
  {
   "cell_type": "code",
   "execution_count": 1,
   "metadata": {
    "collapsed": true
   },
   "outputs": [
    {
     "data": {
      "text/plain": [
       "'\\nTime\\tThe start time of the event in epoch time format\\nDuration\\tThe duration of the event in seconds.\\nSrcDevice\\tThe device that likely initiated the event.\\nDstDevice\\tThe receiving device.\\nProtocol\\tThe protocol number.\\nSrcPort\\tThe port used by the SrcDevice.\\nDstPort\\tThe port used by the DstDevice.\\nSrcPackets\\tThe number of packets the SrcDevice sent during the event.\\nDstPackets\\tThe number of packets the DstDevice sent during the event.\\nSrcBytes\\tThe number of bytes the SrcDevice sent during the event.\\nDstBytes'"
      ]
     },
     "execution_count": 1,
     "metadata": {},
     "output_type": "execute_result"
    }
   ],
   "source": [
    "'''\n",
    "Time\tThe start time of the event in epoch time format\n",
    "Duration\tThe duration of the event in seconds.\n",
    "SrcDevice\tThe device that likely initiated the event.\n",
    "DstDevice\tThe receiving device.\n",
    "Protocol\tThe protocol number.\n",
    "SrcPort\tThe port used by the SrcDevice.\n",
    "DstPort\tThe port used by the DstDevice.\n",
    "SrcPackets\tThe number of packets the SrcDevice sent during the event.\n",
    "DstPackets\tThe number of packets the DstDevice sent during the event.\n",
    "SrcBytes\tThe number of bytes the SrcDevice sent during the event.\n",
    "DstBytes'''"
   ]
  },
  {
   "cell_type": "markdown",
   "metadata": {},
   "source": [
    "**Load packages:**"
   ]
  },
  {
   "cell_type": "code",
   "execution_count": 2,
   "metadata": {
    "collapsed": true
   },
   "outputs": [],
   "source": [
    "import numpy as np\n",
    "import scipy.stats as stats\n",
    "import seaborn as sns\n",
    "import matplotlib.pyplot as plt\n",
    "import pandas as pd\n",
    "from sklearn.preprocessing import StandardScaler\n",
    "%matplotlib inline\n",
    "\n",
    "#more packages import as needed"
   ]
  },
  {
   "cell_type": "markdown",
   "metadata": {},
   "source": [
    "<a id='load_data'></a>\n",
    "\n",
    "### 1. Load the data\n",
    "\n",
    "---\n",
    "\n",
    "Import the csv into a pandas DataFrame."
   ]
  },
  {
   "cell_type": "code",
   "execution_count": 3,
   "metadata": {
    "collapsed": true
   },
   "outputs": [],
   "source": [
    "# As noted in the Readme, above, there was significantly more data available than could be\n",
    "# conveniently processed and shared as part of this project. For that reason, I did some \n",
    "# fast and dirty preprocessing to reduce the number of records for both of the data files.\n",
    "# The netflow data was reduced to ~3 million records between two time stamps\n",
    "# The host data was reduced to ~1 million records between roughly the same time stamps\n",
    "#     Additional processing below will be used to ensure that only records actually \n",
    "#     associated with the same time windows will be used in this assessment."
   ]
  },
  {
   "cell_type": "code",
   "execution_count": 4,
   "metadata": {},
   "outputs": [],
   "source": [
    "# The first dataset we will look at is the host data:\n",
    "# This JSON-based file provides column headers based on the keys in the \n",
    "#     JSON. The file contains multiple JSON objects, one per line.\n",
    "\n",
    "HOSTDATA = 'wls_day-90_217K'\n",
    "\n",
    "dfhost = pd.read_json(HOSTDATA, lines=True)"
   ]
  },
  {
   "cell_type": "code",
   "execution_count": 5,
   "metadata": {
    "collapsed": true
   },
   "outputs": [],
   "source": [
    "# The second dataset we will look at is the netflow data:\n",
    "# This CSV-based file does not have headers built-in, for this reason,\n",
    "#     we will provide our own header names.\n",
    "\n",
    "names = ['Time',\n",
    "         'Duration',\n",
    "         'SrcDevice',\n",
    "         'DstDevice',\n",
    "         'Protocol',\n",
    "         'SrcPort',\n",
    "         'DstPort',\n",
    "         'SrcPackets',\n",
    "         'DstPackets',\n",
    "         'SrcBytes',\n",
    "         'DstBytes',\n",
    "        ]\n",
    "\n",
    "NETDATA = 'netflow_day-90_680K'\n",
    "\n",
    "dfnet = pd.read_csv(NETDATA, names=names)"
   ]
  },
  {
   "cell_type": "markdown",
   "metadata": {},
   "source": [
    "### 2. Describe the basic format of the data and the columns\n",
    "\n",
    "---\n",
    "\n",
    "Use the `.head()` function (and optionally pass in an integer for the number of rows you want to see) to examine what the loaded data looks like. This is a good initial step to get a feel for what is in the csv and what problems may be present.\n",
    "\n",
    "The `.dtypes` attribute tells you the data type for each of your columns.\n",
    "\n",
    "Describe what you see"
   ]
  },
  {
   "cell_type": "code",
   "execution_count": 6,
   "metadata": {},
   "outputs": [
    {
     "data": {
      "text/html": [
       "<div>\n",
       "<style scoped>\n",
       "    .dataframe tbody tr th:only-of-type {\n",
       "        vertical-align: middle;\n",
       "    }\n",
       "\n",
       "    .dataframe tbody tr th {\n",
       "        vertical-align: top;\n",
       "    }\n",
       "\n",
       "    .dataframe thead th {\n",
       "        text-align: right;\n",
       "    }\n",
       "</style>\n",
       "<table border=\"1\" class=\"dataframe\">\n",
       "  <thead>\n",
       "    <tr style=\"text-align: right;\">\n",
       "      <th></th>\n",
       "      <th>AuthenticationPackage</th>\n",
       "      <th>Destination</th>\n",
       "      <th>DomainName</th>\n",
       "      <th>EventID</th>\n",
       "      <th>FailureReason</th>\n",
       "      <th>LogHost</th>\n",
       "      <th>LogonID</th>\n",
       "      <th>LogonType</th>\n",
       "      <th>LogonTypeDescription</th>\n",
       "      <th>ParentProcessID</th>\n",
       "      <th>...</th>\n",
       "      <th>ProcessID</th>\n",
       "      <th>ProcessName</th>\n",
       "      <th>ServiceName</th>\n",
       "      <th>Source</th>\n",
       "      <th>Status</th>\n",
       "      <th>SubjectDomainName</th>\n",
       "      <th>SubjectLogonID</th>\n",
       "      <th>SubjectUserName</th>\n",
       "      <th>Time</th>\n",
       "      <th>UserName</th>\n",
       "    </tr>\n",
       "  </thead>\n",
       "  <tbody>\n",
       "    <tr>\n",
       "      <th>0</th>\n",
       "      <td>None</td>\n",
       "      <td>None</td>\n",
       "      <td>Domain001</td>\n",
       "      <td>4688</td>\n",
       "      <td>None</td>\n",
       "      <td>Comp883506</td>\n",
       "      <td>0x3e7</td>\n",
       "      <td>NaN</td>\n",
       "      <td>None</td>\n",
       "      <td>0x4db8</td>\n",
       "      <td>...</td>\n",
       "      <td>0x4140</td>\n",
       "      <td>wermgr.exe</td>\n",
       "      <td>None</td>\n",
       "      <td>None</td>\n",
       "      <td>None</td>\n",
       "      <td>None</td>\n",
       "      <td>None</td>\n",
       "      <td>None</td>\n",
       "      <td>7689600</td>\n",
       "      <td>Comp883506$</td>\n",
       "    </tr>\n",
       "    <tr>\n",
       "      <th>1</th>\n",
       "      <td>None</td>\n",
       "      <td>None</td>\n",
       "      <td>Domain001</td>\n",
       "      <td>4688</td>\n",
       "      <td>None</td>\n",
       "      <td>Comp154941</td>\n",
       "      <td>0x3e7</td>\n",
       "      <td>NaN</td>\n",
       "      <td>None</td>\n",
       "      <td>0x3b60</td>\n",
       "      <td>...</td>\n",
       "      <td>0x36c4</td>\n",
       "      <td>Proc857443.exe</td>\n",
       "      <td>None</td>\n",
       "      <td>None</td>\n",
       "      <td>None</td>\n",
       "      <td>None</td>\n",
       "      <td>None</td>\n",
       "      <td>None</td>\n",
       "      <td>7689600</td>\n",
       "      <td>Comp154941$</td>\n",
       "    </tr>\n",
       "    <tr>\n",
       "      <th>2</th>\n",
       "      <td>None</td>\n",
       "      <td>None</td>\n",
       "      <td>Domain001</td>\n",
       "      <td>4688</td>\n",
       "      <td>None</td>\n",
       "      <td>Comp055724</td>\n",
       "      <td>0x3e7</td>\n",
       "      <td>NaN</td>\n",
       "      <td>None</td>\n",
       "      <td>0x3c8</td>\n",
       "      <td>...</td>\n",
       "      <td>0xbfc</td>\n",
       "      <td>taskeng.exe</td>\n",
       "      <td>None</td>\n",
       "      <td>None</td>\n",
       "      <td>None</td>\n",
       "      <td>None</td>\n",
       "      <td>None</td>\n",
       "      <td>None</td>\n",
       "      <td>7689600</td>\n",
       "      <td>Comp055724$</td>\n",
       "    </tr>\n",
       "    <tr>\n",
       "      <th>3</th>\n",
       "      <td>None</td>\n",
       "      <td>None</td>\n",
       "      <td>Domain001</td>\n",
       "      <td>4769</td>\n",
       "      <td>None</td>\n",
       "      <td>ActiveDirectory</td>\n",
       "      <td>None</td>\n",
       "      <td>NaN</td>\n",
       "      <td>None</td>\n",
       "      <td>None</td>\n",
       "      <td>...</td>\n",
       "      <td>None</td>\n",
       "      <td>None</td>\n",
       "      <td>ActiveDirectory$</td>\n",
       "      <td>Comp230907</td>\n",
       "      <td>0x0</td>\n",
       "      <td>None</td>\n",
       "      <td>None</td>\n",
       "      <td>None</td>\n",
       "      <td>7689600</td>\n",
       "      <td>Comp230907$</td>\n",
       "    </tr>\n",
       "    <tr>\n",
       "      <th>4</th>\n",
       "      <td>Kerberos</td>\n",
       "      <td>None</td>\n",
       "      <td>Domain001</td>\n",
       "      <td>4624</td>\n",
       "      <td>None</td>\n",
       "      <td>ActiveDirectory</td>\n",
       "      <td>0xf014029</td>\n",
       "      <td>3.0</td>\n",
       "      <td>Network</td>\n",
       "      <td>None</td>\n",
       "      <td>...</td>\n",
       "      <td>None</td>\n",
       "      <td>None</td>\n",
       "      <td>None</td>\n",
       "      <td>Comp230907</td>\n",
       "      <td>None</td>\n",
       "      <td>None</td>\n",
       "      <td>None</td>\n",
       "      <td>None</td>\n",
       "      <td>7689600</td>\n",
       "      <td>Comp230907$</td>\n",
       "    </tr>\n",
       "  </tbody>\n",
       "</table>\n",
       "<p>5 rows × 21 columns</p>\n",
       "</div>"
      ],
      "text/plain": [
       "  AuthenticationPackage Destination DomainName  EventID FailureReason  \\\n",
       "0                  None        None  Domain001     4688          None   \n",
       "1                  None        None  Domain001     4688          None   \n",
       "2                  None        None  Domain001     4688          None   \n",
       "3                  None        None  Domain001     4769          None   \n",
       "4              Kerberos        None  Domain001     4624          None   \n",
       "\n",
       "           LogHost    LogonID  LogonType LogonTypeDescription ParentProcessID  \\\n",
       "0       Comp883506      0x3e7        NaN                 None          0x4db8   \n",
       "1       Comp154941      0x3e7        NaN                 None          0x3b60   \n",
       "2       Comp055724      0x3e7        NaN                 None           0x3c8   \n",
       "3  ActiveDirectory       None        NaN                 None            None   \n",
       "4  ActiveDirectory  0xf014029        3.0              Network            None   \n",
       "\n",
       "      ...      ProcessID     ProcessName       ServiceName      Source Status  \\\n",
       "0     ...         0x4140      wermgr.exe              None        None   None   \n",
       "1     ...         0x36c4  Proc857443.exe              None        None   None   \n",
       "2     ...          0xbfc     taskeng.exe              None        None   None   \n",
       "3     ...           None            None  ActiveDirectory$  Comp230907    0x0   \n",
       "4     ...           None            None              None  Comp230907   None   \n",
       "\n",
       "  SubjectDomainName SubjectLogonID SubjectUserName     Time     UserName  \n",
       "0              None           None            None  7689600  Comp883506$  \n",
       "1              None           None            None  7689600  Comp154941$  \n",
       "2              None           None            None  7689600  Comp055724$  \n",
       "3              None           None            None  7689600  Comp230907$  \n",
       "4              None           None            None  7689600  Comp230907$  \n",
       "\n",
       "[5 rows x 21 columns]"
      ]
     },
     "execution_count": 6,
     "metadata": {},
     "output_type": "execute_result"
    }
   ],
   "source": [
    "dfhost.head()"
   ]
  },
  {
   "cell_type": "code",
   "execution_count": 7,
   "metadata": {
    "collapsed": true
   },
   "outputs": [
    {
     "data": {
      "text/html": [
       "<div>\n",
       "<style scoped>\n",
       "    .dataframe tbody tr th:only-of-type {\n",
       "        vertical-align: middle;\n",
       "    }\n",
       "\n",
       "    .dataframe tbody tr th {\n",
       "        vertical-align: top;\n",
       "    }\n",
       "\n",
       "    .dataframe thead th {\n",
       "        text-align: right;\n",
       "    }\n",
       "</style>\n",
       "<table border=\"1\" class=\"dataframe\">\n",
       "  <thead>\n",
       "    <tr style=\"text-align: right;\">\n",
       "      <th></th>\n",
       "      <th>Time</th>\n",
       "      <th>Duration</th>\n",
       "      <th>SrcDevice</th>\n",
       "      <th>DstDevice</th>\n",
       "      <th>Protocol</th>\n",
       "      <th>SrcPort</th>\n",
       "      <th>DstPort</th>\n",
       "      <th>SrcPackets</th>\n",
       "      <th>DstPackets</th>\n",
       "      <th>SrcBytes</th>\n",
       "      <th>DstBytes</th>\n",
       "    </tr>\n",
       "  </thead>\n",
       "  <tbody>\n",
       "    <tr>\n",
       "      <th>0</th>\n",
       "      <td>7689600</td>\n",
       "      <td>0</td>\n",
       "      <td>Comp580697</td>\n",
       "      <td>Comp275646</td>\n",
       "      <td>17</td>\n",
       "      <td>Port08290</td>\n",
       "      <td>53</td>\n",
       "      <td>1</td>\n",
       "      <td>0</td>\n",
       "      <td>75</td>\n",
       "      <td>0</td>\n",
       "    </tr>\n",
       "    <tr>\n",
       "      <th>1</th>\n",
       "      <td>7689600</td>\n",
       "      <td>0</td>\n",
       "      <td>Comp580697</td>\n",
       "      <td>Comp275646</td>\n",
       "      <td>17</td>\n",
       "      <td>Port81132</td>\n",
       "      <td>53</td>\n",
       "      <td>1</td>\n",
       "      <td>0</td>\n",
       "      <td>75</td>\n",
       "      <td>0</td>\n",
       "    </tr>\n",
       "    <tr>\n",
       "      <th>2</th>\n",
       "      <td>7689600</td>\n",
       "      <td>0</td>\n",
       "      <td>Comp580697</td>\n",
       "      <td>Comp275646</td>\n",
       "      <td>17</td>\n",
       "      <td>Port21353</td>\n",
       "      <td>53</td>\n",
       "      <td>1</td>\n",
       "      <td>0</td>\n",
       "      <td>75</td>\n",
       "      <td>0</td>\n",
       "    </tr>\n",
       "    <tr>\n",
       "      <th>3</th>\n",
       "      <td>7689600</td>\n",
       "      <td>0</td>\n",
       "      <td>Comp258829</td>\n",
       "      <td>Comp388094</td>\n",
       "      <td>6</td>\n",
       "      <td>Port81881</td>\n",
       "      <td>Port75515</td>\n",
       "      <td>0</td>\n",
       "      <td>3</td>\n",
       "      <td>0</td>\n",
       "      <td>144</td>\n",
       "    </tr>\n",
       "    <tr>\n",
       "      <th>4</th>\n",
       "      <td>7689600</td>\n",
       "      <td>0</td>\n",
       "      <td>Comp819564</td>\n",
       "      <td>Comp576031</td>\n",
       "      <td>17</td>\n",
       "      <td>Port10711</td>\n",
       "      <td>514</td>\n",
       "      <td>1</td>\n",
       "      <td>0</td>\n",
       "      <td>245</td>\n",
       "      <td>0</td>\n",
       "    </tr>\n",
       "  </tbody>\n",
       "</table>\n",
       "</div>"
      ],
      "text/plain": [
       "      Time  Duration   SrcDevice   DstDevice  Protocol    SrcPort    DstPort  \\\n",
       "0  7689600         0  Comp580697  Comp275646        17  Port08290         53   \n",
       "1  7689600         0  Comp580697  Comp275646        17  Port81132         53   \n",
       "2  7689600         0  Comp580697  Comp275646        17  Port21353         53   \n",
       "3  7689600         0  Comp258829  Comp388094         6  Port81881  Port75515   \n",
       "4  7689600         0  Comp819564  Comp576031        17  Port10711        514   \n",
       "\n",
       "   SrcPackets  DstPackets  SrcBytes  DstBytes  \n",
       "0           1           0        75         0  \n",
       "1           1           0        75         0  \n",
       "2           1           0        75         0  \n",
       "3           0           3         0       144  \n",
       "4           1           0       245         0  "
      ]
     },
     "execution_count": 7,
     "metadata": {},
     "output_type": "execute_result"
    }
   ],
   "source": [
    "dfnet.head()"
   ]
  },
  {
   "cell_type": "code",
   "execution_count": 8,
   "metadata": {},
   "outputs": [
    {
     "data": {
      "text/plain": [
       "AuthenticationPackage     object\n",
       "Destination               object\n",
       "DomainName                object\n",
       "EventID                    int64\n",
       "FailureReason             object\n",
       "LogHost                   object\n",
       "LogonID                   object\n",
       "LogonType                float64\n",
       "LogonTypeDescription      object\n",
       "ParentProcessID           object\n",
       "ParentProcessName         object\n",
       "ProcessID                 object\n",
       "ProcessName               object\n",
       "ServiceName               object\n",
       "Source                    object\n",
       "Status                    object\n",
       "SubjectDomainName         object\n",
       "SubjectLogonID            object\n",
       "SubjectUserName           object\n",
       "Time                       int64\n",
       "UserName                  object\n",
       "dtype: object"
      ]
     },
     "execution_count": 8,
     "metadata": {},
     "output_type": "execute_result"
    }
   ],
   "source": [
    "dfhost.dtypes"
   ]
  },
  {
   "cell_type": "code",
   "execution_count": 9,
   "metadata": {},
   "outputs": [
    {
     "data": {
      "text/plain": [
       "Time           int64\n",
       "Duration       int64\n",
       "SrcDevice     object\n",
       "DstDevice     object\n",
       "Protocol       int64\n",
       "SrcPort       object\n",
       "DstPort       object\n",
       "SrcPackets     int64\n",
       "DstPackets     int64\n",
       "SrcBytes       int64\n",
       "DstBytes       int64\n",
       "dtype: object"
      ]
     },
     "execution_count": 9,
     "metadata": {},
     "output_type": "execute_result"
    }
   ],
   "source": [
    "dfnet.dtypes"
   ]
  },
  {
   "cell_type": "markdown",
   "metadata": {},
   "source": [
    "---\n",
    "\n",
    "Use the `.info()` function  to see how many rows and data types you got. This will also tell you how many rows of each column have content\n",
    "\n",
    "Describe what you see"
   ]
  },
  {
   "cell_type": "code",
   "execution_count": 10,
   "metadata": {
    "collapsed": false
   },
   "outputs": [
    {
     "name": "stdout",
     "output_type": "stream",
     "text": [
      "<class 'pandas.core.frame.DataFrame'>\n",
      "Int64Index: 217000 entries, 0 to 216999\n",
      "Data columns (total 21 columns):\n",
      "AuthenticationPackage    66791 non-null object\n",
      "Destination              6478 non-null object\n",
      "DomainName               217000 non-null object\n",
      "EventID                  217000 non-null int64\n",
      "FailureReason            608 non-null object\n",
      "LogHost                  217000 non-null object\n",
      "LogonID                  191599 non-null object\n",
      "LogonType                103788 non-null float64\n",
      "LogonTypeDescription     103788 non-null object\n",
      "ParentProcessID          64386 non-null object\n",
      "ParentProcessName        64386 non-null object\n",
      "ProcessID                75216 non-null object\n",
      "ProcessName              75216 non-null object\n",
      "ServiceName              7644 non-null object\n",
      "Source                   66966 non-null object\n",
      "Status                   25090 non-null object\n",
      "SubjectDomainName        6333 non-null object\n",
      "SubjectLogonID           6481 non-null object\n",
      "SubjectUserName          6333 non-null object\n",
      "Time                     217000 non-null int64\n",
      "UserName                 217000 non-null object\n",
      "dtypes: float64(1), int64(2), object(18)\n",
      "memory usage: 36.4+ MB\n"
     ]
    }
   ],
   "source": [
    "dfhost.info()"
   ]
  },
  {
   "cell_type": "code",
   "execution_count": 11,
   "metadata": {},
   "outputs": [
    {
     "name": "stdout",
     "output_type": "stream",
     "text": [
      "<class 'pandas.core.frame.DataFrame'>\n",
      "Int64Index: 680000 entries, 0 to 679999\n",
      "Data columns (total 11 columns):\n",
      "Time          680000 non-null int64\n",
      "Duration      680000 non-null int64\n",
      "SrcDevice     680000 non-null object\n",
      "DstDevice     680000 non-null object\n",
      "Protocol      680000 non-null int64\n",
      "SrcPort       680000 non-null object\n",
      "DstPort       680000 non-null object\n",
      "SrcPackets    680000 non-null int64\n",
      "DstPackets    680000 non-null int64\n",
      "SrcBytes      680000 non-null int64\n",
      "DstBytes      680000 non-null int64\n",
      "dtypes: int64(7), object(4)\n",
      "memory usage: 62.3+ MB\n"
     ]
    }
   ],
   "source": [
    "dfnet.info()"
   ]
  },
  {
   "cell_type": "code",
   "execution_count": 12,
   "metadata": {
    "collapsed": false
   },
   "outputs": [
    {
     "data": {
      "text/html": [
       "<div>\n",
       "<style scoped>\n",
       "    .dataframe tbody tr th:only-of-type {\n",
       "        vertical-align: middle;\n",
       "    }\n",
       "\n",
       "    .dataframe tbody tr th {\n",
       "        vertical-align: top;\n",
       "    }\n",
       "\n",
       "    .dataframe thead th {\n",
       "        text-align: right;\n",
       "    }\n",
       "</style>\n",
       "<table border=\"1\" class=\"dataframe\">\n",
       "  <thead>\n",
       "    <tr style=\"text-align: right;\">\n",
       "      <th></th>\n",
       "      <th>EventID</th>\n",
       "      <th>LogonType</th>\n",
       "      <th>Time</th>\n",
       "    </tr>\n",
       "  </thead>\n",
       "  <tbody>\n",
       "    <tr>\n",
       "      <th>count</th>\n",
       "      <td>217000.000000</td>\n",
       "      <td>103788.000000</td>\n",
       "      <td>2.170000e+05</td>\n",
       "    </tr>\n",
       "    <tr>\n",
       "      <th>mean</th>\n",
       "      <td>4667.053221</td>\n",
       "      <td>3.011022</td>\n",
       "      <td>7.689781e+06</td>\n",
       "    </tr>\n",
       "    <tr>\n",
       "      <th>std</th>\n",
       "      <td>46.297830</td>\n",
       "      <td>0.444144</td>\n",
       "      <td>1.123760e+02</td>\n",
       "    </tr>\n",
       "    <tr>\n",
       "      <th>min</th>\n",
       "      <td>4624.000000</td>\n",
       "      <td>2.000000</td>\n",
       "      <td>7.689600e+06</td>\n",
       "    </tr>\n",
       "    <tr>\n",
       "      <th>25%</th>\n",
       "      <td>4634.000000</td>\n",
       "      <td>3.000000</td>\n",
       "      <td>7.689679e+06</td>\n",
       "    </tr>\n",
       "    <tr>\n",
       "      <th>50%</th>\n",
       "      <td>4648.000000</td>\n",
       "      <td>3.000000</td>\n",
       "      <td>7.689784e+06</td>\n",
       "    </tr>\n",
       "    <tr>\n",
       "      <th>75%</th>\n",
       "      <td>4688.000000</td>\n",
       "      <td>3.000000</td>\n",
       "      <td>7.689882e+06</td>\n",
       "    </tr>\n",
       "    <tr>\n",
       "      <th>max</th>\n",
       "      <td>4803.000000</td>\n",
       "      <td>9.000000</td>\n",
       "      <td>7.689968e+06</td>\n",
       "    </tr>\n",
       "  </tbody>\n",
       "</table>\n",
       "</div>"
      ],
      "text/plain": [
       "             EventID      LogonType          Time\n",
       "count  217000.000000  103788.000000  2.170000e+05\n",
       "mean     4667.053221       3.011022  7.689781e+06\n",
       "std        46.297830       0.444144  1.123760e+02\n",
       "min      4624.000000       2.000000  7.689600e+06\n",
       "25%      4634.000000       3.000000  7.689679e+06\n",
       "50%      4648.000000       3.000000  7.689784e+06\n",
       "75%      4688.000000       3.000000  7.689882e+06\n",
       "max      4803.000000       9.000000  7.689968e+06"
      ]
     },
     "execution_count": 12,
     "metadata": {},
     "output_type": "execute_result"
    }
   ],
   "source": [
    "dfhost.describe(include=np.number)"
   ]
  },
  {
   "cell_type": "code",
   "execution_count": 13,
   "metadata": {},
   "outputs": [
    {
     "data": {
      "text/html": [
       "<div>\n",
       "<style scoped>\n",
       "    .dataframe tbody tr th:only-of-type {\n",
       "        vertical-align: middle;\n",
       "    }\n",
       "\n",
       "    .dataframe tbody tr th {\n",
       "        vertical-align: top;\n",
       "    }\n",
       "\n",
       "    .dataframe thead th {\n",
       "        text-align: right;\n",
       "    }\n",
       "</style>\n",
       "<table border=\"1\" class=\"dataframe\">\n",
       "  <thead>\n",
       "    <tr style=\"text-align: right;\">\n",
       "      <th></th>\n",
       "      <th>AuthenticationPackage</th>\n",
       "      <th>Destination</th>\n",
       "      <th>DomainName</th>\n",
       "      <th>FailureReason</th>\n",
       "      <th>LogHost</th>\n",
       "      <th>LogonID</th>\n",
       "      <th>LogonTypeDescription</th>\n",
       "      <th>ParentProcessID</th>\n",
       "      <th>ParentProcessName</th>\n",
       "      <th>ProcessID</th>\n",
       "      <th>ProcessName</th>\n",
       "      <th>ServiceName</th>\n",
       "      <th>Source</th>\n",
       "      <th>Status</th>\n",
       "      <th>SubjectDomainName</th>\n",
       "      <th>SubjectLogonID</th>\n",
       "      <th>SubjectUserName</th>\n",
       "      <th>UserName</th>\n",
       "    </tr>\n",
       "  </thead>\n",
       "  <tbody>\n",
       "    <tr>\n",
       "      <th>count</th>\n",
       "      <td>66791</td>\n",
       "      <td>6478</td>\n",
       "      <td>217000</td>\n",
       "      <td>608</td>\n",
       "      <td>217000</td>\n",
       "      <td>191599</td>\n",
       "      <td>103788</td>\n",
       "      <td>64386</td>\n",
       "      <td>64386</td>\n",
       "      <td>75216</td>\n",
       "      <td>75216</td>\n",
       "      <td>7644</td>\n",
       "      <td>66966</td>\n",
       "      <td>25090</td>\n",
       "      <td>6333</td>\n",
       "      <td>6481</td>\n",
       "      <td>6333</td>\n",
       "      <td>217000</td>\n",
       "    </tr>\n",
       "    <tr>\n",
       "      <th>unique</th>\n",
       "      <td>4</td>\n",
       "      <td>97</td>\n",
       "      <td>32</td>\n",
       "      <td>4</td>\n",
       "      <td>7511</td>\n",
       "      <td>59805</td>\n",
       "      <td>7</td>\n",
       "      <td>5040</td>\n",
       "      <td>182</td>\n",
       "      <td>7916</td>\n",
       "      <td>381</td>\n",
       "      <td>512</td>\n",
       "      <td>5466</td>\n",
       "      <td>6</td>\n",
       "      <td>10</td>\n",
       "      <td>121</td>\n",
       "      <td>223</td>\n",
       "      <td>10452</td>\n",
       "    </tr>\n",
       "    <tr>\n",
       "      <th>top</th>\n",
       "      <td>Kerberos</td>\n",
       "      <td>Comp457365</td>\n",
       "      <td>Domain001</td>\n",
       "      <td>An Error occured during Logon.</td>\n",
       "      <td>ActiveDirectory</td>\n",
       "      <td>0x3e7</td>\n",
       "      <td>Network</td>\n",
       "      <td>0x12f4</td>\n",
       "      <td>svchost</td>\n",
       "      <td>0x2860</td>\n",
       "      <td>cmd.exe</td>\n",
       "      <td>Comp916004$</td>\n",
       "      <td>Comp916004</td>\n",
       "      <td>0x0</td>\n",
       "      <td>Domain001</td>\n",
       "      <td>0x3e7</td>\n",
       "      <td>Administrator</td>\n",
       "      <td>AppService</td>\n",
       "    </tr>\n",
       "    <tr>\n",
       "      <th>freq</th>\n",
       "      <td>38898</td>\n",
       "      <td>3297</td>\n",
       "      <td>208661</td>\n",
       "      <td>266</td>\n",
       "      <td>78863</td>\n",
       "      <td>61607</td>\n",
       "      <td>98856</td>\n",
       "      <td>2062</td>\n",
       "      <td>19221</td>\n",
       "      <td>3234</td>\n",
       "      <td>9239</td>\n",
       "      <td>2190</td>\n",
       "      <td>10386</td>\n",
       "      <td>24413</td>\n",
       "      <td>6094</td>\n",
       "      <td>2580</td>\n",
       "      <td>2480</td>\n",
       "      <td>34603</td>\n",
       "    </tr>\n",
       "  </tbody>\n",
       "</table>\n",
       "</div>"
      ],
      "text/plain": [
       "       AuthenticationPackage Destination DomainName  \\\n",
       "count                  66791        6478     217000   \n",
       "unique                     4          97         32   \n",
       "top                 Kerberos  Comp457365  Domain001   \n",
       "freq                   38898        3297     208661   \n",
       "\n",
       "                         FailureReason          LogHost LogonID  \\\n",
       "count                              608           217000  191599   \n",
       "unique                               4             7511   59805   \n",
       "top     An Error occured during Logon.  ActiveDirectory   0x3e7   \n",
       "freq                               266            78863   61607   \n",
       "\n",
       "       LogonTypeDescription ParentProcessID ParentProcessName ProcessID  \\\n",
       "count                103788           64386             64386     75216   \n",
       "unique                    7            5040               182      7916   \n",
       "top                 Network          0x12f4           svchost    0x2860   \n",
       "freq                  98856            2062             19221      3234   \n",
       "\n",
       "       ProcessName  ServiceName      Source Status SubjectDomainName  \\\n",
       "count        75216         7644       66966  25090              6333   \n",
       "unique         381          512        5466      6                10   \n",
       "top        cmd.exe  Comp916004$  Comp916004    0x0         Domain001   \n",
       "freq          9239         2190       10386  24413              6094   \n",
       "\n",
       "       SubjectLogonID SubjectUserName    UserName  \n",
       "count            6481            6333      217000  \n",
       "unique            121             223       10452  \n",
       "top             0x3e7   Administrator  AppService  \n",
       "freq             2580            2480       34603  "
      ]
     },
     "execution_count": 13,
     "metadata": {},
     "output_type": "execute_result"
    }
   ],
   "source": [
    "dfhost.describe(include=object)"
   ]
  },
  {
   "cell_type": "code",
   "execution_count": 14,
   "metadata": {},
   "outputs": [
    {
     "data": {
      "text/html": [
       "<div>\n",
       "<style scoped>\n",
       "    .dataframe tbody tr th:only-of-type {\n",
       "        vertical-align: middle;\n",
       "    }\n",
       "\n",
       "    .dataframe tbody tr th {\n",
       "        vertical-align: top;\n",
       "    }\n",
       "\n",
       "    .dataframe thead th {\n",
       "        text-align: right;\n",
       "    }\n",
       "</style>\n",
       "<table border=\"1\" class=\"dataframe\">\n",
       "  <thead>\n",
       "    <tr style=\"text-align: right;\">\n",
       "      <th></th>\n",
       "      <th>Time</th>\n",
       "      <th>Duration</th>\n",
       "      <th>Protocol</th>\n",
       "      <th>SrcPackets</th>\n",
       "      <th>DstPackets</th>\n",
       "      <th>SrcBytes</th>\n",
       "      <th>DstBytes</th>\n",
       "    </tr>\n",
       "  </thead>\n",
       "  <tbody>\n",
       "    <tr>\n",
       "      <th>count</th>\n",
       "      <td>6.800000e+05</td>\n",
       "      <td>680000.000000</td>\n",
       "      <td>680000.000000</td>\n",
       "      <td>6.800000e+05</td>\n",
       "      <td>6.800000e+05</td>\n",
       "      <td>6.800000e+05</td>\n",
       "      <td>6.800000e+05</td>\n",
       "    </tr>\n",
       "    <tr>\n",
       "      <th>mean</th>\n",
       "      <td>7.689771e+06</td>\n",
       "      <td>286.727428</td>\n",
       "      <td>9.391049</td>\n",
       "      <td>1.892920e+02</td>\n",
       "      <td>2.647250e+02</td>\n",
       "      <td>3.424752e+04</td>\n",
       "      <td>1.901783e+05</td>\n",
       "    </tr>\n",
       "    <tr>\n",
       "      <th>std</th>\n",
       "      <td>1.101649e+02</td>\n",
       "      <td>2911.013155</td>\n",
       "      <td>5.081883</td>\n",
       "      <td>4.170094e+04</td>\n",
       "      <td>7.691827e+04</td>\n",
       "      <td>5.917214e+06</td>\n",
       "      <td>5.497951e+07</td>\n",
       "    </tr>\n",
       "    <tr>\n",
       "      <th>min</th>\n",
       "      <td>7.689600e+06</td>\n",
       "      <td>0.000000</td>\n",
       "      <td>1.000000</td>\n",
       "      <td>0.000000e+00</td>\n",
       "      <td>0.000000e+00</td>\n",
       "      <td>0.000000e+00</td>\n",
       "      <td>0.000000e+00</td>\n",
       "    </tr>\n",
       "    <tr>\n",
       "      <th>25%</th>\n",
       "      <td>7.689672e+06</td>\n",
       "      <td>0.000000</td>\n",
       "      <td>6.000000</td>\n",
       "      <td>1.000000e+00</td>\n",
       "      <td>0.000000e+00</td>\n",
       "      <td>7.400000e+01</td>\n",
       "      <td>0.000000e+00</td>\n",
       "    </tr>\n",
       "    <tr>\n",
       "      <th>50%</th>\n",
       "      <td>7.689761e+06</td>\n",
       "      <td>1.000000</td>\n",
       "      <td>6.000000</td>\n",
       "      <td>4.000000e+00</td>\n",
       "      <td>1.000000e+00</td>\n",
       "      <td>2.810000e+02</td>\n",
       "      <td>6.000000e+01</td>\n",
       "    </tr>\n",
       "    <tr>\n",
       "      <th>75%</th>\n",
       "      <td>7.689869e+06</td>\n",
       "      <td>6.000000</td>\n",
       "      <td>17.000000</td>\n",
       "      <td>6.000000e+00</td>\n",
       "      <td>5.000000e+00</td>\n",
       "      <td>1.082000e+03</td>\n",
       "      <td>7.720000e+02</td>\n",
       "    </tr>\n",
       "    <tr>\n",
       "      <th>max</th>\n",
       "      <td>7.689971e+06</td>\n",
       "      <td>85892.000000</td>\n",
       "      <td>17.000000</td>\n",
       "      <td>1.709551e+07</td>\n",
       "      <td>3.618671e+07</td>\n",
       "      <td>2.579655e+09</td>\n",
       "      <td>2.766917e+10</td>\n",
       "    </tr>\n",
       "  </tbody>\n",
       "</table>\n",
       "</div>"
      ],
      "text/plain": [
       "               Time       Duration       Protocol    SrcPackets    DstPackets  \\\n",
       "count  6.800000e+05  680000.000000  680000.000000  6.800000e+05  6.800000e+05   \n",
       "mean   7.689771e+06     286.727428       9.391049  1.892920e+02  2.647250e+02   \n",
       "std    1.101649e+02    2911.013155       5.081883  4.170094e+04  7.691827e+04   \n",
       "min    7.689600e+06       0.000000       1.000000  0.000000e+00  0.000000e+00   \n",
       "25%    7.689672e+06       0.000000       6.000000  1.000000e+00  0.000000e+00   \n",
       "50%    7.689761e+06       1.000000       6.000000  4.000000e+00  1.000000e+00   \n",
       "75%    7.689869e+06       6.000000      17.000000  6.000000e+00  5.000000e+00   \n",
       "max    7.689971e+06   85892.000000      17.000000  1.709551e+07  3.618671e+07   \n",
       "\n",
       "           SrcBytes      DstBytes  \n",
       "count  6.800000e+05  6.800000e+05  \n",
       "mean   3.424752e+04  1.901783e+05  \n",
       "std    5.917214e+06  5.497951e+07  \n",
       "min    0.000000e+00  0.000000e+00  \n",
       "25%    7.400000e+01  0.000000e+00  \n",
       "50%    2.810000e+02  6.000000e+01  \n",
       "75%    1.082000e+03  7.720000e+02  \n",
       "max    2.579655e+09  2.766917e+10  "
      ]
     },
     "execution_count": 14,
     "metadata": {},
     "output_type": "execute_result"
    }
   ],
   "source": [
    "dfnet.describe(include=np.number)"
   ]
  },
  {
   "cell_type": "code",
   "execution_count": 15,
   "metadata": {},
   "outputs": [
    {
     "data": {
      "text/html": [
       "<div>\n",
       "<style scoped>\n",
       "    .dataframe tbody tr th:only-of-type {\n",
       "        vertical-align: middle;\n",
       "    }\n",
       "\n",
       "    .dataframe tbody tr th {\n",
       "        vertical-align: top;\n",
       "    }\n",
       "\n",
       "    .dataframe thead th {\n",
       "        text-align: right;\n",
       "    }\n",
       "</style>\n",
       "<table border=\"1\" class=\"dataframe\">\n",
       "  <thead>\n",
       "    <tr style=\"text-align: right;\">\n",
       "      <th></th>\n",
       "      <th>SrcDevice</th>\n",
       "      <th>DstDevice</th>\n",
       "      <th>SrcPort</th>\n",
       "      <th>DstPort</th>\n",
       "    </tr>\n",
       "  </thead>\n",
       "  <tbody>\n",
       "    <tr>\n",
       "      <th>count</th>\n",
       "      <td>680000</td>\n",
       "      <td>680000</td>\n",
       "      <td>680000</td>\n",
       "      <td>680000</td>\n",
       "    </tr>\n",
       "    <tr>\n",
       "      <th>unique</th>\n",
       "      <td>11692</td>\n",
       "      <td>6911</td>\n",
       "      <td>63359</td>\n",
       "      <td>10513</td>\n",
       "    </tr>\n",
       "    <tr>\n",
       "      <th>top</th>\n",
       "      <td>Comp030334</td>\n",
       "      <td>Comp275646</td>\n",
       "      <td>Port13777</td>\n",
       "      <td>80</td>\n",
       "    </tr>\n",
       "    <tr>\n",
       "      <th>freq</th>\n",
       "      <td>52527</td>\n",
       "      <td>97682</td>\n",
       "      <td>2836</td>\n",
       "      <td>106734</td>\n",
       "    </tr>\n",
       "  </tbody>\n",
       "</table>\n",
       "</div>"
      ],
      "text/plain": [
       "         SrcDevice   DstDevice    SrcPort DstPort\n",
       "count       680000      680000     680000  680000\n",
       "unique       11692        6911      63359   10513\n",
       "top     Comp030334  Comp275646  Port13777      80\n",
       "freq         52527       97682       2836  106734"
      ]
     },
     "execution_count": 15,
     "metadata": {},
     "output_type": "execute_result"
    }
   ],
   "source": [
    "dfnet.describe(include=object)"
   ]
  },
  {
   "cell_type": "markdown",
   "metadata": {},
   "source": [
    "<a id='drop'></a>\n",
    "\n",
    "### 2. Drop unwanted columns\n",
    "\n",
    "---\n",
    "You may want to focus on selected columns as your input features. You can drop those unwanted columns.\n",
    "\n",
    "The `.drop()` built-in function can be used to get rid of a column. When removing a column, we need to specify `axis=1` to the function.\n",
    "\n",
    "For the record, the `.index` attribute holds the row indices. This is the the sister attribute to the `.columns` attribute that we work with more often.\n",
    "\n"
   ]
  },
  {
   "cell_type": "code",
   "execution_count": 59,
   "metadata": {},
   "outputs": [
    {
     "data": {
      "text/html": [
       "<div>\n",
       "<style scoped>\n",
       "    .dataframe tbody tr th:only-of-type {\n",
       "        vertical-align: middle;\n",
       "    }\n",
       "\n",
       "    .dataframe tbody tr th {\n",
       "        vertical-align: top;\n",
       "    }\n",
       "\n",
       "    .dataframe thead th {\n",
       "        text-align: right;\n",
       "    }\n",
       "</style>\n",
       "<table border=\"1\" class=\"dataframe\">\n",
       "  <thead>\n",
       "    <tr style=\"text-align: right;\">\n",
       "      <th></th>\n",
       "      <th>LogonType</th>\n",
       "      <th>LogonTypeDescription</th>\n",
       "    </tr>\n",
       "  </thead>\n",
       "  <tbody>\n",
       "    <tr>\n",
       "      <th>105</th>\n",
       "      <td>2.0</td>\n",
       "      <td>Interactive</td>\n",
       "    </tr>\n",
       "    <tr>\n",
       "      <th>4</th>\n",
       "      <td>3.0</td>\n",
       "      <td>Network</td>\n",
       "    </tr>\n",
       "    <tr>\n",
       "      <th>72</th>\n",
       "      <td>4.0</td>\n",
       "      <td>Batch</td>\n",
       "    </tr>\n",
       "    <tr>\n",
       "      <th>43</th>\n",
       "      <td>5.0</td>\n",
       "      <td>Service</td>\n",
       "    </tr>\n",
       "    <tr>\n",
       "      <th>163008</th>\n",
       "      <td>7.0</td>\n",
       "      <td>Unlock</td>\n",
       "    </tr>\n",
       "    <tr>\n",
       "      <th>1049</th>\n",
       "      <td>8.0</td>\n",
       "      <td>NetworkClearText</td>\n",
       "    </tr>\n",
       "    <tr>\n",
       "      <th>57793</th>\n",
       "      <td>9.0</td>\n",
       "      <td>NewCredentials</td>\n",
       "    </tr>\n",
       "  </tbody>\n",
       "</table>\n",
       "</div>"
      ],
      "text/plain": [
       "        LogonType LogonTypeDescription\n",
       "105           2.0          Interactive\n",
       "4             3.0              Network\n",
       "72            4.0                Batch\n",
       "43            5.0              Service\n",
       "163008        7.0               Unlock\n",
       "1049          8.0     NetworkClearText\n",
       "57793         9.0       NewCredentials"
      ]
     },
     "execution_count": 59,
     "metadata": {},
     "output_type": "execute_result"
    }
   ],
   "source": [
    "# I was very curious to see the relationships between the LogonTypes and the\n",
    "#     LogonTypeDescription, so I filtered the dflogons DataFrame to:\n",
    "#     * drop duplicates\n",
    "#     * drop Null values\n",
    "#     * and then to sort by the LogonType\n",
    "\n",
    "dflogons = dfhost[['LogonType', 'LogonTypeDescription']]\n",
    "dflogons.drop_duplicates().dropna().sort_values(by='LogonType')"
   ]
  },
  {
   "cell_type": "code",
   "execution_count": 60,
   "metadata": {},
   "outputs": [
    {
     "data": {
      "text/plain": [
       "Network             98856\n",
       "Interactive          3385\n",
       "Service               783\n",
       "NetworkClearText      535\n",
       "Batch                 214\n",
       "Unlock                  8\n",
       "NewCredentials          7\n",
       "Name: LogonTypeDescription, dtype: int64"
      ]
     },
     "execution_count": 60,
     "metadata": {},
     "output_type": "execute_result"
    }
   ],
   "source": [
    "# This led me to explore the frequency of each Logon Type:\n",
    "\n",
    "dfhost.LogonTypeDescription.value_counts()"
   ]
  },
  {
   "cell_type": "code",
   "execution_count": 61,
   "metadata": {},
   "outputs": [
    {
     "data": {
      "text/plain": [
       "An Error occured during Logon.                                             266\n",
       "Unknown user name or bad password.                                         235\n",
       "The user has not been granted the requested logon type at this machine.    103\n",
       "Account currently disabled.                                                  4\n",
       "Name: FailureReason, dtype: int64"
      ]
     },
     "execution_count": 61,
     "metadata": {},
     "output_type": "execute_result"
    }
   ],
   "source": [
    "# During the initial evaluation of the columns, I noted that there were \n",
    "#     reasons associated with failed logons.\n",
    "# I wanted to see what types of reasons were recorded:\n",
    "\n",
    "dfhost.FailureReason.value_counts()"
   ]
  },
  {
   "cell_type": "code",
   "execution_count": 69,
   "metadata": {},
   "outputs": [
    {
     "data": {
      "text/plain": [
       "Comp032135                 72\n",
       "Comp125736                329\n",
       "Comp146253                  1\n",
       "Comp307946                  8\n",
       "Comp308413                 17\n",
       "Comp349403                  2\n",
       "Comp350644                  8\n",
       "Comp399620                  3\n",
       "Comp455286                  3\n",
       "Comp567356                  1\n",
       "Comp585184                  8\n",
       "Comp586392                  1\n",
       "Comp601512                  4\n",
       "Comp721756                  1\n",
       "Comp735514                  5\n",
       "Comp743141                  8\n",
       "Comp862246                  8\n",
       "Comp882724                  1\n",
       "Comp896931                  1\n",
       "Comp902403                  1\n",
       "Comp907587                 20\n",
       "Comp923957                 10\n",
       "Comp966901                  1\n",
       "Comp981237                  1\n",
       "Domain001              208661\n",
       "Domain002                1112\n",
       "Domain003                  10\n",
       "Domain005                  35\n",
       "EnterpriseAppServer      2838\n",
       "nt authority             3804\n",
       "nt service                 24\n",
       "workgroup                   2\n",
       "Name: DomainName, dtype: int64"
      ]
     },
     "execution_count": 69,
     "metadata": {},
     "output_type": "execute_result"
    }
   ],
   "source": [
    "# Similarly, I was curious how many domains the network was divided into:\n",
    "\n",
    "dfhost.DomainName.value_counts().sort_index()\n"
   ]
  },
  {
   "cell_type": "code",
   "execution_count": 75,
   "metadata": {},
   "outputs": [
    {
     "data": {
      "text/plain": [
       "Domain001    208661\n",
       "Domain002      1112\n",
       "Domain005        35\n",
       "Domain003        10\n",
       "Name: DomainName, dtype: int64"
      ]
     },
     "execution_count": 75,
     "metadata": {},
     "output_type": "execute_result"
    }
   ],
   "source": [
    "# Based on these results, I felt like I wanted to focus some further investigation \n",
    "# on the Domains with what appear to be \"official-sounding\" domain names: Domain001, Domain002\n",
    "\n",
    "dfdomains = dfhost[dfhost['DomainName'].str.contains('Domain')]\n",
    "dfdomains.DomainName.value_counts()"
   ]
  },
  {
   "cell_type": "code",
   "execution_count": 16,
   "metadata": {
    "collapsed": false
   },
   "outputs": [],
   "source": [
    "# Switching gears a bit... let's look at some of the data related to the Hosts.\n",
    "\n",
    "# To evaluate a possible relationship between the number of packets sent\n",
    "#     and the number of bytes sent, we will retain those solely those columns"
   ]
  },
  {
   "cell_type": "code",
   "execution_count": 17,
   "metadata": {
    "collapsed": true
   },
   "outputs": [
    {
     "data": {
      "text/html": [
       "<div>\n",
       "<style scoped>\n",
       "    .dataframe tbody tr th:only-of-type {\n",
       "        vertical-align: middle;\n",
       "    }\n",
       "\n",
       "    .dataframe tbody tr th {\n",
       "        vertical-align: top;\n",
       "    }\n",
       "\n",
       "    .dataframe thead th {\n",
       "        text-align: right;\n",
       "    }\n",
       "</style>\n",
       "<table border=\"1\" class=\"dataframe\">\n",
       "  <thead>\n",
       "    <tr style=\"text-align: right;\">\n",
       "      <th></th>\n",
       "      <th>Time</th>\n",
       "      <th>SrcDevice</th>\n",
       "      <th>DstDevice</th>\n",
       "      <th>SrcPackets</th>\n",
       "      <th>DstPackets</th>\n",
       "      <th>SrcBytes</th>\n",
       "      <th>DstBytes</th>\n",
       "    </tr>\n",
       "  </thead>\n",
       "  <tbody>\n",
       "    <tr>\n",
       "      <th>0</th>\n",
       "      <td>7689600</td>\n",
       "      <td>Comp580697</td>\n",
       "      <td>Comp275646</td>\n",
       "      <td>1</td>\n",
       "      <td>0</td>\n",
       "      <td>75</td>\n",
       "      <td>0</td>\n",
       "    </tr>\n",
       "    <tr>\n",
       "      <th>1</th>\n",
       "      <td>7689600</td>\n",
       "      <td>Comp580697</td>\n",
       "      <td>Comp275646</td>\n",
       "      <td>1</td>\n",
       "      <td>0</td>\n",
       "      <td>75</td>\n",
       "      <td>0</td>\n",
       "    </tr>\n",
       "    <tr>\n",
       "      <th>2</th>\n",
       "      <td>7689600</td>\n",
       "      <td>Comp580697</td>\n",
       "      <td>Comp275646</td>\n",
       "      <td>1</td>\n",
       "      <td>0</td>\n",
       "      <td>75</td>\n",
       "      <td>0</td>\n",
       "    </tr>\n",
       "    <tr>\n",
       "      <th>3</th>\n",
       "      <td>7689600</td>\n",
       "      <td>Comp258829</td>\n",
       "      <td>Comp388094</td>\n",
       "      <td>0</td>\n",
       "      <td>3</td>\n",
       "      <td>0</td>\n",
       "      <td>144</td>\n",
       "    </tr>\n",
       "    <tr>\n",
       "      <th>4</th>\n",
       "      <td>7689600</td>\n",
       "      <td>Comp819564</td>\n",
       "      <td>Comp576031</td>\n",
       "      <td>1</td>\n",
       "      <td>0</td>\n",
       "      <td>245</td>\n",
       "      <td>0</td>\n",
       "    </tr>\n",
       "  </tbody>\n",
       "</table>\n",
       "</div>"
      ],
      "text/plain": [
       "      Time   SrcDevice   DstDevice  SrcPackets  DstPackets  SrcBytes  DstBytes\n",
       "0  7689600  Comp580697  Comp275646           1           0        75         0\n",
       "1  7689600  Comp580697  Comp275646           1           0        75         0\n",
       "2  7689600  Comp580697  Comp275646           1           0        75         0\n",
       "3  7689600  Comp258829  Comp388094           0           3         0       144\n",
       "4  7689600  Comp819564  Comp576031           1           0       245         0"
      ]
     },
     "execution_count": 17,
     "metadata": {},
     "output_type": "execute_result"
    }
   ],
   "source": [
    "# Remove any unnecessary column(s):\n",
    "\n",
    "dfpnb = dfnet.drop(columns=['Duration', 'Protocol', 'SrcPort', 'DstPort'])\n",
    "\n",
    "dfpnb.head()"
   ]
  },
  {
   "cell_type": "markdown",
   "metadata": {},
   "source": [
    "### 3. Clean corrupted columns (if there is any)\n",
    "\n",
    "---\n",
    "\n",
    "Did you notice when you examined the `dtypes` attribute that some of the columns were of type \"object\", indicating that they were string. For some case, these columns should be numeric instead.\n",
    "\n",
    "It is pretty common to have numeric columns represented as strings in your data if some of the observations are corrupted. It is important to always check the data types of your columns."
   ]
  },
  {
   "cell_type": "code",
   "execution_count": 18,
   "metadata": {
    "collapsed": false
   },
   "outputs": [],
   "source": [
    "# The content in each of the columns was uniform and appears to be correctly categorized as\n",
    "#     strings/objects vs numbers.\n",
    "# No special cleaning was necessary for the dfnet DataFrame"
   ]
  },
  {
   "cell_type": "markdown",
   "metadata": {},
   "source": [
    "\n",
    "### 4. Determine how many observations are missing\n",
    "\n",
    "---\n",
    "\n",
    "When we start to build models with data, null values in observations are (almost) never allowed. It is important to always see how many observations are missing and for which columns.\n",
    "\n",
    "A handy way to look at how many null values there are per column with pandas is:\n",
    "\n",
    "```python\n",
    "boston.isnull().sum()\n",
    "```\n",
    "\n",
    "The `.isull()` built-in function will convert the columns to boolean `True` and `False` values (returning a new dataframe) where null values are indicated by `True`. \n",
    "\n",
    "The `.sum()` function tacked on to the back of that will then sum these boolean columns, and the total number of null values per column will be returned."
   ]
  },
  {
   "cell_type": "code",
   "execution_count": 81,
   "metadata": {},
   "outputs": [
    {
     "name": "stdout",
     "output_type": "stream",
     "text": [
      "209818\n"
     ]
    },
    {
     "data": {
      "text/plain": [
       "AuthenticationPackage    145692\n",
       "Destination              203647\n",
       "DomainName                    0\n",
       "EventID                       0\n",
       "FailureReason            209293\n",
       "LogHost                       0\n",
       "LogonID                   25319\n",
       "LogonType                110484\n",
       "LogonTypeDescription     110484\n",
       "ParentProcessID          146224\n",
       "ParentProcessName        146224\n",
       "ProcessID                136792\n",
       "ProcessName              136792\n",
       "ServiceName              202174\n",
       "Source                   144731\n",
       "Status                   184728\n",
       "SubjectDomainName        203795\n",
       "SubjectLogonID           203647\n",
       "SubjectUserName          203795\n",
       "Time                          0\n",
       "UserName                      0\n",
       "dtype: int64"
      ]
     },
     "execution_count": 81,
     "metadata": {},
     "output_type": "execute_result"
    }
   ],
   "source": [
    "# Exploring the dfdomain records that have null values:\n",
    "# I first wanted to confirm how many total records were in the dfdomains DataFrame:\n",
    "\n",
    "print(len(dfdomains))\n",
    "\n",
    "# Based on this, we can see which columns seem to have the most missing data:\n",
    "# Generally, what this tells me is that event records may vary widely:\n",
    "#     certain details may not be required OR available in some records\n",
    "\n",
    "# I am not sure yet, how I want to use this data, so I am going to leave it as is...\n",
    "\n",
    "dfdomains.isnull().sum()"
   ]
  },
  {
   "cell_type": "code",
   "execution_count": 19,
   "metadata": {
    "collapsed": false
   },
   "outputs": [
    {
     "data": {
      "text/plain": [
       "Time          0\n",
       "SrcDevice     0\n",
       "DstDevice     0\n",
       "SrcPackets    0\n",
       "DstPackets    0\n",
       "SrcBytes      0\n",
       "DstBytes      0\n",
       "dtype: int64"
      ]
     },
     "execution_count": 19,
     "metadata": {},
     "output_type": "execute_result"
    }
   ],
   "source": [
    "# By contrast, in looking at our packets and bytes DataFrame:\n",
    "#     There are no null values in the dfpnb DataFrame, these records \n",
    "#     are much more uniform, regular and consistent.\n",
    "\n",
    "dfpnb.isnull().sum()"
   ]
  },
  {
   "cell_type": "markdown",
   "metadata": {},
   "source": [
    "**Drop the null values.** \n",
    "\n",
    "In this case, lets keep it simple and just drop the rows from the dataset that contain null values. If a column has a ton of null values it often makes more sense to drop the column entirely instead of the rows with null values. In this case, we will just drop the rows.\n",
    "\n",
    "The `.dropna()` function will drop any rows that have _**ANY**_ null values for you.  Use this carefully as you could drop many more rows than expected.\n",
    "\n",
    "** Instead of dropping null values, you may want to impute them (replace with the mean(numeric type) or most frequently occured item(object type) **"
   ]
  },
  {
   "cell_type": "code",
   "execution_count": 20,
   "metadata": {
    "collapsed": false
   },
   "outputs": [],
   "source": [
    "# use df.shape to check the size before dropping anything"
   ]
  },
  {
   "cell_type": "code",
   "execution_count": 21,
   "metadata": {
    "collapsed": false
   },
   "outputs": [],
   "source": [
    "# Now drop the rows with null values\n",
    "# df.dropna(inplace=True)\n",
    "# check the new size after dropping by df.shape"
   ]
  },
  {
   "cell_type": "markdown",
   "metadata": {},
   "source": [
    "### 5. Make the column names more descriptive\n",
    "\n",
    "---\n",
    "\n",
    "Often it is annoying to have to memorize what the codes mean for columns, or reference the codebook whenever I want to know the meaning of a variable. It often makes sense to rename columns that are not descriptive.\n",
    "\n",
    "There is more than one way to do this, but one easy way is to use the `.rename()` function.\n"
   ]
  },
  {
   "cell_type": "code",
   "execution_count": 83,
   "metadata": {},
   "outputs": [
    {
     "data": {
      "text/plain": [
       "Index(['AuthenticationPackage', 'Destination', 'DomainName', 'EventID',\n",
       "       'FailureReason', 'LogHost', 'LogonID', 'LogonType',\n",
       "       'LogonTypeDescription', 'ParentProcessID', 'ParentProcessName',\n",
       "       'ProcessID', 'ProcessName', 'ServiceName', 'Source', 'Status',\n",
       "       'SubjectDomainName', 'SubjectLogonID', 'SubjectUserName', 'Time',\n",
       "       'UserName'],\n",
       "      dtype='object')"
      ]
     },
     "execution_count": 83,
     "metadata": {},
     "output_type": "execute_result"
    }
   ],
   "source": [
    "# The dfhost columns are already well-named. No change needed.\n",
    "\n",
    "dfdomains.columns"
   ]
  },
  {
   "cell_type": "code",
   "execution_count": 22,
   "metadata": {
    "collapsed": false
   },
   "outputs": [
    {
     "data": {
      "text/plain": [
       "Index(['Time', 'SrcDevice', 'DstDevice', 'SrcPackets', 'DstPackets',\n",
       "       'SrcBytes', 'DstBytes'],\n",
       "      dtype='object')"
      ]
     },
     "execution_count": 22,
     "metadata": {},
     "output_type": "execute_result"
    }
   ],
   "source": [
    "# I named the columns when I created the dfnet DataFrame (which the dfpnb DataFrame)\n",
    "#     is based on, so this step is not necessary.\n",
    "\n",
    "dfpnb.columns"
   ]
  },
  {
   "cell_type": "markdown",
   "metadata": {},
   "source": [
    "<a id='describe'></a>\n",
    "\n",
    "### 6. Describe the summary statistics for the columns\n",
    "\n",
    "---\n",
    "\n",
    "The `.describe()` function gives summary statistics for each of your variables. What are some, if any, oddities you notice about the variables based on this output?"
   ]
  },
  {
   "cell_type": "code",
   "execution_count": 88,
   "metadata": {},
   "outputs": [],
   "source": [
    "# For each of my primary DataFrames, I evaluated the summary statistics from two\n",
    "#     perspectives: \n",
    "#     * numerical values (generically represented by the numpy number types)\n",
    "#     * string values (generically represented by the pandas object type)\n"
   ]
  },
  {
   "cell_type": "code",
   "execution_count": 84,
   "metadata": {},
   "outputs": [
    {
     "data": {
      "text/html": [
       "<div>\n",
       "<style scoped>\n",
       "    .dataframe tbody tr th:only-of-type {\n",
       "        vertical-align: middle;\n",
       "    }\n",
       "\n",
       "    .dataframe tbody tr th {\n",
       "        vertical-align: top;\n",
       "    }\n",
       "\n",
       "    .dataframe thead th {\n",
       "        text-align: right;\n",
       "    }\n",
       "</style>\n",
       "<table border=\"1\" class=\"dataframe\">\n",
       "  <thead>\n",
       "    <tr style=\"text-align: right;\">\n",
       "      <th></th>\n",
       "      <th>count</th>\n",
       "      <th>mean</th>\n",
       "      <th>std</th>\n",
       "      <th>min</th>\n",
       "      <th>25%</th>\n",
       "      <th>50%</th>\n",
       "      <th>75%</th>\n",
       "      <th>max</th>\n",
       "    </tr>\n",
       "  </thead>\n",
       "  <tbody>\n",
       "    <tr>\n",
       "      <th>EventID</th>\n",
       "      <td>209818.0</td>\n",
       "      <td>4.667792e+03</td>\n",
       "      <td>46.702380</td>\n",
       "      <td>4624.0</td>\n",
       "      <td>4634.0</td>\n",
       "      <td>4648.0</td>\n",
       "      <td>4688.0</td>\n",
       "      <td>4803.0</td>\n",
       "    </tr>\n",
       "    <tr>\n",
       "      <th>LogonType</th>\n",
       "      <td>99334.0</td>\n",
       "      <td>2.997624e+00</td>\n",
       "      <td>0.407976</td>\n",
       "      <td>2.0</td>\n",
       "      <td>3.0</td>\n",
       "      <td>3.0</td>\n",
       "      <td>3.0</td>\n",
       "      <td>9.0</td>\n",
       "    </tr>\n",
       "    <tr>\n",
       "      <th>Time</th>\n",
       "      <td>209818.0</td>\n",
       "      <td>7.689781e+06</td>\n",
       "      <td>112.481850</td>\n",
       "      <td>7689600.0</td>\n",
       "      <td>7689679.0</td>\n",
       "      <td>7689784.0</td>\n",
       "      <td>7689883.0</td>\n",
       "      <td>7689968.0</td>\n",
       "    </tr>\n",
       "  </tbody>\n",
       "</table>\n",
       "</div>"
      ],
      "text/plain": [
       "              count          mean         std        min        25%  \\\n",
       "EventID    209818.0  4.667792e+03   46.702380     4624.0     4634.0   \n",
       "LogonType   99334.0  2.997624e+00    0.407976        2.0        3.0   \n",
       "Time       209818.0  7.689781e+06  112.481850  7689600.0  7689679.0   \n",
       "\n",
       "                 50%        75%        max  \n",
       "EventID       4648.0     4688.0     4803.0  \n",
       "LogonType        3.0        3.0        9.0  \n",
       "Time       7689784.0  7689883.0  7689968.0  "
      ]
     },
     "execution_count": 84,
     "metadata": {},
     "output_type": "execute_result"
    }
   ],
   "source": [
    "dfdomains.describe(include=np.number).T"
   ]
  },
  {
   "cell_type": "code",
   "execution_count": 85,
   "metadata": {},
   "outputs": [
    {
     "data": {
      "text/html": [
       "<div>\n",
       "<style scoped>\n",
       "    .dataframe tbody tr th:only-of-type {\n",
       "        vertical-align: middle;\n",
       "    }\n",
       "\n",
       "    .dataframe tbody tr th {\n",
       "        vertical-align: top;\n",
       "    }\n",
       "\n",
       "    .dataframe thead th {\n",
       "        text-align: right;\n",
       "    }\n",
       "</style>\n",
       "<table border=\"1\" class=\"dataframe\">\n",
       "  <thead>\n",
       "    <tr style=\"text-align: right;\">\n",
       "      <th></th>\n",
       "      <th>count</th>\n",
       "      <th>unique</th>\n",
       "      <th>top</th>\n",
       "      <th>freq</th>\n",
       "    </tr>\n",
       "  </thead>\n",
       "  <tbody>\n",
       "    <tr>\n",
       "      <th>AuthenticationPackage</th>\n",
       "      <td>64126</td>\n",
       "      <td>4</td>\n",
       "      <td>Kerberos</td>\n",
       "      <td>38898</td>\n",
       "    </tr>\n",
       "    <tr>\n",
       "      <th>Destination</th>\n",
       "      <td>6171</td>\n",
       "      <td>97</td>\n",
       "      <td>Comp457365</td>\n",
       "      <td>2990</td>\n",
       "    </tr>\n",
       "    <tr>\n",
       "      <th>DomainName</th>\n",
       "      <td>209818</td>\n",
       "      <td>4</td>\n",
       "      <td>Domain001</td>\n",
       "      <td>208661</td>\n",
       "    </tr>\n",
       "    <tr>\n",
       "      <th>FailureReason</th>\n",
       "      <td>525</td>\n",
       "      <td>4</td>\n",
       "      <td>An Error occured during Logon.</td>\n",
       "      <td>266</td>\n",
       "    </tr>\n",
       "    <tr>\n",
       "      <th>LogHost</th>\n",
       "      <td>209818</td>\n",
       "      <td>7507</td>\n",
       "      <td>ActiveDirectory</td>\n",
       "      <td>78212</td>\n",
       "    </tr>\n",
       "    <tr>\n",
       "      <th>LogonID</th>\n",
       "      <td>184499</td>\n",
       "      <td>57836</td>\n",
       "      <td>0x3e7</td>\n",
       "      <td>59939</td>\n",
       "    </tr>\n",
       "    <tr>\n",
       "      <th>LogonTypeDescription</th>\n",
       "      <td>99334</td>\n",
       "      <td>6</td>\n",
       "      <td>Network</td>\n",
       "      <td>95795</td>\n",
       "    </tr>\n",
       "    <tr>\n",
       "      <th>ParentProcessID</th>\n",
       "      <td>63594</td>\n",
       "      <td>5023</td>\n",
       "      <td>0x12f4</td>\n",
       "      <td>2062</td>\n",
       "    </tr>\n",
       "    <tr>\n",
       "      <th>ParentProcessName</th>\n",
       "      <td>63594</td>\n",
       "      <td>173</td>\n",
       "      <td>svchost</td>\n",
       "      <td>19192</td>\n",
       "    </tr>\n",
       "    <tr>\n",
       "      <th>ProcessID</th>\n",
       "      <td>73026</td>\n",
       "      <td>7880</td>\n",
       "      <td>0x2860</td>\n",
       "      <td>3234</td>\n",
       "    </tr>\n",
       "    <tr>\n",
       "      <th>ProcessName</th>\n",
       "      <td>73026</td>\n",
       "      <td>367</td>\n",
       "      <td>cmd.exe</td>\n",
       "      <td>9232</td>\n",
       "    </tr>\n",
       "    <tr>\n",
       "      <th>ServiceName</th>\n",
       "      <td>7644</td>\n",
       "      <td>512</td>\n",
       "      <td>Comp916004$</td>\n",
       "      <td>2190</td>\n",
       "    </tr>\n",
       "    <tr>\n",
       "      <th>Source</th>\n",
       "      <td>65087</td>\n",
       "      <td>5438</td>\n",
       "      <td>Comp916004</td>\n",
       "      <td>10386</td>\n",
       "    </tr>\n",
       "    <tr>\n",
       "      <th>Status</th>\n",
       "      <td>25090</td>\n",
       "      <td>6</td>\n",
       "      <td>0x0</td>\n",
       "      <td>24413</td>\n",
       "    </tr>\n",
       "    <tr>\n",
       "      <th>SubjectDomainName</th>\n",
       "      <td>6023</td>\n",
       "      <td>10</td>\n",
       "      <td>Domain001</td>\n",
       "      <td>5991</td>\n",
       "    </tr>\n",
       "    <tr>\n",
       "      <th>SubjectLogonID</th>\n",
       "      <td>6171</td>\n",
       "      <td>120</td>\n",
       "      <td>0x3e7</td>\n",
       "      <td>2479</td>\n",
       "    </tr>\n",
       "    <tr>\n",
       "      <th>SubjectUserName</th>\n",
       "      <td>6023</td>\n",
       "      <td>210</td>\n",
       "      <td>Administrator</td>\n",
       "      <td>2480</td>\n",
       "    </tr>\n",
       "    <tr>\n",
       "      <th>UserName</th>\n",
       "      <td>209818</td>\n",
       "      <td>10435</td>\n",
       "      <td>AppService</td>\n",
       "      <td>31765</td>\n",
       "    </tr>\n",
       "  </tbody>\n",
       "</table>\n",
       "</div>"
      ],
      "text/plain": [
       "                        count unique                             top    freq\n",
       "AuthenticationPackage   64126      4                        Kerberos   38898\n",
       "Destination              6171     97                      Comp457365    2990\n",
       "DomainName             209818      4                       Domain001  208661\n",
       "FailureReason             525      4  An Error occured during Logon.     266\n",
       "LogHost                209818   7507                 ActiveDirectory   78212\n",
       "LogonID                184499  57836                           0x3e7   59939\n",
       "LogonTypeDescription    99334      6                         Network   95795\n",
       "ParentProcessID         63594   5023                          0x12f4    2062\n",
       "ParentProcessName       63594    173                         svchost   19192\n",
       "ProcessID               73026   7880                          0x2860    3234\n",
       "ProcessName             73026    367                         cmd.exe    9232\n",
       "ServiceName              7644    512                     Comp916004$    2190\n",
       "Source                  65087   5438                      Comp916004   10386\n",
       "Status                  25090      6                             0x0   24413\n",
       "SubjectDomainName        6023     10                       Domain001    5991\n",
       "SubjectLogonID           6171    120                           0x3e7    2479\n",
       "SubjectUserName          6023    210                   Administrator    2480\n",
       "UserName               209818  10435                      AppService   31765"
      ]
     },
     "execution_count": 85,
     "metadata": {},
     "output_type": "execute_result"
    }
   ],
   "source": [
    "dfdomains.describe(include=object).T"
   ]
  },
  {
   "cell_type": "code",
   "execution_count": 25,
   "metadata": {
    "collapsed": false
   },
   "outputs": [
    {
     "data": {
      "text/html": [
       "<div>\n",
       "<style scoped>\n",
       "    .dataframe tbody tr th:only-of-type {\n",
       "        vertical-align: middle;\n",
       "    }\n",
       "\n",
       "    .dataframe tbody tr th {\n",
       "        vertical-align: top;\n",
       "    }\n",
       "\n",
       "    .dataframe thead th {\n",
       "        text-align: right;\n",
       "    }\n",
       "</style>\n",
       "<table border=\"1\" class=\"dataframe\">\n",
       "  <thead>\n",
       "    <tr style=\"text-align: right;\">\n",
       "      <th></th>\n",
       "      <th>count</th>\n",
       "      <th>mean</th>\n",
       "      <th>std</th>\n",
       "      <th>min</th>\n",
       "      <th>25%</th>\n",
       "      <th>50%</th>\n",
       "      <th>75%</th>\n",
       "      <th>max</th>\n",
       "    </tr>\n",
       "  </thead>\n",
       "  <tbody>\n",
       "    <tr>\n",
       "      <th>Time</th>\n",
       "      <td>680000.0</td>\n",
       "      <td>7.689771e+06</td>\n",
       "      <td>1.101649e+02</td>\n",
       "      <td>7689600.0</td>\n",
       "      <td>7689672.0</td>\n",
       "      <td>7689761.0</td>\n",
       "      <td>7689869.0</td>\n",
       "      <td>7.689971e+06</td>\n",
       "    </tr>\n",
       "    <tr>\n",
       "      <th>SrcPackets</th>\n",
       "      <td>680000.0</td>\n",
       "      <td>1.892920e+02</td>\n",
       "      <td>4.170094e+04</td>\n",
       "      <td>0.0</td>\n",
       "      <td>1.0</td>\n",
       "      <td>4.0</td>\n",
       "      <td>6.0</td>\n",
       "      <td>1.709551e+07</td>\n",
       "    </tr>\n",
       "    <tr>\n",
       "      <th>DstPackets</th>\n",
       "      <td>680000.0</td>\n",
       "      <td>2.647250e+02</td>\n",
       "      <td>7.691827e+04</td>\n",
       "      <td>0.0</td>\n",
       "      <td>0.0</td>\n",
       "      <td>1.0</td>\n",
       "      <td>5.0</td>\n",
       "      <td>3.618671e+07</td>\n",
       "    </tr>\n",
       "    <tr>\n",
       "      <th>SrcBytes</th>\n",
       "      <td>680000.0</td>\n",
       "      <td>3.424752e+04</td>\n",
       "      <td>5.917214e+06</td>\n",
       "      <td>0.0</td>\n",
       "      <td>74.0</td>\n",
       "      <td>281.0</td>\n",
       "      <td>1082.0</td>\n",
       "      <td>2.579655e+09</td>\n",
       "    </tr>\n",
       "    <tr>\n",
       "      <th>DstBytes</th>\n",
       "      <td>680000.0</td>\n",
       "      <td>1.901783e+05</td>\n",
       "      <td>5.497951e+07</td>\n",
       "      <td>0.0</td>\n",
       "      <td>0.0</td>\n",
       "      <td>60.0</td>\n",
       "      <td>772.0</td>\n",
       "      <td>2.766917e+10</td>\n",
       "    </tr>\n",
       "  </tbody>\n",
       "</table>\n",
       "</div>"
      ],
      "text/plain": [
       "               count          mean           std        min        25%  \\\n",
       "Time        680000.0  7.689771e+06  1.101649e+02  7689600.0  7689672.0   \n",
       "SrcPackets  680000.0  1.892920e+02  4.170094e+04        0.0        1.0   \n",
       "DstPackets  680000.0  2.647250e+02  7.691827e+04        0.0        0.0   \n",
       "SrcBytes    680000.0  3.424752e+04  5.917214e+06        0.0       74.0   \n",
       "DstBytes    680000.0  1.901783e+05  5.497951e+07        0.0        0.0   \n",
       "\n",
       "                  50%        75%           max  \n",
       "Time        7689761.0  7689869.0  7.689971e+06  \n",
       "SrcPackets        4.0        6.0  1.709551e+07  \n",
       "DstPackets        1.0        5.0  3.618671e+07  \n",
       "SrcBytes        281.0     1082.0  2.579655e+09  \n",
       "DstBytes         60.0      772.0  2.766917e+10  "
      ]
     },
     "execution_count": 25,
     "metadata": {},
     "output_type": "execute_result"
    }
   ],
   "source": [
    "dfpnb.describe(include=np.number).T"
   ]
  },
  {
   "cell_type": "code",
   "execution_count": 26,
   "metadata": {},
   "outputs": [
    {
     "data": {
      "text/html": [
       "<div>\n",
       "<style scoped>\n",
       "    .dataframe tbody tr th:only-of-type {\n",
       "        vertical-align: middle;\n",
       "    }\n",
       "\n",
       "    .dataframe tbody tr th {\n",
       "        vertical-align: top;\n",
       "    }\n",
       "\n",
       "    .dataframe thead th {\n",
       "        text-align: right;\n",
       "    }\n",
       "</style>\n",
       "<table border=\"1\" class=\"dataframe\">\n",
       "  <thead>\n",
       "    <tr style=\"text-align: right;\">\n",
       "      <th></th>\n",
       "      <th>count</th>\n",
       "      <th>unique</th>\n",
       "      <th>top</th>\n",
       "      <th>freq</th>\n",
       "    </tr>\n",
       "  </thead>\n",
       "  <tbody>\n",
       "    <tr>\n",
       "      <th>SrcDevice</th>\n",
       "      <td>680000</td>\n",
       "      <td>11692</td>\n",
       "      <td>Comp030334</td>\n",
       "      <td>52527</td>\n",
       "    </tr>\n",
       "    <tr>\n",
       "      <th>DstDevice</th>\n",
       "      <td>680000</td>\n",
       "      <td>6911</td>\n",
       "      <td>Comp275646</td>\n",
       "      <td>97682</td>\n",
       "    </tr>\n",
       "  </tbody>\n",
       "</table>\n",
       "</div>"
      ],
      "text/plain": [
       "            count unique         top   freq\n",
       "SrcDevice  680000  11692  Comp030334  52527\n",
       "DstDevice  680000   6911  Comp275646  97682"
      ]
     },
     "execution_count": 26,
     "metadata": {},
     "output_type": "execute_result"
    }
   ],
   "source": [
    "dfpnb.describe(include=object).T"
   ]
  },
  {
   "cell_type": "markdown",
   "metadata": {},
   "source": [
    "### 7. Plot variables with potential outliers using boxplots.\n",
    "\n",
    "---\n",
    "You can use the seaborn package to plot boxplots of the variables we have identified as potentially having outliers.\n",
    "\n",
    "Some notes on seaborn's boxplot keyword argument options:\n",
    "\n",
    "    orient: can be 'v' or 'h' for vertical and horizontal, respectively\n",
    "    fliersize: the size of the outlier points (pixels I think)\n",
    "    linewidth: the width of line outlining the boxplot\n",
    "    notch: show the confidence interval for the median (calculated by seaborn/plt.boxplot)\n",
    "    saturation: saturate the colors to an extent\n",
    "** What did you see and conclude out these boxplots?"
   ]
  },
  {
   "cell_type": "code",
   "execution_count": 29,
   "metadata": {
    "collapsed": true
   },
   "outputs": [
    {
     "data": {
      "image/png": "[encoded data removed]",
      "text/plain": [
       "<Figure size 432x288 with 1 Axes>"
      ]
     },
     "metadata": {},
     "output_type": "display_data"
    }
   ],
   "source": [
    "# I attempted to use a boxplot, but due to the scale and the variety of values, the results were not\n",
    "#     overwhelmingly useful for looking at the number of SrcPackets.\n",
    "# The other values are likely to have similar problems.\n",
    "# This not unexpected, based on the minimum, maximum, mean and standard deviation\n",
    "#     we saw for the various variables.\n",
    "\n",
    "ax = sns.boxplot(x='SrcPackets', data=dfpnb)"
   ]
  },
  {
   "cell_type": "code",
   "execution_count": null,
   "metadata": {
    "collapsed": true
   },
   "outputs": [],
   "source": [
    "\n"
   ]
  },
  {
   "cell_type": "markdown",
   "metadata": {},
   "source": [
    "### 8.Other relevants plots \n",
    "\n",
    "---\n",
    "What can you infer out of these additonal plots as related to your problem?"
   ]
  },
  {
   "cell_type": "code",
   "execution_count": 113,
   "metadata": {
    "collapsed": true
   },
   "outputs": [
    {
     "name": "stdout",
     "output_type": "stream",
     "text": [
      "[2.0, 3.0, 4.0, 7.0, 8.0, 9.0]\n",
      "2.0     2972\n",
      "3.0    95795\n",
      "4.0       23\n",
      "7.0        8\n",
      "8.0      535\n",
      "9.0        1\n",
      "Name: LogonType, dtype: int64\n"
     ]
    },
    {
     "data": {
      "text/plain": [
       "<matplotlib.axes._subplots.AxesSubplot at 0x10433f828>"
      ]
     },
     "execution_count": 113,
     "metadata": {},
     "output_type": "execute_result"
    },
    {
     "data": {
      "image/png": "[encoded data removed]",
      "text/plain": [
       "<Figure size 432x288 with 1 Axes>"
      ]
     },
     "metadata": {},
     "output_type": "display_data"
    }
   ],
   "source": [
    "# In considering possible plots, a visual representation of the number of \n",
    "#     LogonTypes seemed like a good place to experiment, but as the results show...\n",
    "#     the disparity in values renders the plot mostly useless.\n",
    "\n",
    "x = sorted(dfdomains.LogonType.dropna().unique())\n",
    "print(x)\n",
    "y = dfdomains.LogonType.value_counts().sort_index()\n",
    "print(y)\n",
    "sns.barplot(x=x, y=y, data=dfdomains, orient='v')"
   ]
  },
  {
   "cell_type": "markdown",
   "metadata": {},
   "source": [
    "\n",
    "<a id='standardization'></a>\n",
    "\n",
    "### 9. Standardizing variables\n",
    "\n",
    "---\n",
    "\n",
    "Rescaling variables is very common, and sometimes essential. For example, when we get to regularization of models the rescaling procedure becomes a requirement before fitting the model.\n",
    "\n",
    "Here we'll rescale the variables using a procedure called \"standardization\", which forces the distribution of each variable to have a mean of 0 and a standard deviation of 1.\n",
    "\n",
    "Standardization is not complicated:\n",
    "\n",
    "    standardized_variable = (variable - mean_of_variable) / std_dev_of_variable\n",
    "    \n",
    "Note: Nothing else is changed about the distribution of the variable. It doesn't become normally distributed.\n",
    "\n",
    "\n",
    "Also print out the mean and standard deviation of the original variable."
   ]
  },
  {
   "cell_type": "code",
   "execution_count": 32,
   "metadata": {
    "collapsed": false
   },
   "outputs": [
    {
     "name": "stdout",
     "output_type": "stream",
     "text": [
      "SrcPackets       189.291954\n",
      "DstPackets       264.725031\n",
      "SrcBytes       34247.516318\n",
      "DstBytes      190178.331859\n",
      "dtype: float64\n",
      "SrcPackets    4.170094e+04\n",
      "DstPackets    7.691827e+04\n",
      "SrcBytes      5.917214e+06\n",
      "DstBytes      5.497951e+07\n",
      "dtype: float64\n"
     ]
    }
   ],
   "source": [
    "# select the columns out of your dataframe to be standardized (usually it will be your input features)\n",
    "# X= df[['column1','column2', 'more if needed']]\n",
    "#check its mean and standard deviation before standardizing\n",
    "# X.mean()\n",
    "# X.std()\n",
    "\n",
    "X = dfpnb[['SrcPackets', 'DstPackets', 'SrcBytes', 'DstBytes']]\n",
    "print(X.mean())\n",
    "print(X.std())\n",
    "\n"
   ]
  },
  {
   "cell_type": "code",
   "execution_count": 33,
   "metadata": {
    "collapsed": false
   },
   "outputs": [
    {
     "name": "stdout",
     "output_type": "stream",
     "text": [
      "-1.72615190115e-19\n",
      "1.0\n"
     ]
    }
   ],
   "source": [
    "scaler = StandardScaler()\n",
    "X_standardized = scaler.fit_transform(X)\n",
    "#check its mean and standard deviation after standardizing\n",
    "#X_standardized.mean()\n",
    "# X_standardized.std()\n",
    "#What difference did you see? Describe here\n",
    "\n",
    "print(X_standardized.mean())\n",
    "print(X_standardized.std())\n"
   ]
  },
  {
   "cell_type": "code",
   "execution_count": 41,
   "metadata": {},
   "outputs": [
    {
     "data": {
      "text/html": [
       "<div>\n",
       "<style scoped>\n",
       "    .dataframe tbody tr th:only-of-type {\n",
       "        vertical-align: middle;\n",
       "    }\n",
       "\n",
       "    .dataframe tbody tr th {\n",
       "        vertical-align: top;\n",
       "    }\n",
       "\n",
       "    .dataframe thead th {\n",
       "        text-align: right;\n",
       "    }\n",
       "</style>\n",
       "<table border=\"1\" class=\"dataframe\">\n",
       "  <thead>\n",
       "    <tr style=\"text-align: right;\">\n",
       "      <th></th>\n",
       "      <th>0</th>\n",
       "      <th>1</th>\n",
       "      <th>2</th>\n",
       "      <th>3</th>\n",
       "    </tr>\n",
       "  </thead>\n",
       "  <tbody>\n",
       "    <tr>\n",
       "      <th>0</th>\n",
       "      <td>-0.004515</td>\n",
       "      <td>-0.003442</td>\n",
       "      <td>-0.005775</td>\n",
       "      <td>-0.003459</td>\n",
       "    </tr>\n",
       "    <tr>\n",
       "      <th>1</th>\n",
       "      <td>-0.004515</td>\n",
       "      <td>-0.003442</td>\n",
       "      <td>-0.005775</td>\n",
       "      <td>-0.003459</td>\n",
       "    </tr>\n",
       "    <tr>\n",
       "      <th>2</th>\n",
       "      <td>-0.004515</td>\n",
       "      <td>-0.003442</td>\n",
       "      <td>-0.005775</td>\n",
       "      <td>-0.003459</td>\n",
       "    </tr>\n",
       "    <tr>\n",
       "      <th>3</th>\n",
       "      <td>-0.004539</td>\n",
       "      <td>-0.003403</td>\n",
       "      <td>-0.005788</td>\n",
       "      <td>-0.003456</td>\n",
       "    </tr>\n",
       "    <tr>\n",
       "      <th>4</th>\n",
       "      <td>-0.004515</td>\n",
       "      <td>-0.003442</td>\n",
       "      <td>-0.005746</td>\n",
       "      <td>-0.003459</td>\n",
       "    </tr>\n",
       "  </tbody>\n",
       "</table>\n",
       "</div>"
      ],
      "text/plain": [
       "          0         1         2         3\n",
       "0 -0.004515 -0.003442 -0.005775 -0.003459\n",
       "1 -0.004515 -0.003442 -0.005775 -0.003459\n",
       "2 -0.004515 -0.003442 -0.005775 -0.003459\n",
       "3 -0.004539 -0.003403 -0.005788 -0.003456\n",
       "4 -0.004515 -0.003442 -0.005746 -0.003459"
      ]
     },
     "execution_count": 41,
     "metadata": {},
     "output_type": "execute_result"
    }
   ],
   "source": [
    "# I was curious about what we get out of the scaler.fit_transform function, so\n",
    "#     I displayed the help documentation, which indicated that\n",
    "#     the function returns a numpy array with the same shape as the input\n",
    "#     X.\n",
    "# But, Jupyter Notebooks tend to not display those as well as DataFrames, so\n",
    "#     just for kicks, I displayed the X_standardized array as a DataFrame\n",
    "\n",
    "\n",
    "pd.DataFrame(X_standardized).head()"
   ]
  },
  {
   "cell_type": "markdown",
   "metadata": {},
   "source": [
    "### 10. Correlation matrices\n",
    "\n",
    "---\n",
    "\n",
    "A great way to easily get a feel for linear relationships between your variables is with a correlation matrix.\n",
    "\n"
   ]
  },
  {
   "cell_type": "markdown",
   "metadata": {},
   "source": [
    "####  Correlation\n",
    "\n",
    "\n",
    "A much more common metric, and one directly calculable from the covariance, is the correlation.\n",
    "\n",
    "Again, let $X$ and $Y$ be our two variables, with covariance $cov(X, Y)$ that we calculated above:\n",
    "\n",
    "### $$ \\text{pearson correlation}\\;r = cor(X, Y) =\\frac{cov(X, Y)}{std(X)std(Y)}$$\n",
    "\n"
   ]
  },
  {
   "cell_type": "markdown",
   "metadata": {},
   "source": [
    "#### The correlation matrix\n",
    "\n",
    "We can see the correlation between all the numeric variables in our dataset by using pandas DataFrame's built in `.corr()` function. Use it below on the boston dataset.\n",
    "\n",
    "It is very useful to get a feel for what is related and what is not, which can help you decide what is worth investigating further (though with a lot of variables, the matrix can be a bit overwhelming...)"
   ]
  },
  {
   "cell_type": "code",
   "execution_count": 42,
   "metadata": {
    "collapsed": true
   },
   "outputs": [
    {
     "data": {
      "text/html": [
       "<div>\n",
       "<style scoped>\n",
       "    .dataframe tbody tr th:only-of-type {\n",
       "        vertical-align: middle;\n",
       "    }\n",
       "\n",
       "    .dataframe tbody tr th {\n",
       "        vertical-align: top;\n",
       "    }\n",
       "\n",
       "    .dataframe thead th {\n",
       "        text-align: right;\n",
       "    }\n",
       "</style>\n",
       "<table border=\"1\" class=\"dataframe\">\n",
       "  <thead>\n",
       "    <tr style=\"text-align: right;\">\n",
       "      <th></th>\n",
       "      <th>Time</th>\n",
       "      <th>SrcPackets</th>\n",
       "      <th>DstPackets</th>\n",
       "      <th>SrcBytes</th>\n",
       "      <th>DstBytes</th>\n",
       "    </tr>\n",
       "  </thead>\n",
       "  <tbody>\n",
       "    <tr>\n",
       "      <th>Time</th>\n",
       "      <td>1.000000</td>\n",
       "      <td>0.001082</td>\n",
       "      <td>0.001079</td>\n",
       "      <td>-0.000462</td>\n",
       "      <td>0.001643</td>\n",
       "    </tr>\n",
       "    <tr>\n",
       "      <th>SrcPackets</th>\n",
       "      <td>0.001082</td>\n",
       "      <td>1.000000</td>\n",
       "      <td>0.741773</td>\n",
       "      <td>0.617330</td>\n",
       "      <td>0.797988</td>\n",
       "    </tr>\n",
       "    <tr>\n",
       "      <th>DstPackets</th>\n",
       "      <td>0.001079</td>\n",
       "      <td>0.741773</td>\n",
       "      <td>1.000000</td>\n",
       "      <td>0.273738</td>\n",
       "      <td>0.936867</td>\n",
       "    </tr>\n",
       "    <tr>\n",
       "      <th>SrcBytes</th>\n",
       "      <td>-0.000462</td>\n",
       "      <td>0.617330</td>\n",
       "      <td>0.273738</td>\n",
       "      <td>1.000000</td>\n",
       "      <td>0.293648</td>\n",
       "    </tr>\n",
       "    <tr>\n",
       "      <th>DstBytes</th>\n",
       "      <td>0.001643</td>\n",
       "      <td>0.797988</td>\n",
       "      <td>0.936867</td>\n",
       "      <td>0.293648</td>\n",
       "      <td>1.000000</td>\n",
       "    </tr>\n",
       "  </tbody>\n",
       "</table>\n",
       "</div>"
      ],
      "text/plain": [
       "                Time  SrcPackets  DstPackets  SrcBytes  DstBytes\n",
       "Time        1.000000    0.001082    0.001079 -0.000462  0.001643\n",
       "SrcPackets  0.001082    1.000000    0.741773  0.617330  0.797988\n",
       "DstPackets  0.001079    0.741773    1.000000  0.273738  0.936867\n",
       "SrcBytes   -0.000462    0.617330    0.273738  1.000000  0.293648\n",
       "DstBytes    0.001643    0.797988    0.936867  0.293648  1.000000"
      ]
     },
     "execution_count": 42,
     "metadata": {},
     "output_type": "execute_result"
    }
   ],
   "source": [
    "# The strongest correlations in this output are between the number of Src packets and the\n",
    "#     number of Src bytes OR between the number of Dst packets and the number of Dst bytes\n",
    "\n",
    "# This relationship makes sense: one might logically conclude that the more packets you \n",
    "#     send, the more bytes you will also be sending.\n",
    "\n",
    "# NOTE: theoretically, it is possible to send small numbers of very large packets \n",
    "#     and thus throw off the curve, that does not appear to be the case here.\n",
    "\n",
    "dfpnb.corr()"
   ]
  },
  {
   "cell_type": "markdown",
   "metadata": {},
   "source": [
    "**Seaborn also has a great way of showing this to us visually, if colors stick out to you more than decimol values.**"
   ]
  },
  {
   "cell_type": "code",
   "execution_count": 43,
   "metadata": {
    "collapsed": false
   },
   "outputs": [
    {
     "data": {
      "text/plain": [
       "<matplotlib.axes._subplots.AxesSubplot at 0x10a93fa90>"
      ]
     },
     "execution_count": 43,
     "metadata": {},
     "output_type": "execute_result"
    },
    {
     "data": {
      "image/png": "[encoded data removed]",
      "text/plain": [
       "<Figure size 432x288 with 2 Axes>"
      ]
     },
     "metadata": {},
     "output_type": "display_data"
    }
   ],
   "source": [
    "# The visual representation did make me curious about the relationship between the Src bytes \n",
    "#     the Dst bytes... the heatmap implies that there is very little correlation between the \n",
    "#     Src bytes and the Dst bytes ... i.e. \"talkative\" Src computers may OR may not be \n",
    "#     paired with talkative Dst computers.\n",
    "#    \n",
    "sns.heatmap(dfpnb.corr())"
   ]
  },
  {
   "cell_type": "code",
   "execution_count": null,
   "metadata": {
    "collapsed": true
   },
   "outputs": [],
   "source": []
  },
  {
   "cell_type": "markdown",
   "metadata": {},
   "source": [
    "## more EDA related to your dataset here:"
   ]
  },
  {
   "cell_type": "code",
   "execution_count": null,
   "metadata": {
    "collapsed": true
   },
   "outputs": [],
   "source": [
    "# I mixed a variety of EDA steps into the material above."
   ]
  },
  {
   "cell_type": "markdown",
   "metadata": {},
   "source": [
    "## Describe has this EDA helped you to understand and get ready for your next step in your capstone project. How?"
   ]
  },
  {
   "cell_type": "code",
   "execution_count": null,
   "metadata": {
    "collapsed": true
   },
   "outputs": [],
   "source": [
    "# EDA on this data has helped me understand the types of data found in my two datasets, the \n",
    "#     relationships between some of the data and provided some additional ideas on where\n",
    "#     I might want to go from here, in terms of next steps.\n",
    "# In particular, I want to spend some considering what questions the data can answer\n",
    "#     how the data might be visualized (I would like to explore some additional plots), and\n",
    "#     I would like to see what can be accomplished by combining/correlating the data from\n",
    "#     the two datasets."
   ]
  },
  {
   "cell_type": "code",
   "execution_count": null,
   "metadata": {},
   "outputs": [],
   "source": []
  },
  {
   "cell_type": "code",
   "execution_count": null,
   "metadata": {},
   "outputs": [],
   "source": []
  },
  {
   "cell_type": "markdown",
   "metadata": {},
   "source": [
    "# Backup code for processing the original data:"
   ]
  },
  {
   "cell_type": "raw",
   "metadata": {},
   "source": [
    "# Read in data from the original file and save it to a new, smaller file.\n",
    "# NOTE: cell is saved in RAW format to prevent execution.\n",
    "\n",
    "import time\n",
    "\n",
    "max_records = 1000\n",
    "HOSTDATA = 'wls_day-90'\n",
    "\n",
    "df = pd.read_json(HOSTDATA, lines=True, chunksize=max_records)\n",
    "filtered_data = pd.DataFrame() # Initialize the dataframe\n",
    "\n",
    "start = time.time()\n",
    "try:\n",
    "    for index, df_chunk in enumerate(df):\n",
    "        filtered_data = pd.concat([filtered_data, df_chunk])\n",
    "        # print('success')\n",
    "        if index > 215:\n",
    "            break\n",
    "        \n",
    "except OSError:\n",
    "    print ('\\nEPIC FAIL')\n",
    "    print(index)\n",
    "\n",
    "filtered_data.to_json('wls_day-90_250K', lines=True, orient='records')\n",
    "\n",
    "print('Total processing time:', (time.time() - start)/60)  "
   ]
  },
  {
   "cell_type": "raw",
   "metadata": {},
   "source": [
    "len(filtered_data)"
   ]
  },
  {
   "cell_type": "raw",
   "metadata": {},
   "source": [
    "filtered_data.head(2)"
   ]
  },
  {
   "cell_type": "raw",
   "metadata": {},
   "source": [
    "print('total time slice:', filtered_data.Time.max() - filtered_data.Time.min(), 'seconds')\n",
    "print(filtered_data.Time.max(), filtered_data.Time.min())"
   ]
  },
  {
   "cell_type": "raw",
   "metadata": {},
   "source": [
    "names = ['time',\n",
    "         'duration',\n",
    "         'srcdevice',\n",
    "         'dstdevice',\n",
    "         'protocol',\n",
    "         'srcport',\n",
    "         'dstport',\n",
    "         'srcpackets',\n",
    "         'dstpackets',\n",
    "         'srcbytes',\n",
    "         'dstbytes',\n",
    "        ]\n",
    "\n",
    "dfnet = pd.read_csv('netflow_day-90', names=names, nrows=680000)\n",
    "dfnet.to_csv('netflow_day-90_x')"
   ]
  },
  {
   "cell_type": "raw",
   "metadata": {},
   "source": [
    "print('total time slice:', dfnet.time.max() - dfnet.time.min(), 'seconds')\n",
    "print(dfnet.time.max(), dfnet.time.min())"
   ]
  },
  {
   "cell_type": "raw",
   "metadata": {},
   "source": [
    "len(dfnet)"
   ]
  },
  {
   "cell_type": "code",
   "execution_count": null,
   "metadata": {},
   "outputs": [],
   "source": [
    "# If you find a pattern of corrupted content in the column marked as object type, \n",
    "# you may replace it with some meaningful numerical content\n",
    "# df['column_name'] = [ float(x.replace('old','new')) for x in df['column_name']]\n",
    "\n",
    "# The above suggestion might be slower than using the builtin speed characteristics that come\n",
    "#     from applying pandas vectorization abilities.\n",
    "# In addition, the above technique only allows you to replace one string with another string\n",
    "#     at a time, whereas using the .map() function allows you to replace as many strings\n",
    "#     with numbers as you need.\n",
    "\n",
    "map_dict = {'foo': 1, 'bar': 2}\n",
    "\n",
    "s = pd.Series(['foo', 'foo', 'bar', np.nan])\n",
    "\n",
    "s.map(map_dict)"
   ]
  },
  {
   "cell_type": "code",
   "execution_count": null,
   "metadata": {},
   "outputs": [],
   "source": []
  }
 ],
 "metadata": {
  "anaconda-cloud": {},
  "kernelspec": {
   "display_name": "Python 3",
   "language": "python",
   "name": "python3"
  },
  "language_info": {
   "codemirror_mode": {
    "name": "ipython",
    "version": 3
   },
   "file_extension": ".py",
   "mimetype": "text/x-python",
   "name": "python",
   "nbconvert_exporter": "python",
   "pygments_lexer": "ipython3",
   "version": "3.6.5"
  }
 },
 "nbformat": 4,
 "nbformat_minor": 2
}
